{
 "cells": [
  {
   "cell_type": "markdown",
   "id": "6be4e5b3",
   "metadata": {},
   "source": [
    "\n",
    "### Project description: \n",
    "This is a market analysis of open-source data on restaurants in Los Angeles, the purpose of this analysis is to help explain to investors the potential profitability in opening a small robot-run cafe in Los Angeles "
   ]
  },
  {
   "cell_type": "markdown",
   "id": "8dda4349",
   "metadata": {},
   "source": [
    "## Step 1. Download the data and prepare it for analysis\n",
    "<b> Download the data on restaurants in LA. Make sure that the data type for each column is correct and that there are no missing values or duplicates. Process them if necessary. </b>\n"
   ]
  },
  {
   "cell_type": "code",
   "execution_count": 1,
   "id": "643c1c6d",
   "metadata": {},
   "outputs": [],
   "source": [
    "import pandas as pd\n",
    "import numpy as np\n",
    "from datetime import datetime\n",
    "import seaborn as sns\n",
    "import matplotlib.pyplot as plt\n",
    "import random\n",
    "import math\n",
    "from scipy.stats import stats\n",
    "from statsmodels.stats.proportion import proportions_ztest\n",
    "import seaborn as sns"
   ]
  },
  {
   "cell_type": "markdown",
   "id": "864787ff",
   "metadata": {},
   "source": [
    "\n",
    "\n",
    "\n",
    "Importing all the necessary libraries"
   ]
  },
  {
   "cell_type": "code",
   "execution_count": 2,
   "id": "39911fbf",
   "metadata": {},
   "outputs": [],
   "source": [
    "try:    \n",
    "    data = pd.read_csv('rest_data_us.csv')\n",
    "except:\n",
    "    data = pd.read_csv('/datasets/rest_data_us.csv')"
   ]
  },
  {
   "cell_type": "code",
   "execution_count": 3,
   "id": "d27ca473",
   "metadata": {},
   "outputs": [
    {
     "name": "stdout",
     "output_type": "stream",
     "text": [
      "Requirement already satisfied: usaddress in c:\\users\\tatyana\\anaconda3\\lib\\site-packages (0.5.10)\n",
      "Requirement already satisfied: probableparsing in c:\\users\\tatyana\\anaconda3\\lib\\site-packages (from usaddress) (0.0.1)\n",
      "Requirement already satisfied: python-crfsuite>=0.7 in c:\\users\\tatyana\\anaconda3\\lib\\site-packages (from usaddress) (0.9.7)\n",
      "Requirement already satisfied: future>=0.14 in c:\\users\\tatyana\\anaconda3\\lib\\site-packages (from usaddress) (0.18.2)\n"
     ]
    }
   ],
   "source": [
    "!pip install usaddress\n",
    "import usaddress\n"
   ]
  },
  {
   "cell_type": "markdown",
   "id": "b77b091f",
   "metadata": {},
   "source": [
    "Examining the data, looking for NaN's and abnormal values. \n",
    "Since on question number 6 we need to work on the street name data, I will address it on that section. \n",
    "The chain column has 3 NaN values, they will be addressed in question number 3."
   ]
  },
  {
   "cell_type": "code",
   "execution_count": 4,
   "id": "83e30852",
   "metadata": {},
   "outputs": [
    {
     "data": {
      "text/html": [
       "<div>\n",
       "<style scoped>\n",
       "    .dataframe tbody tr th:only-of-type {\n",
       "        vertical-align: middle;\n",
       "    }\n",
       "\n",
       "    .dataframe tbody tr th {\n",
       "        vertical-align: top;\n",
       "    }\n",
       "\n",
       "    .dataframe thead th {\n",
       "        text-align: right;\n",
       "    }\n",
       "</style>\n",
       "<table border=\"1\" class=\"dataframe\">\n",
       "  <thead>\n",
       "    <tr style=\"text-align: right;\">\n",
       "      <th></th>\n",
       "      <th>id</th>\n",
       "      <th>object_name</th>\n",
       "      <th>address</th>\n",
       "      <th>chain</th>\n",
       "      <th>object_type</th>\n",
       "      <th>number</th>\n",
       "    </tr>\n",
       "  </thead>\n",
       "  <tbody>\n",
       "    <tr>\n",
       "      <th>0</th>\n",
       "      <td>11786</td>\n",
       "      <td>HABITAT COFFEE SHOP</td>\n",
       "      <td>3708 N EAGLE ROCK BLVD</td>\n",
       "      <td>False</td>\n",
       "      <td>Cafe</td>\n",
       "      <td>26</td>\n",
       "    </tr>\n",
       "    <tr>\n",
       "      <th>1</th>\n",
       "      <td>11787</td>\n",
       "      <td>REILLY'S</td>\n",
       "      <td>100 WORLD WAY # 120</td>\n",
       "      <td>False</td>\n",
       "      <td>Restaurant</td>\n",
       "      <td>9</td>\n",
       "    </tr>\n",
       "    <tr>\n",
       "      <th>2</th>\n",
       "      <td>11788</td>\n",
       "      <td>STREET CHURROS</td>\n",
       "      <td>6801 HOLLYWOOD BLVD # 253</td>\n",
       "      <td>False</td>\n",
       "      <td>Fast Food</td>\n",
       "      <td>20</td>\n",
       "    </tr>\n",
       "    <tr>\n",
       "      <th>3</th>\n",
       "      <td>11789</td>\n",
       "      <td>TRINITI ECHO PARK</td>\n",
       "      <td>1814 W SUNSET BLVD</td>\n",
       "      <td>False</td>\n",
       "      <td>Restaurant</td>\n",
       "      <td>22</td>\n",
       "    </tr>\n",
       "    <tr>\n",
       "      <th>4</th>\n",
       "      <td>11790</td>\n",
       "      <td>POLLEN</td>\n",
       "      <td>2100 ECHO PARK AVE</td>\n",
       "      <td>False</td>\n",
       "      <td>Restaurant</td>\n",
       "      <td>20</td>\n",
       "    </tr>\n",
       "  </tbody>\n",
       "</table>\n",
       "</div>"
      ],
      "text/plain": [
       "      id          object_name                    address  chain object_type  \\\n",
       "0  11786  HABITAT COFFEE SHOP     3708 N EAGLE ROCK BLVD  False        Cafe   \n",
       "1  11787             REILLY'S        100 WORLD WAY # 120  False  Restaurant   \n",
       "2  11788       STREET CHURROS  6801 HOLLYWOOD BLVD # 253  False   Fast Food   \n",
       "3  11789    TRINITI ECHO PARK         1814 W SUNSET BLVD  False  Restaurant   \n",
       "4  11790               POLLEN         2100 ECHO PARK AVE  False  Restaurant   \n",
       "\n",
       "   number  \n",
       "0      26  \n",
       "1       9  \n",
       "2      20  \n",
       "3      22  \n",
       "4      20  "
      ]
     },
     "execution_count": 4,
     "metadata": {},
     "output_type": "execute_result"
    }
   ],
   "source": [
    "data.head()"
   ]
  },
  {
   "cell_type": "code",
   "execution_count": 5,
   "id": "8acf2642",
   "metadata": {},
   "outputs": [
    {
     "name": "stdout",
     "output_type": "stream",
     "text": [
      "<class 'pandas.core.frame.DataFrame'>\n",
      "RangeIndex: 9651 entries, 0 to 9650\n",
      "Data columns (total 6 columns):\n",
      " #   Column       Non-Null Count  Dtype \n",
      "---  ------       --------------  ----- \n",
      " 0   id           9651 non-null   int64 \n",
      " 1   object_name  9651 non-null   object\n",
      " 2   address      9651 non-null   object\n",
      " 3   chain        9648 non-null   object\n",
      " 4   object_type  9651 non-null   object\n",
      " 5   number       9651 non-null   int64 \n",
      "dtypes: int64(2), object(4)\n",
      "memory usage: 452.5+ KB\n"
     ]
    }
   ],
   "source": [
    "data.info()"
   ]
  },
  {
   "cell_type": "code",
   "execution_count": 6,
   "id": "b82045d1",
   "metadata": {},
   "outputs": [
    {
     "data": {
      "text/plain": [
       "count    9651.000000\n",
       "mean       43.695161\n",
       "std        47.622874\n",
       "min         1.000000\n",
       "25%        14.000000\n",
       "50%        27.000000\n",
       "75%        46.000000\n",
       "max       229.000000\n",
       "Name: number, dtype: float64"
      ]
     },
     "execution_count": 6,
     "metadata": {},
     "output_type": "execute_result"
    }
   ],
   "source": [
    "data['number'].describe() "
   ]
  },
  {
   "cell_type": "code",
   "execution_count": 7,
   "id": "baf9e38a",
   "metadata": {},
   "outputs": [
    {
     "data": {
      "text/html": [
       "<div>\n",
       "<style scoped>\n",
       "    .dataframe tbody tr th:only-of-type {\n",
       "        vertical-align: middle;\n",
       "    }\n",
       "\n",
       "    .dataframe tbody tr th {\n",
       "        vertical-align: top;\n",
       "    }\n",
       "\n",
       "    .dataframe thead th {\n",
       "        text-align: right;\n",
       "    }\n",
       "</style>\n",
       "<table border=\"1\" class=\"dataframe\">\n",
       "  <thead>\n",
       "    <tr style=\"text-align: right;\">\n",
       "      <th></th>\n",
       "      <th>id</th>\n",
       "      <th>object_name</th>\n",
       "      <th>address</th>\n",
       "      <th>chain</th>\n",
       "      <th>object_type</th>\n",
       "      <th>number</th>\n",
       "    </tr>\n",
       "  </thead>\n",
       "  <tbody>\n",
       "    <tr>\n",
       "      <th>7408</th>\n",
       "      <td>19194</td>\n",
       "      <td>TAQUERIA LOS 3 CARNALES</td>\n",
       "      <td>5000 E WHITTIER BLVD</td>\n",
       "      <td>NaN</td>\n",
       "      <td>Restaurant</td>\n",
       "      <td>14</td>\n",
       "    </tr>\n",
       "    <tr>\n",
       "      <th>7523</th>\n",
       "      <td>19309</td>\n",
       "      <td>JAMMIN JIMMY'S PIZZA</td>\n",
       "      <td>1641 FIRESTONE BLVD</td>\n",
       "      <td>NaN</td>\n",
       "      <td>Pizza</td>\n",
       "      <td>1</td>\n",
       "    </tr>\n",
       "    <tr>\n",
       "      <th>8648</th>\n",
       "      <td>20434</td>\n",
       "      <td>THE LEXINGTON THEATER</td>\n",
       "      <td>129 E 3RD ST</td>\n",
       "      <td>NaN</td>\n",
       "      <td>Restaurant</td>\n",
       "      <td>35</td>\n",
       "    </tr>\n",
       "  </tbody>\n",
       "</table>\n",
       "</div>"
      ],
      "text/plain": [
       "         id              object_name               address chain object_type  \\\n",
       "7408  19194  TAQUERIA LOS 3 CARNALES  5000 E WHITTIER BLVD   NaN  Restaurant   \n",
       "7523  19309     JAMMIN JIMMY'S PIZZA   1641 FIRESTONE BLVD   NaN       Pizza   \n",
       "8648  20434    THE LEXINGTON THEATER          129 E 3RD ST   NaN  Restaurant   \n",
       "\n",
       "      number  \n",
       "7408      14  \n",
       "7523       1  \n",
       "8648      35  "
      ]
     },
     "execution_count": 7,
     "metadata": {},
     "output_type": "execute_result"
    }
   ],
   "source": [
    "data[data['chain'].isnull()]"
   ]
  },
  {
   "cell_type": "markdown",
   "id": "8beb57cd",
   "metadata": {},
   "source": [
    "The number column appears to have some establishments with only one seat. This is obviously a logging mistake of some sort, if this was one or two establishments this night not be an issue, but 187 is 1.9% and might obscure data. \n",
    "With this I decided that the establishments with 2 seats might not be logical, however they make more sense then one seat, as some Bakery’s have a couple of seats that are not official, or Restaurant’s that mostly have take away’s, I have corrected this data with the median seats per object_name.\n",
    " "
   ]
  },
  {
   "cell_type": "code",
   "execution_count": 8,
   "id": "38e73990",
   "metadata": {},
   "outputs": [
    {
     "data": {
      "text/plain": [
       "array([ 26,   9,  20,  22,  14, 100,   7,   1,  35,  38,  17, 133,  18,\n",
       "        21, 147,  10, 139, 103,  16,  39,   4,  43,  48,  19,  80,  31,\n",
       "        15,   5, 118, 182,  49,  13,  37, 158,  45,  33,  28,   8,  27,\n",
       "         2, 184,  24,  66,  11, 112,  40,  25,  29, 122,   3, 219,  63,\n",
       "       121, 163,   6,  88,  75, 131,  42,  32, 128, 224,  36,  12, 200,\n",
       "       205,  71,  23, 107, 134,  73,  62, 140,  79,  70, 225, 149,  44,\n",
       "       221, 157,  34, 123, 138, 116, 108,  85,  41, 155,  46,  77, 111,\n",
       "       143,  96, 146,  97, 129, 124, 130,  91, 109,  81,  69, 117,  47,\n",
       "       167, 209, 217, 185, 135, 164, 162, 113,  89, 151, 196, 127,  84,\n",
       "       115,  86, 190,  92, 148,  98, 227, 141, 197, 145, 229, 213, 222,\n",
       "        64,  95, 101, 208, 102,  61,  65, 166, 170,  74, 187, 169, 119,\n",
       "        99, 110, 104,  90, 186, 189, 142,  87, 171, 198, 136, 106, 203,\n",
       "       210, 226,  82, 199,  67, 194,  68, 125, 126, 218, 180, 132, 212,\n",
       "       161,  83, 193, 192, 181, 175, 204, 160, 174, 159, 144, 153, 215,\n",
       "        78, 177,  94, 172, 137, 176, 195,  93, 188, 178,  76, 216, 120,\n",
       "       220, 173, 228, 114, 214, 105, 202, 168, 223, 211,  72, 165, 201,\n",
       "       207, 206, 156, 179, 154, 191, 183, 152], dtype=int64)"
      ]
     },
     "execution_count": 8,
     "metadata": {},
     "output_type": "execute_result"
    }
   ],
   "source": [
    "data['number'].unique()"
   ]
  },
  {
   "cell_type": "code",
   "execution_count": 9,
   "id": "c2e2b13a",
   "metadata": {},
   "outputs": [
    {
     "data": {
      "text/html": [
       "<div>\n",
       "<style scoped>\n",
       "    .dataframe tbody tr th:only-of-type {\n",
       "        vertical-align: middle;\n",
       "    }\n",
       "\n",
       "    .dataframe tbody tr th {\n",
       "        vertical-align: top;\n",
       "    }\n",
       "\n",
       "    .dataframe thead th {\n",
       "        text-align: right;\n",
       "    }\n",
       "</style>\n",
       "<table border=\"1\" class=\"dataframe\">\n",
       "  <thead>\n",
       "    <tr style=\"text-align: right;\">\n",
       "      <th></th>\n",
       "      <th>id</th>\n",
       "      <th>object_name</th>\n",
       "      <th>address</th>\n",
       "      <th>chain</th>\n",
       "      <th>object_type</th>\n",
       "      <th>number</th>\n",
       "    </tr>\n",
       "  </thead>\n",
       "  <tbody>\n",
       "    <tr>\n",
       "      <th>8</th>\n",
       "      <td>11794</td>\n",
       "      <td>ABC DONUTS</td>\n",
       "      <td>3027 N SAN FERNANDO RD UNIT 103</td>\n",
       "      <td>True</td>\n",
       "      <td>Fast Food</td>\n",
       "      <td>1</td>\n",
       "    </tr>\n",
       "    <tr>\n",
       "      <th>35</th>\n",
       "      <td>11821</td>\n",
       "      <td>REGGIE'S DELI &amp; CAFE</td>\n",
       "      <td>1910 W SUNSET BLVD STE 150</td>\n",
       "      <td>True</td>\n",
       "      <td>Restaurant</td>\n",
       "      <td>1</td>\n",
       "    </tr>\n",
       "    <tr>\n",
       "      <th>93</th>\n",
       "      <td>11879</td>\n",
       "      <td>TACOMIENDO</td>\n",
       "      <td>11462 GATEWAY BLVD</td>\n",
       "      <td>False</td>\n",
       "      <td>Fast Food</td>\n",
       "      <td>1</td>\n",
       "    </tr>\n",
       "    <tr>\n",
       "      <th>139</th>\n",
       "      <td>11925</td>\n",
       "      <td>KIKKA SUSHI</td>\n",
       "      <td>308 WESTWOOD PLZ # A233B</td>\n",
       "      <td>True</td>\n",
       "      <td>Restaurant</td>\n",
       "      <td>1</td>\n",
       "    </tr>\n",
       "    <tr>\n",
       "      <th>265</th>\n",
       "      <td>12051</td>\n",
       "      <td>LUCKY STRIKE HOLLYWOOD</td>\n",
       "      <td>6801 HOLLYWOOD BLVD STE #143</td>\n",
       "      <td>False</td>\n",
       "      <td>Restaurant</td>\n",
       "      <td>1</td>\n",
       "    </tr>\n",
       "    <tr>\n",
       "      <th>...</th>\n",
       "      <td>...</td>\n",
       "      <td>...</td>\n",
       "      <td>...</td>\n",
       "      <td>...</td>\n",
       "      <td>...</td>\n",
       "      <td>...</td>\n",
       "    </tr>\n",
       "    <tr>\n",
       "      <th>9562</th>\n",
       "      <td>21348</td>\n",
       "      <td>7-ELEVEN STORE #18778D</td>\n",
       "      <td>7600 W SUNSET BLVD</td>\n",
       "      <td>False</td>\n",
       "      <td>Restaurant</td>\n",
       "      <td>1</td>\n",
       "    </tr>\n",
       "    <tr>\n",
       "      <th>9566</th>\n",
       "      <td>21352</td>\n",
       "      <td>THE BUTLER'S KITCHEN</td>\n",
       "      <td>5616 E BEVERLY BLVD</td>\n",
       "      <td>False</td>\n",
       "      <td>Restaurant</td>\n",
       "      <td>1</td>\n",
       "    </tr>\n",
       "    <tr>\n",
       "      <th>9589</th>\n",
       "      <td>21375</td>\n",
       "      <td>WHITE AND BROWN</td>\n",
       "      <td>603 S MARIPOSA AVE</td>\n",
       "      <td>False</td>\n",
       "      <td>Restaurant</td>\n",
       "      <td>1</td>\n",
       "    </tr>\n",
       "    <tr>\n",
       "      <th>9600</th>\n",
       "      <td>21386</td>\n",
       "      <td>YAKITORI TEN</td>\n",
       "      <td>3470 W 6TH ST STE 2A</td>\n",
       "      <td>False</td>\n",
       "      <td>Restaurant</td>\n",
       "      <td>1</td>\n",
       "    </tr>\n",
       "    <tr>\n",
       "      <th>9610</th>\n",
       "      <td>21396</td>\n",
       "      <td>TERRAZA CAFE COFFEE SHOP</td>\n",
       "      <td>4017 1/2 CITY TERRACE DR</td>\n",
       "      <td>False</td>\n",
       "      <td>Cafe</td>\n",
       "      <td>1</td>\n",
       "    </tr>\n",
       "  </tbody>\n",
       "</table>\n",
       "<p>187 rows × 6 columns</p>\n",
       "</div>"
      ],
      "text/plain": [
       "         id               object_name                          address  chain  \\\n",
       "8     11794                ABC DONUTS  3027 N SAN FERNANDO RD UNIT 103   True   \n",
       "35    11821      REGGIE'S DELI & CAFE       1910 W SUNSET BLVD STE 150   True   \n",
       "93    11879                TACOMIENDO               11462 GATEWAY BLVD  False   \n",
       "139   11925               KIKKA SUSHI         308 WESTWOOD PLZ # A233B   True   \n",
       "265   12051    LUCKY STRIKE HOLLYWOOD     6801 HOLLYWOOD BLVD STE #143  False   \n",
       "...     ...                       ...                              ...    ...   \n",
       "9562  21348    7-ELEVEN STORE #18778D               7600 W SUNSET BLVD  False   \n",
       "9566  21352      THE BUTLER'S KITCHEN              5616 E BEVERLY BLVD  False   \n",
       "9589  21375           WHITE AND BROWN               603 S MARIPOSA AVE  False   \n",
       "9600  21386              YAKITORI TEN             3470 W 6TH ST STE 2A  False   \n",
       "9610  21396  TERRAZA CAFE COFFEE SHOP         4017 1/2 CITY TERRACE DR  False   \n",
       "\n",
       "     object_type  number  \n",
       "8      Fast Food       1  \n",
       "35    Restaurant       1  \n",
       "93     Fast Food       1  \n",
       "139   Restaurant       1  \n",
       "265   Restaurant       1  \n",
       "...          ...     ...  \n",
       "9562  Restaurant       1  \n",
       "9566  Restaurant       1  \n",
       "9589  Restaurant       1  \n",
       "9600  Restaurant       1  \n",
       "9610        Cafe       1  \n",
       "\n",
       "[187 rows x 6 columns]"
      ]
     },
     "execution_count": 9,
     "metadata": {},
     "output_type": "execute_result"
    }
   ],
   "source": [
    "data[data['number']==1]"
   ]
  },
  {
   "cell_type": "code",
   "execution_count": 10,
   "id": "4b106534",
   "metadata": {},
   "outputs": [
    {
     "data": {
      "text/html": [
       "<div>\n",
       "<style scoped>\n",
       "    .dataframe tbody tr th:only-of-type {\n",
       "        vertical-align: middle;\n",
       "    }\n",
       "\n",
       "    .dataframe tbody tr th {\n",
       "        vertical-align: top;\n",
       "    }\n",
       "\n",
       "    .dataframe thead th {\n",
       "        text-align: right;\n",
       "    }\n",
       "</style>\n",
       "<table border=\"1\" class=\"dataframe\">\n",
       "  <thead>\n",
       "    <tr style=\"text-align: right;\">\n",
       "      <th></th>\n",
       "      <th>id</th>\n",
       "      <th>object_name</th>\n",
       "      <th>address</th>\n",
       "      <th>chain</th>\n",
       "      <th>object_type</th>\n",
       "      <th>number</th>\n",
       "    </tr>\n",
       "  </thead>\n",
       "  <tbody>\n",
       "    <tr>\n",
       "      <th>58</th>\n",
       "      <td>11844</td>\n",
       "      <td>BASE COAT -JUICE BAR</td>\n",
       "      <td>704 MATEO ST</td>\n",
       "      <td>True</td>\n",
       "      <td>Bar</td>\n",
       "      <td>2</td>\n",
       "    </tr>\n",
       "    <tr>\n",
       "      <th>59</th>\n",
       "      <td>11845</td>\n",
       "      <td>WAX PAPER</td>\n",
       "      <td>2902 KNOX AVE</td>\n",
       "      <td>False</td>\n",
       "      <td>Restaurant</td>\n",
       "      <td>2</td>\n",
       "    </tr>\n",
       "    <tr>\n",
       "      <th>153</th>\n",
       "      <td>11939</td>\n",
       "      <td>HAYATO</td>\n",
       "      <td>1320 E 7TH ST # 126</td>\n",
       "      <td>False</td>\n",
       "      <td>Restaurant</td>\n",
       "      <td>2</td>\n",
       "    </tr>\n",
       "    <tr>\n",
       "      <th>179</th>\n",
       "      <td>11965</td>\n",
       "      <td>LE BALCON BAKERY</td>\n",
       "      <td>1523 LA BREA AVE</td>\n",
       "      <td>True</td>\n",
       "      <td>Bakery</td>\n",
       "      <td>2</td>\n",
       "    </tr>\n",
       "    <tr>\n",
       "      <th>207</th>\n",
       "      <td>11993</td>\n",
       "      <td>CLIFTON'S CAFETERIA</td>\n",
       "      <td>648 S BROADWAY</td>\n",
       "      <td>False</td>\n",
       "      <td>Restaurant</td>\n",
       "      <td>2</td>\n",
       "    </tr>\n",
       "    <tr>\n",
       "      <th>...</th>\n",
       "      <td>...</td>\n",
       "      <td>...</td>\n",
       "      <td>...</td>\n",
       "      <td>...</td>\n",
       "      <td>...</td>\n",
       "      <td>...</td>\n",
       "    </tr>\n",
       "    <tr>\n",
       "      <th>9499</th>\n",
       "      <td>21285</td>\n",
       "      <td>ASHER CAFFE</td>\n",
       "      <td>945 S BOYLE AVE</td>\n",
       "      <td>False</td>\n",
       "      <td>Restaurant</td>\n",
       "      <td>2</td>\n",
       "    </tr>\n",
       "    <tr>\n",
       "      <th>9509</th>\n",
       "      <td>21295</td>\n",
       "      <td>HUERTA'S PRODUCE</td>\n",
       "      <td>1689 EASTERN AVE</td>\n",
       "      <td>False</td>\n",
       "      <td>Restaurant</td>\n",
       "      <td>2</td>\n",
       "    </tr>\n",
       "    <tr>\n",
       "      <th>9563</th>\n",
       "      <td>21349</td>\n",
       "      <td>TOM N TOMS</td>\n",
       "      <td>3829 6TH ST</td>\n",
       "      <td>True</td>\n",
       "      <td>Restaurant</td>\n",
       "      <td>2</td>\n",
       "    </tr>\n",
       "    <tr>\n",
       "      <th>9598</th>\n",
       "      <td>21384</td>\n",
       "      <td>GOOD PEOPLE COFFEE CO</td>\n",
       "      <td>11609 SANTA MONICA BLVD</td>\n",
       "      <td>False</td>\n",
       "      <td>Cafe</td>\n",
       "      <td>2</td>\n",
       "    </tr>\n",
       "    <tr>\n",
       "      <th>9631</th>\n",
       "      <td>21417</td>\n",
       "      <td>MEE &amp; GREET</td>\n",
       "      <td>3500 OVERLAND AVE # 150</td>\n",
       "      <td>False</td>\n",
       "      <td>Restaurant</td>\n",
       "      <td>2</td>\n",
       "    </tr>\n",
       "  </tbody>\n",
       "</table>\n",
       "<p>178 rows × 6 columns</p>\n",
       "</div>"
      ],
      "text/plain": [
       "         id            object_name                  address  chain  \\\n",
       "58    11844   BASE COAT -JUICE BAR             704 MATEO ST   True   \n",
       "59    11845              WAX PAPER            2902 KNOX AVE  False   \n",
       "153   11939                 HAYATO      1320 E 7TH ST # 126  False   \n",
       "179   11965       LE BALCON BAKERY         1523 LA BREA AVE   True   \n",
       "207   11993    CLIFTON'S CAFETERIA           648 S BROADWAY  False   \n",
       "...     ...                    ...                      ...    ...   \n",
       "9499  21285            ASHER CAFFE          945 S BOYLE AVE  False   \n",
       "9509  21295       HUERTA'S PRODUCE         1689 EASTERN AVE  False   \n",
       "9563  21349             TOM N TOMS              3829 6TH ST   True   \n",
       "9598  21384  GOOD PEOPLE COFFEE CO  11609 SANTA MONICA BLVD  False   \n",
       "9631  21417            MEE & GREET  3500 OVERLAND AVE # 150  False   \n",
       "\n",
       "     object_type  number  \n",
       "58           Bar       2  \n",
       "59    Restaurant       2  \n",
       "153   Restaurant       2  \n",
       "179       Bakery       2  \n",
       "207   Restaurant       2  \n",
       "...          ...     ...  \n",
       "9499  Restaurant       2  \n",
       "9509  Restaurant       2  \n",
       "9563  Restaurant       2  \n",
       "9598        Cafe       2  \n",
       "9631  Restaurant       2  \n",
       "\n",
       "[178 rows x 6 columns]"
      ]
     },
     "execution_count": 10,
     "metadata": {},
     "output_type": "execute_result"
    }
   ],
   "source": [
    "data[data['number']==2]"
   ]
  },
  {
   "cell_type": "markdown",
   "id": "5da31e84",
   "metadata": {},
   "source": [
    "I'm using the median value to replace the establishments seat number."
   ]
  },
  {
   "cell_type": "code",
   "execution_count": 11,
   "id": "c1748779",
   "metadata": {},
   "outputs": [],
   "source": [
    "seating_grouped=data.groupby(['object_type'])['number'].median().reset_index()\n",
    "\n",
    "diction={'Bakery':'🎂','Fast Food':'🍔',\n",
    "                           'Bar':'🍷','Cafe':'🍲','Pizza':'🍕',\n",
    "                           'Restaurant':'🍽️'}\n",
    "seating_grouped['emoji1'] =seating_grouped['object_type'].apply(lambda x: diction.get(x))\n"
   ]
  },
  {
   "cell_type": "code",
   "execution_count": 12,
   "id": "fab92d9d",
   "metadata": {},
   "outputs": [
    {
     "data": {
      "text/html": [
       "<div>\n",
       "<style scoped>\n",
       "    .dataframe tbody tr th:only-of-type {\n",
       "        vertical-align: middle;\n",
       "    }\n",
       "\n",
       "    .dataframe tbody tr th {\n",
       "        vertical-align: top;\n",
       "    }\n",
       "\n",
       "    .dataframe thead th {\n",
       "        text-align: right;\n",
       "    }\n",
       "</style>\n",
       "<table border=\"1\" class=\"dataframe\">\n",
       "  <thead>\n",
       "    <tr style=\"text-align: right;\">\n",
       "      <th></th>\n",
       "      <th>object_type</th>\n",
       "      <th>number</th>\n",
       "      <th>emoji1</th>\n",
       "    </tr>\n",
       "  </thead>\n",
       "  <tbody>\n",
       "    <tr>\n",
       "      <th>0</th>\n",
       "      <td>Bakery</td>\n",
       "      <td>18.0</td>\n",
       "      <td>🎂</td>\n",
       "    </tr>\n",
       "    <tr>\n",
       "      <th>1</th>\n",
       "      <td>Bar</td>\n",
       "      <td>28.5</td>\n",
       "      <td>🍷</td>\n",
       "    </tr>\n",
       "    <tr>\n",
       "      <th>2</th>\n",
       "      <td>Cafe</td>\n",
       "      <td>21.0</td>\n",
       "      <td>🍲</td>\n",
       "    </tr>\n",
       "    <tr>\n",
       "      <th>3</th>\n",
       "      <td>Fast Food</td>\n",
       "      <td>21.0</td>\n",
       "      <td>🍔</td>\n",
       "    </tr>\n",
       "    <tr>\n",
       "      <th>4</th>\n",
       "      <td>Pizza</td>\n",
       "      <td>18.5</td>\n",
       "      <td>🍕</td>\n",
       "    </tr>\n",
       "    <tr>\n",
       "      <th>5</th>\n",
       "      <td>Restaurant</td>\n",
       "      <td>29.0</td>\n",
       "      <td>🍽️</td>\n",
       "    </tr>\n",
       "  </tbody>\n",
       "</table>\n",
       "</div>"
      ],
      "text/plain": [
       "  object_type  number emoji1\n",
       "0      Bakery    18.0      🎂\n",
       "1         Bar    28.5      🍷\n",
       "2        Cafe    21.0      🍲\n",
       "3   Fast Food    21.0      🍔\n",
       "4       Pizza    18.5      🍕\n",
       "5  Restaurant    29.0     🍽️"
      ]
     },
     "execution_count": 12,
     "metadata": {},
     "output_type": "execute_result"
    }
   ],
   "source": [
    "seating_grouped"
   ]
  },
  {
   "cell_type": "markdown",
   "id": "0f4721a5",
   "metadata": {},
   "source": [
    "Some cute emojis for the median table :)"
   ]
  },
  {
   "cell_type": "code",
   "execution_count": 13,
   "id": "6ab380da",
   "metadata": {},
   "outputs": [
    {
     "data": {
      "text/html": [
       "<div>\n",
       "<style scoped>\n",
       "    .dataframe tbody tr th:only-of-type {\n",
       "        vertical-align: middle;\n",
       "    }\n",
       "\n",
       "    .dataframe tbody tr th {\n",
       "        vertical-align: top;\n",
       "    }\n",
       "\n",
       "    .dataframe thead th {\n",
       "        text-align: right;\n",
       "    }\n",
       "</style>\n",
       "<table border=\"1\" class=\"dataframe\">\n",
       "  <thead>\n",
       "    <tr style=\"text-align: right;\">\n",
       "      <th></th>\n",
       "      <th>id</th>\n",
       "      <th>object_name</th>\n",
       "      <th>address</th>\n",
       "      <th>chain</th>\n",
       "      <th>object_type</th>\n",
       "      <th>number</th>\n",
       "    </tr>\n",
       "  </thead>\n",
       "  <tbody>\n",
       "    <tr>\n",
       "      <th>8</th>\n",
       "      <td>11794</td>\n",
       "      <td>ABC DONUTS</td>\n",
       "      <td>3027 N SAN FERNANDO RD UNIT 103</td>\n",
       "      <td>True</td>\n",
       "      <td>Fast Food</td>\n",
       "      <td>1</td>\n",
       "    </tr>\n",
       "    <tr>\n",
       "      <th>35</th>\n",
       "      <td>11821</td>\n",
       "      <td>REGGIE'S DELI &amp; CAFE</td>\n",
       "      <td>1910 W SUNSET BLVD STE 150</td>\n",
       "      <td>True</td>\n",
       "      <td>Restaurant</td>\n",
       "      <td>1</td>\n",
       "    </tr>\n",
       "    <tr>\n",
       "      <th>93</th>\n",
       "      <td>11879</td>\n",
       "      <td>TACOMIENDO</td>\n",
       "      <td>11462 GATEWAY BLVD</td>\n",
       "      <td>False</td>\n",
       "      <td>Fast Food</td>\n",
       "      <td>1</td>\n",
       "    </tr>\n",
       "    <tr>\n",
       "      <th>139</th>\n",
       "      <td>11925</td>\n",
       "      <td>KIKKA SUSHI</td>\n",
       "      <td>308 WESTWOOD PLZ # A233B</td>\n",
       "      <td>True</td>\n",
       "      <td>Restaurant</td>\n",
       "      <td>1</td>\n",
       "    </tr>\n",
       "    <tr>\n",
       "      <th>265</th>\n",
       "      <td>12051</td>\n",
       "      <td>LUCKY STRIKE HOLLYWOOD</td>\n",
       "      <td>6801 HOLLYWOOD BLVD STE #143</td>\n",
       "      <td>False</td>\n",
       "      <td>Restaurant</td>\n",
       "      <td>1</td>\n",
       "    </tr>\n",
       "    <tr>\n",
       "      <th>...</th>\n",
       "      <td>...</td>\n",
       "      <td>...</td>\n",
       "      <td>...</td>\n",
       "      <td>...</td>\n",
       "      <td>...</td>\n",
       "      <td>...</td>\n",
       "    </tr>\n",
       "    <tr>\n",
       "      <th>9562</th>\n",
       "      <td>21348</td>\n",
       "      <td>7-ELEVEN STORE #18778D</td>\n",
       "      <td>7600 W SUNSET BLVD</td>\n",
       "      <td>False</td>\n",
       "      <td>Restaurant</td>\n",
       "      <td>1</td>\n",
       "    </tr>\n",
       "    <tr>\n",
       "      <th>9566</th>\n",
       "      <td>21352</td>\n",
       "      <td>THE BUTLER'S KITCHEN</td>\n",
       "      <td>5616 E BEVERLY BLVD</td>\n",
       "      <td>False</td>\n",
       "      <td>Restaurant</td>\n",
       "      <td>1</td>\n",
       "    </tr>\n",
       "    <tr>\n",
       "      <th>9589</th>\n",
       "      <td>21375</td>\n",
       "      <td>WHITE AND BROWN</td>\n",
       "      <td>603 S MARIPOSA AVE</td>\n",
       "      <td>False</td>\n",
       "      <td>Restaurant</td>\n",
       "      <td>1</td>\n",
       "    </tr>\n",
       "    <tr>\n",
       "      <th>9600</th>\n",
       "      <td>21386</td>\n",
       "      <td>YAKITORI TEN</td>\n",
       "      <td>3470 W 6TH ST STE 2A</td>\n",
       "      <td>False</td>\n",
       "      <td>Restaurant</td>\n",
       "      <td>1</td>\n",
       "    </tr>\n",
       "    <tr>\n",
       "      <th>9610</th>\n",
       "      <td>21396</td>\n",
       "      <td>TERRAZA CAFE COFFEE SHOP</td>\n",
       "      <td>4017 1/2 CITY TERRACE DR</td>\n",
       "      <td>False</td>\n",
       "      <td>Cafe</td>\n",
       "      <td>1</td>\n",
       "    </tr>\n",
       "  </tbody>\n",
       "</table>\n",
       "<p>187 rows × 6 columns</p>\n",
       "</div>"
      ],
      "text/plain": [
       "         id               object_name                          address  chain  \\\n",
       "8     11794                ABC DONUTS  3027 N SAN FERNANDO RD UNIT 103   True   \n",
       "35    11821      REGGIE'S DELI & CAFE       1910 W SUNSET BLVD STE 150   True   \n",
       "93    11879                TACOMIENDO               11462 GATEWAY BLVD  False   \n",
       "139   11925               KIKKA SUSHI         308 WESTWOOD PLZ # A233B   True   \n",
       "265   12051    LUCKY STRIKE HOLLYWOOD     6801 HOLLYWOOD BLVD STE #143  False   \n",
       "...     ...                       ...                              ...    ...   \n",
       "9562  21348    7-ELEVEN STORE #18778D               7600 W SUNSET BLVD  False   \n",
       "9566  21352      THE BUTLER'S KITCHEN              5616 E BEVERLY BLVD  False   \n",
       "9589  21375           WHITE AND BROWN               603 S MARIPOSA AVE  False   \n",
       "9600  21386              YAKITORI TEN             3470 W 6TH ST STE 2A  False   \n",
       "9610  21396  TERRAZA CAFE COFFEE SHOP         4017 1/2 CITY TERRACE DR  False   \n",
       "\n",
       "     object_type  number  \n",
       "8      Fast Food       1  \n",
       "35    Restaurant       1  \n",
       "93     Fast Food       1  \n",
       "139   Restaurant       1  \n",
       "265   Restaurant       1  \n",
       "...          ...     ...  \n",
       "9562  Restaurant       1  \n",
       "9566  Restaurant       1  \n",
       "9589  Restaurant       1  \n",
       "9600  Restaurant       1  \n",
       "9610        Cafe       1  \n",
       "\n",
       "[187 rows x 6 columns]"
      ]
     },
     "execution_count": 13,
     "metadata": {},
     "output_type": "execute_result"
    }
   ],
   "source": [
    "data[data['number']==1]"
   ]
  },
  {
   "cell_type": "markdown",
   "id": "ffc3b84d",
   "metadata": {},
   "source": [
    "No more 1's in the number column"
   ]
  },
  {
   "cell_type": "code",
   "execution_count": 14,
   "id": "8709c726",
   "metadata": {},
   "outputs": [
    {
     "data": {
      "text/plain": [
       "array(['Cafe', 'Restaurant', 'Fast Food', 'Bakery', 'Bar', 'Pizza'],\n",
       "      dtype=object)"
      ]
     },
     "execution_count": 14,
     "metadata": {},
     "output_type": "execute_result"
    }
   ],
   "source": [
    "data['object_type'].unique()"
   ]
  },
  {
   "cell_type": "markdown",
   "id": "855a606d",
   "metadata": {},
   "source": [
    "The object_type column has no NaN values or odd names. "
   ]
  },
  {
   "cell_type": "markdown",
   "id": "a8940c88",
   "metadata": {},
   "source": [
    "## Step 2. Data analysis"
   ]
  },
  {
   "cell_type": "markdown",
   "id": "e082643e",
   "metadata": {},
   "source": [
    "### 1. Investigate the proportions of the various types of establishments. Plot a graph."
   ]
  },
  {
   "cell_type": "code",
   "execution_count": 15,
   "id": "33e81770",
   "metadata": {},
   "outputs": [
    {
     "data": {
      "image/png": "[encoded data removed]",
      "text/plain": [
       "<Figure size 432x288 with 1 Axes>"
      ]
     },
     "metadata": {
      "needs_background": "light"
     },
     "output_type": "display_data"
    }
   ],
   "source": [
    "data['object_type'].value_counts().plot(kind='bar');"
   ]
  },
  {
   "cell_type": "code",
   "execution_count": 16,
   "id": "3218449b",
   "metadata": {},
   "outputs": [
    {
     "data": {
      "image/png": "[encoded data removed]",
      "text/plain": [
       "<Figure size 432x288 with 1 Axes>"
      ]
     },
     "metadata": {
      "needs_background": "light"
     },
     "output_type": "display_data"
    }
   ],
   "source": [
    "sns.barplot(x=data['object_type'].value_counts().index, y=data['object_type'].value_counts().values);"
   ]
  },
  {
   "cell_type": "markdown",
   "id": "eee9a323",
   "metadata": {},
   "source": [
    "After plotting the graph it's clear that the bar plot is not the best representation of the proportions of each establishment.\n",
    "In order to enhance the visual proportions I decided to plot a pie chart.  "
   ]
  },
  {
   "cell_type": "code",
   "execution_count": 17,
   "id": "95e1e4ff",
   "metadata": {},
   "outputs": [
    {
     "data": {
      "text/html": [
       "<div>\n",
       "<style scoped>\n",
       "    .dataframe tbody tr th:only-of-type {\n",
       "        vertical-align: middle;\n",
       "    }\n",
       "\n",
       "    .dataframe tbody tr th {\n",
       "        vertical-align: top;\n",
       "    }\n",
       "\n",
       "    .dataframe thead th {\n",
       "        text-align: right;\n",
       "    }\n",
       "</style>\n",
       "<table border=\"1\" class=\"dataframe\">\n",
       "  <thead>\n",
       "    <tr style=\"text-align: right;\">\n",
       "      <th></th>\n",
       "      <th>object_type</th>\n",
       "      <th>id</th>\n",
       "      <th>ratio</th>\n",
       "    </tr>\n",
       "  </thead>\n",
       "  <tbody>\n",
       "    <tr>\n",
       "      <th>0</th>\n",
       "      <td>Bakery</td>\n",
       "      <td>283</td>\n",
       "      <td>2.932339</td>\n",
       "    </tr>\n",
       "    <tr>\n",
       "      <th>1</th>\n",
       "      <td>Bar</td>\n",
       "      <td>292</td>\n",
       "      <td>3.025593</td>\n",
       "    </tr>\n",
       "    <tr>\n",
       "      <th>2</th>\n",
       "      <td>Cafe</td>\n",
       "      <td>435</td>\n",
       "      <td>4.507305</td>\n",
       "    </tr>\n",
       "    <tr>\n",
       "      <th>3</th>\n",
       "      <td>Fast Food</td>\n",
       "      <td>1066</td>\n",
       "      <td>11.045488</td>\n",
       "    </tr>\n",
       "    <tr>\n",
       "      <th>4</th>\n",
       "      <td>Pizza</td>\n",
       "      <td>320</td>\n",
       "      <td>3.315719</td>\n",
       "    </tr>\n",
       "    <tr>\n",
       "      <th>5</th>\n",
       "      <td>Restaurant</td>\n",
       "      <td>7255</td>\n",
       "      <td>75.173557</td>\n",
       "    </tr>\n",
       "  </tbody>\n",
       "</table>\n",
       "</div>"
      ],
      "text/plain": [
       "  object_type    id      ratio\n",
       "0      Bakery   283   2.932339\n",
       "1         Bar   292   3.025593\n",
       "2        Cafe   435   4.507305\n",
       "3   Fast Food  1066  11.045488\n",
       "4       Pizza   320   3.315719\n",
       "5  Restaurant  7255  75.173557"
      ]
     },
     "execution_count": 17,
     "metadata": {},
     "output_type": "execute_result"
    }
   ],
   "source": [
    "object_ratio=data.groupby(['object_type'])['id'].count().reset_index()\n",
    "object_ratio['ratio']=100*object_ratio['id']/object_ratio['id'].sum()\n",
    "object_ratio"
   ]
  },
  {
   "cell_type": "code",
   "execution_count": 18,
   "id": "e4e65f62",
   "metadata": {},
   "outputs": [
    {
     "data": {
      "image/png": "[encoded data removed]",
      "text/plain": [
       "<Figure size 432x288 with 1 Axes>"
      ]
     },
     "metadata": {},
     "output_type": "display_data"
    }
   ],
   "source": [
    "mycolors = [\"skyblue\", \"purple\", \"orange\", \"blue\", \"pink\"]\n",
    "\n",
    "plt.pie(data=object_ratio, x = 'ratio', labels = 'object_type', autopct='%.0f%%' ,colors = mycolors, shadow = True, radius=1.75);\n"
   ]
  },
  {
   "cell_type": "markdown",
   "id": "09e6d92a",
   "metadata": {},
   "source": [
    "After plotting the pie chart it's much easier to notice the differences in the relative sizes of the sections in the graph. \n"
   ]
  },
  {
   "cell_type": "markdown",
   "id": "efd3fe37",
   "metadata": {},
   "source": [
    "### 2. Investigate the proportions of chain and nonchain establishments. Plot a graph."
   ]
  },
  {
   "cell_type": "code",
   "execution_count": 19,
   "id": "fea4c758",
   "metadata": {},
   "outputs": [
    {
     "data": {
      "text/plain": [
       "False    5972\n",
       "True     3676\n",
       "Name: chain, dtype: int64"
      ]
     },
     "execution_count": 19,
     "metadata": {},
     "output_type": "execute_result"
    }
   ],
   "source": [
    "data['chain'].value_counts()"
   ]
  },
  {
   "cell_type": "code",
   "execution_count": 20,
   "id": "b44fb938",
   "metadata": {},
   "outputs": [
    {
     "data": {
      "image/png": "[encoded data removed]",
      "text/plain": [
       "<Figure size 432x288 with 1 Axes>"
      ]
     },
     "metadata": {
      "needs_background": "light"
     },
     "output_type": "display_data"
    }
   ],
   "source": [
    "data['chain'].value_counts().plot(kind='bar');"
   ]
  },
  {
   "cell_type": "markdown",
   "id": "2ae888c9",
   "metadata": {},
   "source": [
    "Chain and non chain establishments, the non chain establishment is clearly a greater number. "
   ]
  },
  {
   "cell_type": "markdown",
   "id": "d11e5bce",
   "metadata": {},
   "source": [
    "### 3. Which type of establishment is typically a chain?"
   ]
  },
  {
   "cell_type": "markdown",
   "id": "b2e7fca7",
   "metadata": {},
   "source": [
    "The chain column has 3 NaN's, I searched these restaurants on Google and the first two are not chains. The last restaurants is a chain, so I manually corrected the data. "
   ]
  },
  {
   "cell_type": "code",
   "execution_count": 21,
   "id": "7b60b12f",
   "metadata": {},
   "outputs": [
    {
     "data": {
      "text/plain": [
       "array([False, True, nan], dtype=object)"
      ]
     },
     "execution_count": 21,
     "metadata": {},
     "output_type": "execute_result"
    }
   ],
   "source": [
    "data['chain'].unique()"
   ]
  },
  {
   "cell_type": "code",
   "execution_count": 22,
   "id": "cbc34e4f",
   "metadata": {},
   "outputs": [
    {
     "data": {
      "text/plain": [
       "3"
      ]
     },
     "execution_count": 22,
     "metadata": {},
     "output_type": "execute_result"
    }
   ],
   "source": [
    "data['chain'].isnull().sum()"
   ]
  },
  {
   "cell_type": "code",
   "execution_count": 23,
   "id": "bdafde6c",
   "metadata": {},
   "outputs": [
    {
     "data": {
      "text/html": [
       "<div>\n",
       "<style scoped>\n",
       "    .dataframe tbody tr th:only-of-type {\n",
       "        vertical-align: middle;\n",
       "    }\n",
       "\n",
       "    .dataframe tbody tr th {\n",
       "        vertical-align: top;\n",
       "    }\n",
       "\n",
       "    .dataframe thead th {\n",
       "        text-align: right;\n",
       "    }\n",
       "</style>\n",
       "<table border=\"1\" class=\"dataframe\">\n",
       "  <thead>\n",
       "    <tr style=\"text-align: right;\">\n",
       "      <th></th>\n",
       "      <th>id</th>\n",
       "      <th>object_name</th>\n",
       "      <th>address</th>\n",
       "      <th>chain</th>\n",
       "      <th>object_type</th>\n",
       "      <th>number</th>\n",
       "    </tr>\n",
       "  </thead>\n",
       "  <tbody>\n",
       "    <tr>\n",
       "      <th>7408</th>\n",
       "      <td>19194</td>\n",
       "      <td>TAQUERIA LOS 3 CARNALES</td>\n",
       "      <td>5000 E WHITTIER BLVD</td>\n",
       "      <td>NaN</td>\n",
       "      <td>Restaurant</td>\n",
       "      <td>14</td>\n",
       "    </tr>\n",
       "    <tr>\n",
       "      <th>7523</th>\n",
       "      <td>19309</td>\n",
       "      <td>JAMMIN JIMMY'S PIZZA</td>\n",
       "      <td>1641 FIRESTONE BLVD</td>\n",
       "      <td>NaN</td>\n",
       "      <td>Pizza</td>\n",
       "      <td>1</td>\n",
       "    </tr>\n",
       "    <tr>\n",
       "      <th>8648</th>\n",
       "      <td>20434</td>\n",
       "      <td>THE LEXINGTON THEATER</td>\n",
       "      <td>129 E 3RD ST</td>\n",
       "      <td>NaN</td>\n",
       "      <td>Restaurant</td>\n",
       "      <td>35</td>\n",
       "    </tr>\n",
       "  </tbody>\n",
       "</table>\n",
       "</div>"
      ],
      "text/plain": [
       "         id              object_name               address chain object_type  \\\n",
       "7408  19194  TAQUERIA LOS 3 CARNALES  5000 E WHITTIER BLVD   NaN  Restaurant   \n",
       "7523  19309     JAMMIN JIMMY'S PIZZA   1641 FIRESTONE BLVD   NaN       Pizza   \n",
       "8648  20434    THE LEXINGTON THEATER          129 E 3RD ST   NaN  Restaurant   \n",
       "\n",
       "      number  \n",
       "7408      14  \n",
       "7523       1  \n",
       "8648      35  "
      ]
     },
     "execution_count": 23,
     "metadata": {},
     "output_type": "execute_result"
    }
   ],
   "source": [
    "data[data['chain'].isnull()]"
   ]
  },
  {
   "cell_type": "code",
   "execution_count": 24,
   "id": "f341a343",
   "metadata": {},
   "outputs": [],
   "source": [
    "data.loc[7408, 'chain']= False\n",
    "data.loc[7523, 'chain']= False\n",
    "data.loc[8648, 'chain']= True "
   ]
  },
  {
   "cell_type": "code",
   "execution_count": 25,
   "id": "40f3dc7b",
   "metadata": {},
   "outputs": [
    {
     "data": {
      "text/html": [
       "<div>\n",
       "<style scoped>\n",
       "    .dataframe tbody tr th:only-of-type {\n",
       "        vertical-align: middle;\n",
       "    }\n",
       "\n",
       "    .dataframe tbody tr th {\n",
       "        vertical-align: top;\n",
       "    }\n",
       "\n",
       "    .dataframe thead th {\n",
       "        text-align: right;\n",
       "    }\n",
       "</style>\n",
       "<table border=\"1\" class=\"dataframe\">\n",
       "  <thead>\n",
       "    <tr style=\"text-align: right;\">\n",
       "      <th></th>\n",
       "      <th>id</th>\n",
       "      <th>object_name</th>\n",
       "      <th>address</th>\n",
       "      <th>chain</th>\n",
       "      <th>object_type</th>\n",
       "      <th>number</th>\n",
       "    </tr>\n",
       "  </thead>\n",
       "  <tbody>\n",
       "  </tbody>\n",
       "</table>\n",
       "</div>"
      ],
      "text/plain": [
       "Empty DataFrame\n",
       "Columns: [id, object_name, address, chain, object_type, number]\n",
       "Index: []"
      ]
     },
     "execution_count": 25,
     "metadata": {},
     "output_type": "execute_result"
    }
   ],
   "source": [
    "data[data['chain'].isnull()]"
   ]
  },
  {
   "cell_type": "code",
   "execution_count": 26,
   "id": "1f499861",
   "metadata": {},
   "outputs": [
    {
     "data": {
      "text/html": [
       "<div>\n",
       "<style scoped>\n",
       "    .dataframe tbody tr th:only-of-type {\n",
       "        vertical-align: middle;\n",
       "    }\n",
       "\n",
       "    .dataframe tbody tr th {\n",
       "        vertical-align: top;\n",
       "    }\n",
       "\n",
       "    .dataframe thead th {\n",
       "        text-align: right;\n",
       "    }\n",
       "</style>\n",
       "<table border=\"1\" class=\"dataframe\">\n",
       "  <thead>\n",
       "    <tr style=\"text-align: right;\">\n",
       "      <th></th>\n",
       "      <th>id</th>\n",
       "      <th>object_name</th>\n",
       "      <th>address</th>\n",
       "      <th>chain</th>\n",
       "      <th>object_type</th>\n",
       "      <th>number</th>\n",
       "      <th>chainint</th>\n",
       "    </tr>\n",
       "  </thead>\n",
       "  <tbody>\n",
       "    <tr>\n",
       "      <th>0</th>\n",
       "      <td>11786</td>\n",
       "      <td>HABITAT COFFEE SHOP</td>\n",
       "      <td>3708 N EAGLE ROCK BLVD</td>\n",
       "      <td>False</td>\n",
       "      <td>Cafe</td>\n",
       "      <td>26</td>\n",
       "      <td>0</td>\n",
       "    </tr>\n",
       "    <tr>\n",
       "      <th>1</th>\n",
       "      <td>11787</td>\n",
       "      <td>REILLY'S</td>\n",
       "      <td>100 WORLD WAY # 120</td>\n",
       "      <td>False</td>\n",
       "      <td>Restaurant</td>\n",
       "      <td>9</td>\n",
       "      <td>0</td>\n",
       "    </tr>\n",
       "    <tr>\n",
       "      <th>2</th>\n",
       "      <td>11788</td>\n",
       "      <td>STREET CHURROS</td>\n",
       "      <td>6801 HOLLYWOOD BLVD # 253</td>\n",
       "      <td>False</td>\n",
       "      <td>Fast Food</td>\n",
       "      <td>20</td>\n",
       "      <td>0</td>\n",
       "    </tr>\n",
       "    <tr>\n",
       "      <th>3</th>\n",
       "      <td>11789</td>\n",
       "      <td>TRINITI ECHO PARK</td>\n",
       "      <td>1814 W SUNSET BLVD</td>\n",
       "      <td>False</td>\n",
       "      <td>Restaurant</td>\n",
       "      <td>22</td>\n",
       "      <td>0</td>\n",
       "    </tr>\n",
       "    <tr>\n",
       "      <th>4</th>\n",
       "      <td>11790</td>\n",
       "      <td>POLLEN</td>\n",
       "      <td>2100 ECHO PARK AVE</td>\n",
       "      <td>False</td>\n",
       "      <td>Restaurant</td>\n",
       "      <td>20</td>\n",
       "      <td>0</td>\n",
       "    </tr>\n",
       "  </tbody>\n",
       "</table>\n",
       "</div>"
      ],
      "text/plain": [
       "      id          object_name                    address  chain object_type  \\\n",
       "0  11786  HABITAT COFFEE SHOP     3708 N EAGLE ROCK BLVD  False        Cafe   \n",
       "1  11787             REILLY'S        100 WORLD WAY # 120  False  Restaurant   \n",
       "2  11788       STREET CHURROS  6801 HOLLYWOOD BLVD # 253  False   Fast Food   \n",
       "3  11789    TRINITI ECHO PARK         1814 W SUNSET BLVD  False  Restaurant   \n",
       "4  11790               POLLEN         2100 ECHO PARK AVE  False  Restaurant   \n",
       "\n",
       "   number  chainint  \n",
       "0      26         0  \n",
       "1       9         0  \n",
       "2      20         0  \n",
       "3      22         0  \n",
       "4      20         0  "
      ]
     },
     "execution_count": 26,
     "metadata": {},
     "output_type": "execute_result"
    }
   ],
   "source": [
    "data['chainint']=data['chain'].astype(int)\n",
    "data.head()"
   ]
  },
  {
   "cell_type": "code",
   "execution_count": 27,
   "id": "d3ebd6ce",
   "metadata": {},
   "outputs": [
    {
     "data": {
      "text/html": [
       "<div>\n",
       "<style scoped>\n",
       "    .dataframe tbody tr th:only-of-type {\n",
       "        vertical-align: middle;\n",
       "    }\n",
       "\n",
       "    .dataframe tbody tr th {\n",
       "        vertical-align: top;\n",
       "    }\n",
       "\n",
       "    .dataframe thead th {\n",
       "        text-align: right;\n",
       "    }\n",
       "</style>\n",
       "<table border=\"1\" class=\"dataframe\">\n",
       "  <thead>\n",
       "    <tr style=\"text-align: right;\">\n",
       "      <th></th>\n",
       "      <th>object_type</th>\n",
       "      <th>chainint</th>\n",
       "    </tr>\n",
       "  </thead>\n",
       "  <tbody>\n",
       "    <tr>\n",
       "      <th>0</th>\n",
       "      <td>Bakery</td>\n",
       "      <td>283</td>\n",
       "    </tr>\n",
       "    <tr>\n",
       "      <th>1</th>\n",
       "      <td>Bar</td>\n",
       "      <td>77</td>\n",
       "    </tr>\n",
       "    <tr>\n",
       "      <th>2</th>\n",
       "      <td>Cafe</td>\n",
       "      <td>266</td>\n",
       "    </tr>\n",
       "    <tr>\n",
       "      <th>3</th>\n",
       "      <td>Fast Food</td>\n",
       "      <td>605</td>\n",
       "    </tr>\n",
       "    <tr>\n",
       "      <th>4</th>\n",
       "      <td>Pizza</td>\n",
       "      <td>153</td>\n",
       "    </tr>\n",
       "    <tr>\n",
       "      <th>5</th>\n",
       "      <td>Restaurant</td>\n",
       "      <td>2293</td>\n",
       "    </tr>\n",
       "  </tbody>\n",
       "</table>\n",
       "</div>"
      ],
      "text/plain": [
       "  object_type  chainint\n",
       "0      Bakery       283\n",
       "1         Bar        77\n",
       "2        Cafe       266\n",
       "3   Fast Food       605\n",
       "4       Pizza       153\n",
       "5  Restaurant      2293"
      ]
     },
     "execution_count": 27,
     "metadata": {},
     "output_type": "execute_result"
    }
   ],
   "source": [
    "dt_ratio=data.groupby(data['object_type'])['chainint'].sum().reset_index()\n",
    "dt_ratio"
   ]
  },
  {
   "cell_type": "code",
   "execution_count": 28,
   "id": "2fd8a04a",
   "metadata": {},
   "outputs": [
    {
     "data": {
      "text/html": [
       "<div>\n",
       "<style scoped>\n",
       "    .dataframe tbody tr th:only-of-type {\n",
       "        vertical-align: middle;\n",
       "    }\n",
       "\n",
       "    .dataframe tbody tr th {\n",
       "        vertical-align: top;\n",
       "    }\n",
       "\n",
       "    .dataframe thead th {\n",
       "        text-align: right;\n",
       "    }\n",
       "</style>\n",
       "<table border=\"1\" class=\"dataframe\">\n",
       "  <thead>\n",
       "    <tr style=\"text-align: right;\">\n",
       "      <th></th>\n",
       "      <th>object_type</th>\n",
       "      <th>id</th>\n",
       "    </tr>\n",
       "  </thead>\n",
       "  <tbody>\n",
       "    <tr>\n",
       "      <th>0</th>\n",
       "      <td>Bakery</td>\n",
       "      <td>283</td>\n",
       "    </tr>\n",
       "    <tr>\n",
       "      <th>1</th>\n",
       "      <td>Bar</td>\n",
       "      <td>292</td>\n",
       "    </tr>\n",
       "    <tr>\n",
       "      <th>2</th>\n",
       "      <td>Cafe</td>\n",
       "      <td>435</td>\n",
       "    </tr>\n",
       "    <tr>\n",
       "      <th>3</th>\n",
       "      <td>Fast Food</td>\n",
       "      <td>1066</td>\n",
       "    </tr>\n",
       "    <tr>\n",
       "      <th>4</th>\n",
       "      <td>Pizza</td>\n",
       "      <td>320</td>\n",
       "    </tr>\n",
       "    <tr>\n",
       "      <th>5</th>\n",
       "      <td>Restaurant</td>\n",
       "      <td>7255</td>\n",
       "    </tr>\n",
       "  </tbody>\n",
       "</table>\n",
       "</div>"
      ],
      "text/plain": [
       "  object_type    id\n",
       "0      Bakery   283\n",
       "1         Bar   292\n",
       "2        Cafe   435\n",
       "3   Fast Food  1066\n",
       "4       Pizza   320\n",
       "5  Restaurant  7255"
      ]
     },
     "execution_count": 28,
     "metadata": {},
     "output_type": "execute_result"
    }
   ],
   "source": [
    "dt_ratios=data.groupby(data['object_type'])['id'].count().reset_index()\n",
    "dt_ratios"
   ]
  },
  {
   "cell_type": "code",
   "execution_count": 29,
   "id": "48e1adea",
   "metadata": {},
   "outputs": [
    {
     "data": {
      "text/html": [
       "<div>\n",
       "<style scoped>\n",
       "    .dataframe tbody tr th:only-of-type {\n",
       "        vertical-align: middle;\n",
       "    }\n",
       "\n",
       "    .dataframe tbody tr th {\n",
       "        vertical-align: top;\n",
       "    }\n",
       "\n",
       "    .dataframe thead th {\n",
       "        text-align: right;\n",
       "    }\n",
       "</style>\n",
       "<table border=\"1\" class=\"dataframe\">\n",
       "  <thead>\n",
       "    <tr style=\"text-align: right;\">\n",
       "      <th></th>\n",
       "      <th>object_type</th>\n",
       "      <th>chainint</th>\n",
       "      <th>id</th>\n",
       "      <th>not_chain</th>\n",
       "    </tr>\n",
       "  </thead>\n",
       "  <tbody>\n",
       "    <tr>\n",
       "      <th>0</th>\n",
       "      <td>Bakery</td>\n",
       "      <td>283</td>\n",
       "      <td>283</td>\n",
       "      <td>0</td>\n",
       "    </tr>\n",
       "    <tr>\n",
       "      <th>1</th>\n",
       "      <td>Bar</td>\n",
       "      <td>77</td>\n",
       "      <td>292</td>\n",
       "      <td>215</td>\n",
       "    </tr>\n",
       "    <tr>\n",
       "      <th>2</th>\n",
       "      <td>Cafe</td>\n",
       "      <td>266</td>\n",
       "      <td>435</td>\n",
       "      <td>169</td>\n",
       "    </tr>\n",
       "    <tr>\n",
       "      <th>3</th>\n",
       "      <td>Fast Food</td>\n",
       "      <td>605</td>\n",
       "      <td>1066</td>\n",
       "      <td>461</td>\n",
       "    </tr>\n",
       "    <tr>\n",
       "      <th>4</th>\n",
       "      <td>Pizza</td>\n",
       "      <td>153</td>\n",
       "      <td>320</td>\n",
       "      <td>167</td>\n",
       "    </tr>\n",
       "    <tr>\n",
       "      <th>5</th>\n",
       "      <td>Restaurant</td>\n",
       "      <td>2293</td>\n",
       "      <td>7255</td>\n",
       "      <td>4962</td>\n",
       "    </tr>\n",
       "  </tbody>\n",
       "</table>\n",
       "</div>"
      ],
      "text/plain": [
       "  object_type  chainint    id  not_chain\n",
       "0      Bakery       283   283          0\n",
       "1         Bar        77   292        215\n",
       "2        Cafe       266   435        169\n",
       "3   Fast Food       605  1066        461\n",
       "4       Pizza       153   320        167\n",
       "5  Restaurant      2293  7255       4962"
      ]
     },
     "execution_count": 29,
     "metadata": {},
     "output_type": "execute_result"
    }
   ],
   "source": [
    "dt_ratio = dt_ratio.merge(dt_ratios, how='left', on=['object_type'])\n",
    "dt_ratio['not_chain']=dt_ratio['id']-dt_ratio['chainint']\n",
    "dt_ratio"
   ]
  },
  {
   "cell_type": "code",
   "execution_count": 30,
   "id": "41122f07",
   "metadata": {},
   "outputs": [
    {
     "data": {
      "image/png": "[encoded data removed]",
      "text/plain": [
       "<Figure size 720x720 with 1 Axes>"
      ]
     },
     "metadata": {
      "needs_background": "light"
     },
     "output_type": "display_data"
    }
   ],
   "source": [
    "index=[\"object_type\"]\n",
    "dt_ratio.plot(x='object_type', y= ['chainint', 'not_chain'], figsize=(10,10) , stacked=True , kind='bar');\n",
    "\n",
    "plt.xlabel(\"Freqency\");\n",
    "plt.ylabel(\"Type of establishment\");"
   ]
  },
  {
   "cell_type": "code",
   "execution_count": 31,
   "id": "ccf33359",
   "metadata": {},
   "outputs": [
    {
     "data": {
      "text/html": [
       "<div>\n",
       "<style scoped>\n",
       "    .dataframe tbody tr th:only-of-type {\n",
       "        vertical-align: middle;\n",
       "    }\n",
       "\n",
       "    .dataframe tbody tr th {\n",
       "        vertical-align: top;\n",
       "    }\n",
       "\n",
       "    .dataframe thead th {\n",
       "        text-align: right;\n",
       "    }\n",
       "</style>\n",
       "<table border=\"1\" class=\"dataframe\">\n",
       "  <thead>\n",
       "    <tr style=\"text-align: right;\">\n",
       "      <th></th>\n",
       "      <th>object_type</th>\n",
       "      <th>chainint</th>\n",
       "      <th>id</th>\n",
       "      <th>not_chain</th>\n",
       "      <th>ratio</th>\n",
       "    </tr>\n",
       "  </thead>\n",
       "  <tbody>\n",
       "    <tr>\n",
       "      <th>0</th>\n",
       "      <td>Bakery</td>\n",
       "      <td>283</td>\n",
       "      <td>283</td>\n",
       "      <td>0</td>\n",
       "      <td>100.000000</td>\n",
       "    </tr>\n",
       "    <tr>\n",
       "      <th>1</th>\n",
       "      <td>Bar</td>\n",
       "      <td>77</td>\n",
       "      <td>292</td>\n",
       "      <td>215</td>\n",
       "      <td>26.369863</td>\n",
       "    </tr>\n",
       "    <tr>\n",
       "      <th>2</th>\n",
       "      <td>Cafe</td>\n",
       "      <td>266</td>\n",
       "      <td>435</td>\n",
       "      <td>169</td>\n",
       "      <td>61.149425</td>\n",
       "    </tr>\n",
       "    <tr>\n",
       "      <th>3</th>\n",
       "      <td>Fast Food</td>\n",
       "      <td>605</td>\n",
       "      <td>1066</td>\n",
       "      <td>461</td>\n",
       "      <td>56.754221</td>\n",
       "    </tr>\n",
       "    <tr>\n",
       "      <th>4</th>\n",
       "      <td>Pizza</td>\n",
       "      <td>153</td>\n",
       "      <td>320</td>\n",
       "      <td>167</td>\n",
       "      <td>47.812500</td>\n",
       "    </tr>\n",
       "    <tr>\n",
       "      <th>5</th>\n",
       "      <td>Restaurant</td>\n",
       "      <td>2293</td>\n",
       "      <td>7255</td>\n",
       "      <td>4962</td>\n",
       "      <td>31.605789</td>\n",
       "    </tr>\n",
       "  </tbody>\n",
       "</table>\n",
       "</div>"
      ],
      "text/plain": [
       "  object_type  chainint    id  not_chain       ratio\n",
       "0      Bakery       283   283          0  100.000000\n",
       "1         Bar        77   292        215   26.369863\n",
       "2        Cafe       266   435        169   61.149425\n",
       "3   Fast Food       605  1066        461   56.754221\n",
       "4       Pizza       153   320        167   47.812500\n",
       "5  Restaurant      2293  7255       4962   31.605789"
      ]
     },
     "execution_count": 31,
     "metadata": {},
     "output_type": "execute_result"
    }
   ],
   "source": [
    "dt_ratio_percent = dt_ratio\n",
    "dt_ratio_percent['ratio'] = 100*dt_ratio_percent['chainint']/dt_ratio_percent['id']\n",
    "dt_ratio_percent"
   ]
  },
  {
   "cell_type": "code",
   "execution_count": 32,
   "id": "d3256fcf",
   "metadata": {},
   "outputs": [
    {
     "data": {
      "image/png": "[encoded data removed]",
      "text/plain": [
       "<Figure size 432x288 with 1 Axes>"
      ]
     },
     "metadata": {
      "needs_background": "light"
     },
     "output_type": "display_data"
    }
   ],
   "source": [
    "dt_ratio_percent.plot(x='object_type' ,y='ratio' , kind='bar');"
   ]
  },
  {
   "cell_type": "code",
   "execution_count": 33,
   "id": "94200c9e",
   "metadata": {},
   "outputs": [],
   "source": [
    "grouped_set=data.groupby(['object_type'])['id'].nunique().reset_index()"
   ]
  },
  {
   "cell_type": "markdown",
   "id": "f695a5f2",
   "metadata": {},
   "source": [
    "According to the information in this data set, all the bakery's in Los Angeles are part of a chain, 61% cafe's are chains and right behind them are the fast food and pizza establishments. \n",
    "This is surprising information, fast foods tend to be chains. We tend to think of the large number of visible chain restaurants but forget about the \"long-tail\" of convenient outlets (taco stands for instance).\n",
    "Maybe the LA residents prefer establishments that are not chains.   "
   ]
  },
  {
   "cell_type": "markdown",
   "id": "3a056c38",
   "metadata": {},
   "source": [
    "### 4. What characterizes chains: many establishments with a small number of seats or a few establishments with a lot of seats?"
   ]
  },
  {
   "cell_type": "code",
   "execution_count": 34,
   "id": "a8c61a53",
   "metadata": {},
   "outputs": [],
   "source": [
    "rest_grouped=data[data.chain==True].groupby(['object_name'])['number'].agg(['count','median']).reset_index()\n",
    "rest_grouped.columns=['name','number','average_seating']\n",
    "\n",
    "rest_grouped=rest_grouped.sort_values(by='average_seating', ascending=False)"
   ]
  },
  {
   "cell_type": "code",
   "execution_count": 35,
   "id": "33b71210",
   "metadata": {},
   "outputs": [
    {
     "name": "stdout",
     "output_type": "stream",
     "text": [
      "(2734, 3)\n"
     ]
    },
    {
     "data": {
      "text/html": [
       "<div>\n",
       "<style scoped>\n",
       "    .dataframe tbody tr th:only-of-type {\n",
       "        vertical-align: middle;\n",
       "    }\n",
       "\n",
       "    .dataframe tbody tr th {\n",
       "        vertical-align: top;\n",
       "    }\n",
       "\n",
       "    .dataframe thead th {\n",
       "        text-align: right;\n",
       "    }\n",
       "</style>\n",
       "<table border=\"1\" class=\"dataframe\">\n",
       "  <thead>\n",
       "    <tr style=\"text-align: right;\">\n",
       "      <th></th>\n",
       "      <th>name</th>\n",
       "      <th>number</th>\n",
       "      <th>average_seating</th>\n",
       "    </tr>\n",
       "  </thead>\n",
       "  <tbody>\n",
       "    <tr>\n",
       "      <th>1572</th>\n",
       "      <td>MOUNTAINGATE COUNTRY CLUB</td>\n",
       "      <td>1</td>\n",
       "      <td>229.0</td>\n",
       "    </tr>\n",
       "    <tr>\n",
       "      <th>390</th>\n",
       "      <td>CHUCK E CHEESE'S #397</td>\n",
       "      <td>1</td>\n",
       "      <td>228.0</td>\n",
       "    </tr>\n",
       "    <tr>\n",
       "      <th>2578</th>\n",
       "      <td>USC MAIN KITCHEN-BASEMENT</td>\n",
       "      <td>1</td>\n",
       "      <td>227.0</td>\n",
       "    </tr>\n",
       "    <tr>\n",
       "      <th>1495</th>\n",
       "      <td>MCDONALD'S #5968</td>\n",
       "      <td>1</td>\n",
       "      <td>227.0</td>\n",
       "    </tr>\n",
       "    <tr>\n",
       "      <th>387</th>\n",
       "      <td>CHOSUN GALBEE RESTAURANT</td>\n",
       "      <td>1</td>\n",
       "      <td>226.0</td>\n",
       "    </tr>\n",
       "  </tbody>\n",
       "</table>\n",
       "</div>"
      ],
      "text/plain": [
       "                           name  number  average_seating\n",
       "1572  MOUNTAINGATE COUNTRY CLUB       1            229.0\n",
       "390       CHUCK E CHEESE'S #397       1            228.0\n",
       "2578  USC MAIN KITCHEN-BASEMENT       1            227.0\n",
       "1495           MCDONALD'S #5968       1            227.0\n",
       "387    CHOSUN GALBEE RESTAURANT       1            226.0"
      ]
     },
     "execution_count": 35,
     "metadata": {},
     "output_type": "execute_result"
    }
   ],
   "source": [
    "print(rest_grouped.shape)\n",
    "rest_grouped.head(5)"
   ]
  },
  {
   "cell_type": "code",
   "execution_count": 36,
   "id": "6432b50b",
   "metadata": {},
   "outputs": [
    {
     "data": {
      "text/html": [
       "<div>\n",
       "<style scoped>\n",
       "    .dataframe tbody tr th:only-of-type {\n",
       "        vertical-align: middle;\n",
       "    }\n",
       "\n",
       "    .dataframe tbody tr th {\n",
       "        vertical-align: top;\n",
       "    }\n",
       "\n",
       "    .dataframe thead th {\n",
       "        text-align: right;\n",
       "    }\n",
       "</style>\n",
       "<table border=\"1\" class=\"dataframe\">\n",
       "  <thead>\n",
       "    <tr style=\"text-align: right;\">\n",
       "      <th></th>\n",
       "      <th>name</th>\n",
       "      <th>number</th>\n",
       "      <th>average_seating</th>\n",
       "    </tr>\n",
       "  </thead>\n",
       "  <tbody>\n",
       "    <tr>\n",
       "      <th>54</th>\n",
       "      <td>ANGELICA'S BAKERY</td>\n",
       "      <td>1</td>\n",
       "      <td>1.0</td>\n",
       "    </tr>\n",
       "    <tr>\n",
       "      <th>1414</th>\n",
       "      <td>MARKET RESTAURANT @ LA MART</td>\n",
       "      <td>1</td>\n",
       "      <td>1.0</td>\n",
       "    </tr>\n",
       "    <tr>\n",
       "      <th>1171</th>\n",
       "      <td>LA FIESTA BAKERY AND RESTAURANT</td>\n",
       "      <td>1</td>\n",
       "      <td>1.0</td>\n",
       "    </tr>\n",
       "    <tr>\n",
       "      <th>1170</th>\n",
       "      <td>LA FIESTA BAKERY</td>\n",
       "      <td>1</td>\n",
       "      <td>1.0</td>\n",
       "    </tr>\n",
       "    <tr>\n",
       "      <th>1746</th>\n",
       "      <td>PARU'S INDIAN RESTAURANT</td>\n",
       "      <td>1</td>\n",
       "      <td>1.0</td>\n",
       "    </tr>\n",
       "  </tbody>\n",
       "</table>\n",
       "</div>"
      ],
      "text/plain": [
       "                                 name  number  average_seating\n",
       "54                  ANGELICA'S BAKERY       1              1.0\n",
       "1414      MARKET RESTAURANT @ LA MART       1              1.0\n",
       "1171  LA FIESTA BAKERY AND RESTAURANT       1              1.0\n",
       "1170                 LA FIESTA BAKERY       1              1.0\n",
       "1746         PARU'S INDIAN RESTAURANT       1              1.0"
      ]
     },
     "execution_count": 36,
     "metadata": {},
     "output_type": "execute_result"
    }
   ],
   "source": [
    "rest_grouped.tail(5)"
   ]
  },
  {
   "cell_type": "code",
   "execution_count": 37,
   "id": "7fb2f7c5",
   "metadata": {},
   "outputs": [],
   "source": [
    "#to_power2 = 'to_power2.xlsx' \n",
    "#rest_grouped.to_excel(to_power2)"
   ]
  },
  {
   "cell_type": "code",
   "execution_count": 38,
   "id": "eea75eee",
   "metadata": {},
   "outputs": [
    {
     "data": {
      "text/plain": [
       "count    2734.000000\n",
       "mean       41.358998\n",
       "std        44.311443\n",
       "min         1.000000\n",
       "25%        14.000000\n",
       "50%        26.000000\n",
       "75%        45.000000\n",
       "max       229.000000\n",
       "Name: average_seating, dtype: float64"
      ]
     },
     "execution_count": 38,
     "metadata": {},
     "output_type": "execute_result"
    }
   ],
   "source": [
    "rest_grouped['average_seating'].describe()"
   ]
  },
  {
   "cell_type": "code",
   "execution_count": 39,
   "id": "88fc2a59",
   "metadata": {},
   "outputs": [
    {
     "data": {
      "image/png": "[encoded data removed]",
      "text/plain": [
       "<Figure size 504x360 with 1 Axes>"
      ]
     },
     "metadata": {
      "needs_background": "light"
     },
     "output_type": "display_data"
    }
   ],
   "source": [
    "rest_grouped['average_seating'].hist(figsize=(7,5), bins=20);"
   ]
  },
  {
   "cell_type": "code",
   "execution_count": 40,
   "id": "fd89afc2",
   "metadata": {},
   "outputs": [
    {
     "data": {
      "image/png": "[encoded data removed]",
      "text/plain": [
       "<Figure size 432x288 with 1 Axes>"
      ]
     },
     "metadata": {
      "needs_background": "light"
     },
     "output_type": "display_data"
    }
   ],
   "source": [
    "rest_grouped.plot(x='average_seating', y='number', style='o', alpha=0.5, title= 'Number of seats');"
   ]
  },
  {
   "cell_type": "markdown",
   "id": "b102e565",
   "metadata": {},
   "source": [
    "This is the general number of seats graph (chain and non chain)."
   ]
  },
  {
   "cell_type": "code",
   "execution_count": 41,
   "id": "c73cd72d",
   "metadata": {},
   "outputs": [
    {
     "data": {
      "image/png": "[encoded data removed]",
      "text/plain": [
       "<Figure size 504x360 with 1 Axes>"
      ]
     },
     "metadata": {
      "needs_background": "light"
     },
     "output_type": "display_data"
    }
   ],
   "source": [
    "data['number'].hist(figsize=(7,5), bins=50, color='purple');"
   ]
  },
  {
   "cell_type": "markdown",
   "id": "6e9f0e20",
   "metadata": {},
   "source": [
    "Many establishments with a small number of seats.\n",
    "As I assumed at the start of the analysis the establishments with 2 seats seem to mostly be delis and bakery's, the higher seat counts are from large chain establishments."
   ]
  },
  {
   "cell_type": "markdown",
   "id": "c0b0e811",
   "metadata": {},
   "source": [
    "### 5. Determine the average number of seats for each type of restaurant. On average, which type of restaurant has the greatest number of seats? Plot graphs."
   ]
  },
  {
   "cell_type": "code",
   "execution_count": 42,
   "id": "28be5ec4",
   "metadata": {},
   "outputs": [
    {
     "data": {
      "text/html": [
       "<div>\n",
       "<style scoped>\n",
       "    .dataframe tbody tr th:only-of-type {\n",
       "        vertical-align: middle;\n",
       "    }\n",
       "\n",
       "    .dataframe tbody tr th {\n",
       "        vertical-align: top;\n",
       "    }\n",
       "\n",
       "    .dataframe thead th {\n",
       "        text-align: right;\n",
       "    }\n",
       "</style>\n",
       "<table border=\"1\" class=\"dataframe\">\n",
       "  <thead>\n",
       "    <tr style=\"text-align: right;\">\n",
       "      <th></th>\n",
       "      <th>object_type</th>\n",
       "      <th>number</th>\n",
       "      <th>emoji1</th>\n",
       "    </tr>\n",
       "  </thead>\n",
       "  <tbody>\n",
       "    <tr>\n",
       "      <th>5</th>\n",
       "      <td>Restaurant</td>\n",
       "      <td>29.0</td>\n",
       "      <td>🍽️</td>\n",
       "    </tr>\n",
       "    <tr>\n",
       "      <th>1</th>\n",
       "      <td>Bar</td>\n",
       "      <td>28.5</td>\n",
       "      <td>🍷</td>\n",
       "    </tr>\n",
       "    <tr>\n",
       "      <th>2</th>\n",
       "      <td>Cafe</td>\n",
       "      <td>21.0</td>\n",
       "      <td>🍲</td>\n",
       "    </tr>\n",
       "    <tr>\n",
       "      <th>3</th>\n",
       "      <td>Fast Food</td>\n",
       "      <td>21.0</td>\n",
       "      <td>🍔</td>\n",
       "    </tr>\n",
       "    <tr>\n",
       "      <th>4</th>\n",
       "      <td>Pizza</td>\n",
       "      <td>18.5</td>\n",
       "      <td>🍕</td>\n",
       "    </tr>\n",
       "    <tr>\n",
       "      <th>0</th>\n",
       "      <td>Bakery</td>\n",
       "      <td>18.0</td>\n",
       "      <td>🎂</td>\n",
       "    </tr>\n",
       "  </tbody>\n",
       "</table>\n",
       "</div>"
      ],
      "text/plain": [
       "  object_type  number emoji1\n",
       "5  Restaurant    29.0     🍽️\n",
       "1         Bar    28.5      🍷\n",
       "2        Cafe    21.0      🍲\n",
       "3   Fast Food    21.0      🍔\n",
       "4       Pizza    18.5      🍕\n",
       "0      Bakery    18.0      🎂"
      ]
     },
     "execution_count": 42,
     "metadata": {},
     "output_type": "execute_result"
    }
   ],
   "source": [
    "seating_grouped=seating_grouped.sort_values(by='number', ascending=False)\n",
    "seating_grouped"
   ]
  },
  {
   "cell_type": "code",
   "execution_count": 43,
   "id": "066af1ea",
   "metadata": {},
   "outputs": [
    {
     "data": {
      "text/plain": [
       "5    🍽️\n",
       "1     🍷\n",
       "2     🍲\n",
       "3     🍔\n",
       "4     🍕\n",
       "0     🎂\n",
       "Name: emoji1, dtype: object"
      ]
     },
     "execution_count": 43,
     "metadata": {},
     "output_type": "execute_result"
    }
   ],
   "source": [
    "lable=seating_grouped['emoji1']\n",
    "lable"
   ]
  },
  {
   "cell_type": "code",
   "execution_count": 44,
   "id": "3fa2311c",
   "metadata": {},
   "outputs": [
    {
     "data": {
      "image/png": "[encoded data removed]",
      "text/plain": [
       "<Figure size 432x288 with 1 Axes>"
      ]
     },
     "metadata": {
      "needs_background": "light"
     },
     "output_type": "display_data"
    }
   ],
   "source": [
    "seating_grouped.plot.barh( x='object_type' ,y='number', color=\"pink\");\n",
    "#unfortunatly did not manage to add the emojis to the table :("
   ]
  },
  {
   "cell_type": "markdown",
   "id": "6fa0ef21",
   "metadata": {},
   "source": [
    "\n"
   ]
  },
  {
   "cell_type": "markdown",
   "id": "bd5a85b2",
   "metadata": {},
   "source": [
    "\n",
    "Restaurant are the establishments with the highest average number of seats fallowed by bars. Considering that the outliers in this data range between 2 and 228 the average here reflects on those very strong outliers, my assumption is that in general most of the establishments are about 25 seat."
   ]
  },
  {
   "cell_type": "markdown",
   "id": "17ad8da0",
   "metadata": {},
   "source": [
    "### 6. Put the data on street names from the address column in a separate column."
   ]
  },
  {
   "cell_type": "code",
   "execution_count": 45,
   "id": "58807808",
   "metadata": {},
   "outputs": [
    {
     "data": {
      "text/plain": [
       "'3708 N EAGLE ROCK BLVD'"
      ]
     },
     "execution_count": 45,
     "metadata": {},
     "output_type": "execute_result"
    }
   ],
   "source": [
    "street_example=data.iloc[0]['address']\n",
    "street_example"
   ]
  },
  {
   "cell_type": "markdown",
   "id": "8a67712b",
   "metadata": {},
   "source": [
    "Taking a look at the address structure and testing out the new library.  "
   ]
  },
  {
   "cell_type": "code",
   "execution_count": 46,
   "id": "7162edd6",
   "metadata": {},
   "outputs": [
    {
     "data": {
      "text/plain": [
       "[('3708', 'AddressNumber'),\n",
       " ('N', 'StreetNamePreDirectional'),\n",
       " ('EAGLE', 'StreetName'),\n",
       " ('ROCK', 'StreetName'),\n",
       " ('BLVD', 'StreetNamePostType')]"
      ]
     },
     "execution_count": 46,
     "metadata": {},
     "output_type": "execute_result"
    }
   ],
   "source": [
    "usaddress.parse(street_example)"
   ]
  },
  {
   "cell_type": "code",
   "execution_count": 47,
   "id": "0c737dfd",
   "metadata": {},
   "outputs": [
    {
     "data": {
      "text/plain": [
       "[('3708', 'AddressNumber'),\n",
       " ('N', 'StreetNamePreDirectional'),\n",
       " ('EAGLE', 'StreetName'),\n",
       " ('ROCK', 'StreetName'),\n",
       " ('BLVD', 'StreetNamePostType')]"
      ]
     },
     "execution_count": 47,
     "metadata": {},
     "output_type": "execute_result"
    }
   ],
   "source": [
    "raw_address=usaddress.parse(street_example)\n",
    "raw_address"
   ]
  },
  {
   "cell_type": "markdown",
   "id": "6516c374",
   "metadata": {},
   "source": [
    "Testing out the new method"
   ]
  },
  {
   "cell_type": "code",
   "execution_count": 48,
   "id": "24ab3ad8",
   "metadata": {},
   "outputs": [],
   "source": [
    "dict_address={}\n",
    "for i in raw_address:\n",
    "    dict_address.update({i[1]:i[0]})"
   ]
  },
  {
   "cell_type": "code",
   "execution_count": 49,
   "id": "aef731d1",
   "metadata": {},
   "outputs": [
    {
     "data": {
      "text/plain": [
       "{'AddressNumber': '3708',\n",
       " 'StreetNamePreDirectional': 'N',\n",
       " 'StreetName': 'ROCK',\n",
       " 'StreetNamePostType': 'BLVD'}"
      ]
     },
     "execution_count": 49,
     "metadata": {},
     "output_type": "execute_result"
    }
   ],
   "source": [
    "dict_address"
   ]
  },
  {
   "cell_type": "code",
   "execution_count": 50,
   "id": "a5595925",
   "metadata": {},
   "outputs": [
    {
     "data": {
      "text/plain": [
       "'ROCK,3708'"
      ]
     },
     "execution_count": 50,
     "metadata": {},
     "output_type": "execute_result"
    }
   ],
   "source": [
    "dict_address['StreetName']+','+dict_address['AddressNumber']"
   ]
  },
  {
   "cell_type": "code",
   "execution_count": 51,
   "id": "09b0da9e",
   "metadata": {},
   "outputs": [],
   "source": [
    "def cleaning_1(raw):\n",
    "    raw_address=usaddress.parse(raw)\n",
    "    dict_address={}\n",
    "    for i in raw_address:\n",
    "        dict_address.update({i[1]:i[0]})\n",
    "    clean_adress=dict_address['AddressNumber']+\",\"+str(dict_address['StreetName'])\n",
    "    return clean_adress"
   ]
  },
  {
   "cell_type": "code",
   "execution_count": 52,
   "id": "7cef7e45",
   "metadata": {},
   "outputs": [
    {
     "data": {
      "text/plain": [
       "9625       6545,MONICA\n",
       "9393     307,JEFFERSON\n",
       "8241       4963,SUNSET\n",
       "6013    6245,HOLLYWOOD\n",
       "3359      6325,WESTERN\n",
       "Name: address, dtype: object"
      ]
     },
     "execution_count": 52,
     "metadata": {},
     "output_type": "execute_result"
    }
   ],
   "source": [
    "data.address.sample(5).apply(cleaning_1)"
   ]
  },
  {
   "cell_type": "code",
   "execution_count": 53,
   "id": "c5a31cd9",
   "metadata": {},
   "outputs": [],
   "source": [
    "def cleaning_check(raw):\n",
    "    raw_address=usaddress.parse(raw)\n",
    "    dict_address={}\n",
    "    for i in raw_address:\n",
    "        dict_address.update({i[1]:i[0]})\n",
    "    #this line below checks for normal case with street and number    \n",
    "    if 'StreetName' in dict_address.keys() and 'AddressNumber' in dict_address.keys():\n",
    "        clean_adress=dict_address['AddressNumber']+\",\"+str(dict_address['StreetName'])\n",
    "        return clean_adress\n",
    "    else:\n",
    "        return 'no street or number'"
   ]
  },
  {
   "cell_type": "code",
   "execution_count": 54,
   "id": "4a8468eb",
   "metadata": {},
   "outputs": [],
   "source": [
    "data['clean_street_check']=data.address.apply(cleaning_check)"
   ]
  },
  {
   "cell_type": "code",
   "execution_count": 55,
   "id": "6363cfd9",
   "metadata": {},
   "outputs": [
    {
     "data": {
      "text/html": [
       "<div>\n",
       "<style scoped>\n",
       "    .dataframe tbody tr th:only-of-type {\n",
       "        vertical-align: middle;\n",
       "    }\n",
       "\n",
       "    .dataframe tbody tr th {\n",
       "        vertical-align: top;\n",
       "    }\n",
       "\n",
       "    .dataframe thead th {\n",
       "        text-align: right;\n",
       "    }\n",
       "</style>\n",
       "<table border=\"1\" class=\"dataframe\">\n",
       "  <thead>\n",
       "    <tr style=\"text-align: right;\">\n",
       "      <th></th>\n",
       "      <th>id</th>\n",
       "      <th>object_name</th>\n",
       "      <th>address</th>\n",
       "      <th>chain</th>\n",
       "      <th>object_type</th>\n",
       "      <th>number</th>\n",
       "      <th>chainint</th>\n",
       "      <th>clean_street_check</th>\n",
       "    </tr>\n",
       "  </thead>\n",
       "  <tbody>\n",
       "    <tr>\n",
       "      <th>1888</th>\n",
       "      <td>13674</td>\n",
       "      <td>MAGDALENO DEBBIE</td>\n",
       "      <td>OLVERA ST E17</td>\n",
       "      <td>False</td>\n",
       "      <td>Restaurant</td>\n",
       "      <td>15</td>\n",
       "      <td>0</td>\n",
       "      <td>no street or number</td>\n",
       "    </tr>\n",
       "    <tr>\n",
       "      <th>3719</th>\n",
       "      <td>15505</td>\n",
       "      <td>LAS ANITAS</td>\n",
       "      <td>OLVERA ST 26</td>\n",
       "      <td>False</td>\n",
       "      <td>Restaurant</td>\n",
       "      <td>38</td>\n",
       "      <td>0</td>\n",
       "      <td>no street or number</td>\n",
       "    </tr>\n",
       "    <tr>\n",
       "      <th>7003</th>\n",
       "      <td>18789</td>\n",
       "      <td>D.K. DONUTS</td>\n",
       "      <td>1033 1/2 LOS ANGELES ST</td>\n",
       "      <td>False</td>\n",
       "      <td>Fast Food</td>\n",
       "      <td>8</td>\n",
       "      <td>0</td>\n",
       "      <td>no street or number</td>\n",
       "    </tr>\n",
       "    <tr>\n",
       "      <th>7281</th>\n",
       "      <td>19067</td>\n",
       "      <td>CIELITO LINDO</td>\n",
       "      <td>OLVERA ST 23</td>\n",
       "      <td>False</td>\n",
       "      <td>Restaurant</td>\n",
       "      <td>2</td>\n",
       "      <td>0</td>\n",
       "      <td>no street or number</td>\n",
       "    </tr>\n",
       "    <tr>\n",
       "      <th>7319</th>\n",
       "      <td>19105</td>\n",
       "      <td>JUANITA'S CAFE</td>\n",
       "      <td>OLVERA ST 20</td>\n",
       "      <td>False</td>\n",
       "      <td>Restaurant</td>\n",
       "      <td>12</td>\n",
       "      <td>0</td>\n",
       "      <td>no street or number</td>\n",
       "    </tr>\n",
       "    <tr>\n",
       "      <th>7321</th>\n",
       "      <td>19107</td>\n",
       "      <td>KITTY'S SNOW CONES</td>\n",
       "      <td>OLVERA ST 2</td>\n",
       "      <td>False</td>\n",
       "      <td>Restaurant</td>\n",
       "      <td>11</td>\n",
       "      <td>0</td>\n",
       "      <td>no street or number</td>\n",
       "    </tr>\n",
       "    <tr>\n",
       "      <th>7327</th>\n",
       "      <td>19113</td>\n",
       "      <td>LA NOCHE BUENA</td>\n",
       "      <td>OLVERA ST E8</td>\n",
       "      <td>False</td>\n",
       "      <td>Restaurant</td>\n",
       "      <td>1</td>\n",
       "      <td>0</td>\n",
       "      <td>no street or number</td>\n",
       "    </tr>\n",
       "    <tr>\n",
       "      <th>7438</th>\n",
       "      <td>19224</td>\n",
       "      <td>LA GOLONDRINA</td>\n",
       "      <td>OLVERA ST W17</td>\n",
       "      <td>False</td>\n",
       "      <td>Restaurant</td>\n",
       "      <td>204</td>\n",
       "      <td>0</td>\n",
       "      <td>no street or number</td>\n",
       "    </tr>\n",
       "    <tr>\n",
       "      <th>7741</th>\n",
       "      <td>19527</td>\n",
       "      <td>RODOLFO'S RESTAURANT</td>\n",
       "      <td>OLVERA ST 5</td>\n",
       "      <td>True</td>\n",
       "      <td>Restaurant</td>\n",
       "      <td>4</td>\n",
       "      <td>1</td>\n",
       "      <td>no street or number</td>\n",
       "    </tr>\n",
       "  </tbody>\n",
       "</table>\n",
       "</div>"
      ],
      "text/plain": [
       "         id           object_name                  address  chain object_type  \\\n",
       "1888  13674      MAGDALENO DEBBIE            OLVERA ST E17  False  Restaurant   \n",
       "3719  15505            LAS ANITAS             OLVERA ST 26  False  Restaurant   \n",
       "7003  18789           D.K. DONUTS  1033 1/2 LOS ANGELES ST  False   Fast Food   \n",
       "7281  19067         CIELITO LINDO             OLVERA ST 23  False  Restaurant   \n",
       "7319  19105        JUANITA'S CAFE             OLVERA ST 20  False  Restaurant   \n",
       "7321  19107    KITTY'S SNOW CONES              OLVERA ST 2  False  Restaurant   \n",
       "7327  19113        LA NOCHE BUENA             OLVERA ST E8  False  Restaurant   \n",
       "7438  19224         LA GOLONDRINA            OLVERA ST W17  False  Restaurant   \n",
       "7741  19527  RODOLFO'S RESTAURANT              OLVERA ST 5   True  Restaurant   \n",
       "\n",
       "      number  chainint   clean_street_check  \n",
       "1888      15         0  no street or number  \n",
       "3719      38         0  no street or number  \n",
       "7003       8         0  no street or number  \n",
       "7281       2         0  no street or number  \n",
       "7319      12         0  no street or number  \n",
       "7321      11         0  no street or number  \n",
       "7327       1         0  no street or number  \n",
       "7438     204         0  no street or number  \n",
       "7741       4         1  no street or number  "
      ]
     },
     "execution_count": 55,
     "metadata": {},
     "output_type": "execute_result"
    }
   ],
   "source": [
    "data[data['clean_street_check']=='no street or number']"
   ]
  },
  {
   "cell_type": "code",
   "execution_count": 56,
   "id": "9a35f734",
   "metadata": {},
   "outputs": [
    {
     "data": {
      "text/plain": [
       "[('OLVERA', 'PlaceName'), ('ST', 'StateName'), ('E17', 'ZipCode')]"
      ]
     },
     "execution_count": 56,
     "metadata": {},
     "output_type": "execute_result"
    }
   ],
   "source": [
    "usaddress.parse(data.iloc[1888]['address'])"
   ]
  },
  {
   "cell_type": "code",
   "execution_count": 57,
   "id": "0032a125",
   "metadata": {},
   "outputs": [],
   "source": [
    "def cleaning_final(raw):\n",
    "    if raw.startswith('OLVERA'):\n",
    "        clean_adress='OLVERA,Los Angeles,USA'\n",
    "    elif raw.startswith('1033 1/2 LOS ANGELES'):\n",
    "        clean_adress='1033 1/2 LOS ANGELES ST,Los Angeles,USA'\n",
    "    else:\n",
    "        raw_address=usaddress.parse(raw)\n",
    "        dict_address={}\n",
    "        for i in raw_address:\n",
    "            dict_address.update({i[1]:i[0]})\n",
    "        clean_adress=dict_address['AddressNumber']+\" \"+str(dict_address['StreetName'])+str(', Los Angeles,USA')\n",
    "    return clean_adress"
   ]
  },
  {
   "cell_type": "code",
   "execution_count": 58,
   "id": "e7ac8660",
   "metadata": {},
   "outputs": [
    {
     "data": {
      "text/html": [
       "<div>\n",
       "<style scoped>\n",
       "    .dataframe tbody tr th:only-of-type {\n",
       "        vertical-align: middle;\n",
       "    }\n",
       "\n",
       "    .dataframe tbody tr th {\n",
       "        vertical-align: top;\n",
       "    }\n",
       "\n",
       "    .dataframe thead th {\n",
       "        text-align: right;\n",
       "    }\n",
       "</style>\n",
       "<table border=\"1\" class=\"dataframe\">\n",
       "  <thead>\n",
       "    <tr style=\"text-align: right;\">\n",
       "      <th></th>\n",
       "      <th>id</th>\n",
       "      <th>object_name</th>\n",
       "      <th>address</th>\n",
       "      <th>chain</th>\n",
       "      <th>object_type</th>\n",
       "      <th>number</th>\n",
       "      <th>chainint</th>\n",
       "      <th>clean_street_check</th>\n",
       "      <th>clean_street_final</th>\n",
       "    </tr>\n",
       "  </thead>\n",
       "  <tbody>\n",
       "    <tr>\n",
       "      <th>7649</th>\n",
       "      <td>19435</td>\n",
       "      <td>HONG KONG BOWL</td>\n",
       "      <td>1632 E FIRESTONE BLVD</td>\n",
       "      <td>True</td>\n",
       "      <td>Restaurant</td>\n",
       "      <td>1</td>\n",
       "      <td>1</td>\n",
       "      <td>1632,FIRESTONE</td>\n",
       "      <td>1632 FIRESTONE, Los Angeles,USA</td>\n",
       "    </tr>\n",
       "    <tr>\n",
       "      <th>2692</th>\n",
       "      <td>14478</td>\n",
       "      <td>CHINA GATE</td>\n",
       "      <td>11814 S WILMINGTON AVE</td>\n",
       "      <td>False</td>\n",
       "      <td>Restaurant</td>\n",
       "      <td>23</td>\n",
       "      <td>0</td>\n",
       "      <td>11814,WILMINGTON</td>\n",
       "      <td>11814 WILMINGTON, Los Angeles,USA</td>\n",
       "    </tr>\n",
       "    <tr>\n",
       "      <th>8679</th>\n",
       "      <td>20465</td>\n",
       "      <td>KOMASA RESTAURANT</td>\n",
       "      <td>351 E 2ND ST</td>\n",
       "      <td>True</td>\n",
       "      <td>Restaurant</td>\n",
       "      <td>20</td>\n",
       "      <td>1</td>\n",
       "      <td>351,2ND</td>\n",
       "      <td>351 2ND, Los Angeles,USA</td>\n",
       "    </tr>\n",
       "    <tr>\n",
       "      <th>84</th>\n",
       "      <td>11870</td>\n",
       "      <td>KOREAN AIR/ SKYTEAM LOUNGE</td>\n",
       "      <td>380 WORLD WAY S4</td>\n",
       "      <td>False</td>\n",
       "      <td>Restaurant</td>\n",
       "      <td>219</td>\n",
       "      <td>0</td>\n",
       "      <td>380,WORLD</td>\n",
       "      <td>380 WORLD, Los Angeles,USA</td>\n",
       "    </tr>\n",
       "    <tr>\n",
       "      <th>5527</th>\n",
       "      <td>17313</td>\n",
       "      <td>FIDEL'S PIZZA</td>\n",
       "      <td>307 N AVENUE 50</td>\n",
       "      <td>False</td>\n",
       "      <td>Pizza</td>\n",
       "      <td>25</td>\n",
       "      <td>0</td>\n",
       "      <td>307,50</td>\n",
       "      <td>307 50, Los Angeles,USA</td>\n",
       "    </tr>\n",
       "    <tr>\n",
       "      <th>3339</th>\n",
       "      <td>15125</td>\n",
       "      <td>THE GREENROOM</td>\n",
       "      <td>6250 HOLLYWOOD BLVD</td>\n",
       "      <td>False</td>\n",
       "      <td>Restaurant</td>\n",
       "      <td>11</td>\n",
       "      <td>0</td>\n",
       "      <td>6250,HOLLYWOOD</td>\n",
       "      <td>6250 HOLLYWOOD, Los Angeles,USA</td>\n",
       "    </tr>\n",
       "    <tr>\n",
       "      <th>1986</th>\n",
       "      <td>13772</td>\n",
       "      <td>SPARTINA</td>\n",
       "      <td>7505 MELROSE AVE</td>\n",
       "      <td>False</td>\n",
       "      <td>Restaurant</td>\n",
       "      <td>43</td>\n",
       "      <td>0</td>\n",
       "      <td>7505,MELROSE</td>\n",
       "      <td>7505 MELROSE, Los Angeles,USA</td>\n",
       "    </tr>\n",
       "    <tr>\n",
       "      <th>6695</th>\n",
       "      <td>18481</td>\n",
       "      <td>SIMPLY DELICIOUS BURGER</td>\n",
       "      <td>4220 S CRENSHAW BLVD</td>\n",
       "      <td>True</td>\n",
       "      <td>Fast Food</td>\n",
       "      <td>11</td>\n",
       "      <td>1</td>\n",
       "      <td>4220,CRENSHAW</td>\n",
       "      <td>4220 CRENSHAW, Los Angeles,USA</td>\n",
       "    </tr>\n",
       "    <tr>\n",
       "      <th>2731</th>\n",
       "      <td>14517</td>\n",
       "      <td>SINOPOT</td>\n",
       "      <td>3785 WILSHIRE BLVD # 217</td>\n",
       "      <td>False</td>\n",
       "      <td>Restaurant</td>\n",
       "      <td>116</td>\n",
       "      <td>0</td>\n",
       "      <td>3785,WILSHIRE</td>\n",
       "      <td>3785 WILSHIRE, Los Angeles,USA</td>\n",
       "    </tr>\n",
       "    <tr>\n",
       "      <th>4275</th>\n",
       "      <td>16061</td>\n",
       "      <td>URBAN RAMEN</td>\n",
       "      <td>7300 W SUNSET BLVD STE #A</td>\n",
       "      <td>False</td>\n",
       "      <td>Restaurant</td>\n",
       "      <td>45</td>\n",
       "      <td>0</td>\n",
       "      <td>7300,SUNSET</td>\n",
       "      <td>7300 SUNSET, Los Angeles,USA</td>\n",
       "    </tr>\n",
       "  </tbody>\n",
       "</table>\n",
       "</div>"
      ],
      "text/plain": [
       "         id                 object_name                    address  chain  \\\n",
       "7649  19435              HONG KONG BOWL      1632 E FIRESTONE BLVD   True   \n",
       "2692  14478                  CHINA GATE     11814 S WILMINGTON AVE  False   \n",
       "8679  20465           KOMASA RESTAURANT               351 E 2ND ST   True   \n",
       "84    11870  KOREAN AIR/ SKYTEAM LOUNGE           380 WORLD WAY S4  False   \n",
       "5527  17313               FIDEL'S PIZZA            307 N AVENUE 50  False   \n",
       "3339  15125               THE GREENROOM        6250 HOLLYWOOD BLVD  False   \n",
       "1986  13772                    SPARTINA           7505 MELROSE AVE  False   \n",
       "6695  18481     SIMPLY DELICIOUS BURGER       4220 S CRENSHAW BLVD   True   \n",
       "2731  14517                     SINOPOT   3785 WILSHIRE BLVD # 217  False   \n",
       "4275  16061                 URBAN RAMEN  7300 W SUNSET BLVD STE #A  False   \n",
       "\n",
       "     object_type  number  chainint clean_street_check  \\\n",
       "7649  Restaurant       1         1     1632,FIRESTONE   \n",
       "2692  Restaurant      23         0   11814,WILMINGTON   \n",
       "8679  Restaurant      20         1            351,2ND   \n",
       "84    Restaurant     219         0          380,WORLD   \n",
       "5527       Pizza      25         0             307,50   \n",
       "3339  Restaurant      11         0     6250,HOLLYWOOD   \n",
       "1986  Restaurant      43         0       7505,MELROSE   \n",
       "6695   Fast Food      11         1      4220,CRENSHAW   \n",
       "2731  Restaurant     116         0      3785,WILSHIRE   \n",
       "4275  Restaurant      45         0        7300,SUNSET   \n",
       "\n",
       "                     clean_street_final  \n",
       "7649    1632 FIRESTONE, Los Angeles,USA  \n",
       "2692  11814 WILMINGTON, Los Angeles,USA  \n",
       "8679           351 2ND, Los Angeles,USA  \n",
       "84           380 WORLD, Los Angeles,USA  \n",
       "5527            307 50, Los Angeles,USA  \n",
       "3339    6250 HOLLYWOOD, Los Angeles,USA  \n",
       "1986      7505 MELROSE, Los Angeles,USA  \n",
       "6695     4220 CRENSHAW, Los Angeles,USA  \n",
       "2731     3785 WILSHIRE, Los Angeles,USA  \n",
       "4275       7300 SUNSET, Los Angeles,USA  "
      ]
     },
     "execution_count": 58,
     "metadata": {},
     "output_type": "execute_result"
    }
   ],
   "source": [
    "data['clean_street_final']=data.address.apply(cleaning_final)\n",
    "data.sample(10)"
   ]
  },
  {
   "cell_type": "code",
   "execution_count": 59,
   "id": "f0d61152",
   "metadata": {},
   "outputs": [
    {
     "data": {
      "text/html": [
       "<div>\n",
       "<style scoped>\n",
       "    .dataframe tbody tr th:only-of-type {\n",
       "        vertical-align: middle;\n",
       "    }\n",
       "\n",
       "    .dataframe tbody tr th {\n",
       "        vertical-align: top;\n",
       "    }\n",
       "\n",
       "    .dataframe thead th {\n",
       "        text-align: right;\n",
       "    }\n",
       "</style>\n",
       "<table border=\"1\" class=\"dataframe\">\n",
       "  <thead>\n",
       "    <tr style=\"text-align: right;\">\n",
       "      <th></th>\n",
       "      <th>object_name</th>\n",
       "      <th>address</th>\n",
       "      <th>chain</th>\n",
       "      <th>object_type</th>\n",
       "      <th>clean_street_check</th>\n",
       "      <th>clean_street_final</th>\n",
       "    </tr>\n",
       "  </thead>\n",
       "  <tbody>\n",
       "    <tr>\n",
       "      <th>count</th>\n",
       "      <td>9651</td>\n",
       "      <td>9651</td>\n",
       "      <td>9651</td>\n",
       "      <td>9651</td>\n",
       "      <td>9651</td>\n",
       "      <td>9651</td>\n",
       "    </tr>\n",
       "    <tr>\n",
       "      <th>unique</th>\n",
       "      <td>8672</td>\n",
       "      <td>8517</td>\n",
       "      <td>2</td>\n",
       "      <td>6</td>\n",
       "      <td>6518</td>\n",
       "      <td>6519</td>\n",
       "    </tr>\n",
       "    <tr>\n",
       "      <th>top</th>\n",
       "      <td>THE COFFEE BEAN &amp; TEA LEAF</td>\n",
       "      <td>3607 TROUSDALE PKWY</td>\n",
       "      <td>False</td>\n",
       "      <td>Restaurant</td>\n",
       "      <td>10250,MONICA</td>\n",
       "      <td>6333 3RD, Los Angeles,USA</td>\n",
       "    </tr>\n",
       "    <tr>\n",
       "      <th>freq</th>\n",
       "      <td>47</td>\n",
       "      <td>11</td>\n",
       "      <td>5974</td>\n",
       "      <td>7255</td>\n",
       "      <td>63</td>\n",
       "      <td>63</td>\n",
       "    </tr>\n",
       "  </tbody>\n",
       "</table>\n",
       "</div>"
      ],
      "text/plain": [
       "                       object_name              address  chain object_type  \\\n",
       "count                         9651                 9651   9651        9651   \n",
       "unique                        8672                 8517      2           6   \n",
       "top     THE COFFEE BEAN & TEA LEAF  3607 TROUSDALE PKWY  False  Restaurant   \n",
       "freq                            47                   11   5974        7255   \n",
       "\n",
       "       clean_street_check         clean_street_final  \n",
       "count                9651                       9651  \n",
       "unique               6518                       6519  \n",
       "top          10250,MONICA  6333 3RD, Los Angeles,USA  \n",
       "freq                   63                         63  "
      ]
     },
     "execution_count": 59,
     "metadata": {},
     "output_type": "execute_result"
    }
   ],
   "source": [
    "data.describe(include=['object'])"
   ]
  },
  {
   "cell_type": "code",
   "execution_count": 60,
   "id": "198322e6",
   "metadata": {},
   "outputs": [
    {
     "data": {
      "text/html": [
       "<div>\n",
       "<style scoped>\n",
       "    .dataframe tbody tr th:only-of-type {\n",
       "        vertical-align: middle;\n",
       "    }\n",
       "\n",
       "    .dataframe tbody tr th {\n",
       "        vertical-align: top;\n",
       "    }\n",
       "\n",
       "    .dataframe thead th {\n",
       "        text-align: right;\n",
       "    }\n",
       "</style>\n",
       "<table border=\"1\" class=\"dataframe\">\n",
       "  <thead>\n",
       "    <tr style=\"text-align: right;\">\n",
       "      <th></th>\n",
       "      <th>id</th>\n",
       "      <th>object_name</th>\n",
       "      <th>address</th>\n",
       "      <th>chain</th>\n",
       "      <th>object_type</th>\n",
       "      <th>number</th>\n",
       "      <th>chainint</th>\n",
       "      <th>clean_street_check</th>\n",
       "      <th>clean_street_final</th>\n",
       "    </tr>\n",
       "  </thead>\n",
       "  <tbody>\n",
       "    <tr>\n",
       "      <th>0</th>\n",
       "      <td>11786</td>\n",
       "      <td>HABITAT COFFEE SHOP</td>\n",
       "      <td>3708 N EAGLE ROCK BLVD</td>\n",
       "      <td>False</td>\n",
       "      <td>Cafe</td>\n",
       "      <td>26</td>\n",
       "      <td>0</td>\n",
       "      <td>3708,ROCK</td>\n",
       "      <td>3708 ROCK, Los Angeles,USA</td>\n",
       "    </tr>\n",
       "    <tr>\n",
       "      <th>1</th>\n",
       "      <td>11787</td>\n",
       "      <td>REILLY'S</td>\n",
       "      <td>100 WORLD WAY # 120</td>\n",
       "      <td>False</td>\n",
       "      <td>Restaurant</td>\n",
       "      <td>9</td>\n",
       "      <td>0</td>\n",
       "      <td>100,WORLD</td>\n",
       "      <td>100 WORLD, Los Angeles,USA</td>\n",
       "    </tr>\n",
       "  </tbody>\n",
       "</table>\n",
       "</div>"
      ],
      "text/plain": [
       "      id          object_name                 address  chain object_type  \\\n",
       "0  11786  HABITAT COFFEE SHOP  3708 N EAGLE ROCK BLVD  False        Cafe   \n",
       "1  11787             REILLY'S     100 WORLD WAY # 120  False  Restaurant   \n",
       "\n",
       "   number  chainint clean_street_check          clean_street_final  \n",
       "0      26         0          3708,ROCK  3708 ROCK, Los Angeles,USA  \n",
       "1       9         0          100,WORLD  100 WORLD, Los Angeles,USA  "
      ]
     },
     "execution_count": 60,
     "metadata": {},
     "output_type": "execute_result"
    }
   ],
   "source": [
    "data.head(2)"
   ]
  },
  {
   "cell_type": "code",
   "execution_count": 61,
   "id": "e3df497a",
   "metadata": {},
   "outputs": [
    {
     "data": {
      "text/html": [
       "<div>\n",
       "<style scoped>\n",
       "    .dataframe tbody tr th:only-of-type {\n",
       "        vertical-align: middle;\n",
       "    }\n",
       "\n",
       "    .dataframe tbody tr th {\n",
       "        vertical-align: top;\n",
       "    }\n",
       "\n",
       "    .dataframe thead th {\n",
       "        text-align: right;\n",
       "    }\n",
       "</style>\n",
       "<table border=\"1\" class=\"dataframe\">\n",
       "  <thead>\n",
       "    <tr style=\"text-align: right;\">\n",
       "      <th></th>\n",
       "      <th>id</th>\n",
       "      <th>object_name</th>\n",
       "      <th>address</th>\n",
       "      <th>chain</th>\n",
       "      <th>object_type</th>\n",
       "      <th>number</th>\n",
       "      <th>chainint</th>\n",
       "      <th>clean_street_check</th>\n",
       "      <th>clean_street_final</th>\n",
       "    </tr>\n",
       "  </thead>\n",
       "  <tbody>\n",
       "    <tr>\n",
       "      <th>1</th>\n",
       "      <td>11787</td>\n",
       "      <td>REILLY'S</td>\n",
       "      <td>100 WORLD WAY # 120</td>\n",
       "      <td>False</td>\n",
       "      <td>Restaurant</td>\n",
       "      <td>9</td>\n",
       "      <td>0</td>\n",
       "      <td>100,WORLD</td>\n",
       "      <td>100 WORLD, Los Angeles,USA</td>\n",
       "    </tr>\n",
       "    <tr>\n",
       "      <th>3</th>\n",
       "      <td>11789</td>\n",
       "      <td>TRINITI ECHO PARK</td>\n",
       "      <td>1814 W SUNSET BLVD</td>\n",
       "      <td>False</td>\n",
       "      <td>Restaurant</td>\n",
       "      <td>22</td>\n",
       "      <td>0</td>\n",
       "      <td>1814,SUNSET</td>\n",
       "      <td>1814 SUNSET, Los Angeles,USA</td>\n",
       "    </tr>\n",
       "    <tr>\n",
       "      <th>4</th>\n",
       "      <td>11790</td>\n",
       "      <td>POLLEN</td>\n",
       "      <td>2100 ECHO PARK AVE</td>\n",
       "      <td>False</td>\n",
       "      <td>Restaurant</td>\n",
       "      <td>20</td>\n",
       "      <td>0</td>\n",
       "      <td>2100,PARK</td>\n",
       "      <td>2100 PARK, Los Angeles,USA</td>\n",
       "    </tr>\n",
       "    <tr>\n",
       "      <th>5</th>\n",
       "      <td>11791</td>\n",
       "      <td>THE SPOT GRILL</td>\n",
       "      <td>10004 NATIONAL BLVD</td>\n",
       "      <td>False</td>\n",
       "      <td>Restaurant</td>\n",
       "      <td>14</td>\n",
       "      <td>0</td>\n",
       "      <td>10004,NATIONAL</td>\n",
       "      <td>10004 NATIONAL, Los Angeles,USA</td>\n",
       "    </tr>\n",
       "    <tr>\n",
       "      <th>6</th>\n",
       "      <td>11792</td>\n",
       "      <td>CPK</td>\n",
       "      <td>100 WORLD WAY # 126</td>\n",
       "      <td>False</td>\n",
       "      <td>Restaurant</td>\n",
       "      <td>100</td>\n",
       "      <td>0</td>\n",
       "      <td>100,WORLD</td>\n",
       "      <td>100 WORLD, Los Angeles,USA</td>\n",
       "    </tr>\n",
       "  </tbody>\n",
       "</table>\n",
       "</div>"
      ],
      "text/plain": [
       "      id        object_name              address  chain object_type  number  \\\n",
       "1  11787           REILLY'S  100 WORLD WAY # 120  False  Restaurant       9   \n",
       "3  11789  TRINITI ECHO PARK   1814 W SUNSET BLVD  False  Restaurant      22   \n",
       "4  11790             POLLEN   2100 ECHO PARK AVE  False  Restaurant      20   \n",
       "5  11791     THE SPOT GRILL  10004 NATIONAL BLVD  False  Restaurant      14   \n",
       "6  11792                CPK  100 WORLD WAY # 126  False  Restaurant     100   \n",
       "\n",
       "   chainint clean_street_check               clean_street_final  \n",
       "1         0          100,WORLD       100 WORLD, Los Angeles,USA  \n",
       "3         0        1814,SUNSET     1814 SUNSET, Los Angeles,USA  \n",
       "4         0          2100,PARK       2100 PARK, Los Angeles,USA  \n",
       "5         0     10004,NATIONAL  10004 NATIONAL, Los Angeles,USA  \n",
       "6         0          100,WORLD       100 WORLD, Los Angeles,USA  "
      ]
     },
     "execution_count": 61,
     "metadata": {},
     "output_type": "execute_result"
    }
   ],
   "source": [
    "data[data['object_type']=='Restaurant'].head()"
   ]
  },
  {
   "cell_type": "code",
   "execution_count": 62,
   "id": "34005275",
   "metadata": {},
   "outputs": [],
   "source": [
    "def cleaning_street(raw):\n",
    "    if raw.startswith('OLVERA'):\n",
    "        clean_adress='OLVERA'\n",
    "    elif raw.startswith('1033 1/2 LOS ANGELES'):\n",
    "        clean_adress='LOS ANGELES'\n",
    "    else:\n",
    "        raw_address=usaddress.parse(raw)\n",
    "        dict_address={}\n",
    "        for i in raw_address:\n",
    "            dict_address.update({i[1]:i[0]})\n",
    "        clean_adress=str(dict_address['StreetName'])\n",
    "    return clean_adress"
   ]
  },
  {
   "cell_type": "markdown",
   "id": "349cca89",
   "metadata": {},
   "source": [
    "Finely adding the street column!"
   ]
  },
  {
   "cell_type": "code",
   "execution_count": 63,
   "id": "8e217ab8",
   "metadata": {},
   "outputs": [
    {
     "data": {
      "text/html": [
       "<div>\n",
       "<style scoped>\n",
       "    .dataframe tbody tr th:only-of-type {\n",
       "        vertical-align: middle;\n",
       "    }\n",
       "\n",
       "    .dataframe tbody tr th {\n",
       "        vertical-align: top;\n",
       "    }\n",
       "\n",
       "    .dataframe thead th {\n",
       "        text-align: right;\n",
       "    }\n",
       "</style>\n",
       "<table border=\"1\" class=\"dataframe\">\n",
       "  <thead>\n",
       "    <tr style=\"text-align: right;\">\n",
       "      <th></th>\n",
       "      <th>id</th>\n",
       "      <th>object_name</th>\n",
       "      <th>address</th>\n",
       "      <th>chain</th>\n",
       "      <th>object_type</th>\n",
       "      <th>number</th>\n",
       "      <th>chainint</th>\n",
       "      <th>clean_street_check</th>\n",
       "      <th>clean_street_final</th>\n",
       "      <th>clean_street</th>\n",
       "    </tr>\n",
       "  </thead>\n",
       "  <tbody>\n",
       "    <tr>\n",
       "      <th>4454</th>\n",
       "      <td>16240</td>\n",
       "      <td>WINGSTOP</td>\n",
       "      <td>8985 VENICE BLVD # C1-C</td>\n",
       "      <td>True</td>\n",
       "      <td>Restaurant</td>\n",
       "      <td>15</td>\n",
       "      <td>1</td>\n",
       "      <td>8985,VENICE</td>\n",
       "      <td>8985 VENICE, Los Angeles,USA</td>\n",
       "      <td>VENICE</td>\n",
       "    </tr>\n",
       "    <tr>\n",
       "      <th>1167</th>\n",
       "      <td>12953</td>\n",
       "      <td>LAACO LTD</td>\n",
       "      <td>431 W 7TH ST</td>\n",
       "      <td>True</td>\n",
       "      <td>Restaurant</td>\n",
       "      <td>80</td>\n",
       "      <td>1</td>\n",
       "      <td>431,7TH</td>\n",
       "      <td>431 7TH, Los Angeles,USA</td>\n",
       "      <td>7TH</td>\n",
       "    </tr>\n",
       "    <tr>\n",
       "      <th>373</th>\n",
       "      <td>12159</td>\n",
       "      <td>FRANK N HANKS</td>\n",
       "      <td>518 S WESTERN AVE</td>\n",
       "      <td>False</td>\n",
       "      <td>Restaurant</td>\n",
       "      <td>14</td>\n",
       "      <td>0</td>\n",
       "      <td>518,WESTERN</td>\n",
       "      <td>518 WESTERN, Los Angeles,USA</td>\n",
       "      <td>WESTERN</td>\n",
       "    </tr>\n",
       "    <tr>\n",
       "      <th>7994</th>\n",
       "      <td>19780</td>\n",
       "      <td>JAMBA JUICE #527</td>\n",
       "      <td>2919 LOS FELIZ BLVD STE #2</td>\n",
       "      <td>True</td>\n",
       "      <td>Restaurant</td>\n",
       "      <td>5</td>\n",
       "      <td>1</td>\n",
       "      <td>2919,FELIZ</td>\n",
       "      <td>2919 FELIZ, Los Angeles,USA</td>\n",
       "      <td>FELIZ</td>\n",
       "    </tr>\n",
       "    <tr>\n",
       "      <th>2408</th>\n",
       "      <td>14194</td>\n",
       "      <td>HOLIDAY INN EXPRESS LAX</td>\n",
       "      <td>8620 AIRPORT BLVD</td>\n",
       "      <td>False</td>\n",
       "      <td>Fast Food</td>\n",
       "      <td>142</td>\n",
       "      <td>0</td>\n",
       "      <td>8620,AIRPORT</td>\n",
       "      <td>8620 AIRPORT, Los Angeles,USA</td>\n",
       "      <td>AIRPORT</td>\n",
       "    </tr>\n",
       "    <tr>\n",
       "      <th>5606</th>\n",
       "      <td>17392</td>\n",
       "      <td>SASSAFRAS</td>\n",
       "      <td>1235 N VINE ST</td>\n",
       "      <td>False</td>\n",
       "      <td>Restaurant</td>\n",
       "      <td>124</td>\n",
       "      <td>0</td>\n",
       "      <td>1235,VINE</td>\n",
       "      <td>1235 VINE, Los Angeles,USA</td>\n",
       "      <td>VINE</td>\n",
       "    </tr>\n",
       "    <tr>\n",
       "      <th>6316</th>\n",
       "      <td>18102</td>\n",
       "      <td>THE WHISPERER</td>\n",
       "      <td>1325 ECHO PARK AVE</td>\n",
       "      <td>False</td>\n",
       "      <td>Restaurant</td>\n",
       "      <td>34</td>\n",
       "      <td>0</td>\n",
       "      <td>1325,PARK</td>\n",
       "      <td>1325 PARK, Los Angeles,USA</td>\n",
       "      <td>PARK</td>\n",
       "    </tr>\n",
       "    <tr>\n",
       "      <th>2863</th>\n",
       "      <td>14649</td>\n",
       "      <td>TROIS FAMILIA</td>\n",
       "      <td>3510 W SUNSET BLVD</td>\n",
       "      <td>False</td>\n",
       "      <td>Restaurant</td>\n",
       "      <td>47</td>\n",
       "      <td>0</td>\n",
       "      <td>3510,SUNSET</td>\n",
       "      <td>3510 SUNSET, Los Angeles,USA</td>\n",
       "      <td>SUNSET</td>\n",
       "    </tr>\n",
       "    <tr>\n",
       "      <th>2179</th>\n",
       "      <td>13965</td>\n",
       "      <td>SQUARE ONE SILVERLAKE</td>\n",
       "      <td>2630 HYPERION AVE 101</td>\n",
       "      <td>False</td>\n",
       "      <td>Restaurant</td>\n",
       "      <td>34</td>\n",
       "      <td>0</td>\n",
       "      <td>2630,HYPERION</td>\n",
       "      <td>2630 HYPERION, Los Angeles,USA</td>\n",
       "      <td>HYPERION</td>\n",
       "    </tr>\n",
       "    <tr>\n",
       "      <th>4667</th>\n",
       "      <td>16453</td>\n",
       "      <td>THE FACE SHOP</td>\n",
       "      <td>621 S WESTERN AVE G01</td>\n",
       "      <td>False</td>\n",
       "      <td>Restaurant</td>\n",
       "      <td>6</td>\n",
       "      <td>0</td>\n",
       "      <td>621,WESTERN</td>\n",
       "      <td>621 WESTERN, Los Angeles,USA</td>\n",
       "      <td>WESTERN</td>\n",
       "    </tr>\n",
       "  </tbody>\n",
       "</table>\n",
       "</div>"
      ],
      "text/plain": [
       "         id              object_name                     address  chain  \\\n",
       "4454  16240                 WINGSTOP     8985 VENICE BLVD # C1-C   True   \n",
       "1167  12953                LAACO LTD                431 W 7TH ST   True   \n",
       "373   12159            FRANK N HANKS           518 S WESTERN AVE  False   \n",
       "7994  19780         JAMBA JUICE #527  2919 LOS FELIZ BLVD STE #2   True   \n",
       "2408  14194  HOLIDAY INN EXPRESS LAX           8620 AIRPORT BLVD  False   \n",
       "5606  17392                SASSAFRAS              1235 N VINE ST  False   \n",
       "6316  18102            THE WHISPERER          1325 ECHO PARK AVE  False   \n",
       "2863  14649            TROIS FAMILIA          3510 W SUNSET BLVD  False   \n",
       "2179  13965    SQUARE ONE SILVERLAKE       2630 HYPERION AVE 101  False   \n",
       "4667  16453            THE FACE SHOP       621 S WESTERN AVE G01  False   \n",
       "\n",
       "     object_type  number  chainint clean_street_check  \\\n",
       "4454  Restaurant      15         1        8985,VENICE   \n",
       "1167  Restaurant      80         1            431,7TH   \n",
       "373   Restaurant      14         0        518,WESTERN   \n",
       "7994  Restaurant       5         1         2919,FELIZ   \n",
       "2408   Fast Food     142         0       8620,AIRPORT   \n",
       "5606  Restaurant     124         0          1235,VINE   \n",
       "6316  Restaurant      34         0          1325,PARK   \n",
       "2863  Restaurant      47         0        3510,SUNSET   \n",
       "2179  Restaurant      34         0      2630,HYPERION   \n",
       "4667  Restaurant       6         0        621,WESTERN   \n",
       "\n",
       "                  clean_street_final clean_street  \n",
       "4454    8985 VENICE, Los Angeles,USA       VENICE  \n",
       "1167        431 7TH, Los Angeles,USA          7TH  \n",
       "373     518 WESTERN, Los Angeles,USA      WESTERN  \n",
       "7994     2919 FELIZ, Los Angeles,USA        FELIZ  \n",
       "2408   8620 AIRPORT, Los Angeles,USA      AIRPORT  \n",
       "5606      1235 VINE, Los Angeles,USA         VINE  \n",
       "6316      1325 PARK, Los Angeles,USA         PARK  \n",
       "2863    3510 SUNSET, Los Angeles,USA       SUNSET  \n",
       "2179  2630 HYPERION, Los Angeles,USA     HYPERION  \n",
       "4667    621 WESTERN, Los Angeles,USA      WESTERN  "
      ]
     },
     "execution_count": 63,
     "metadata": {},
     "output_type": "execute_result"
    }
   ],
   "source": [
    "data['clean_street']=data.address.apply(cleaning_street)\n",
    "data.sample(10)"
   ]
  },
  {
   "cell_type": "code",
   "execution_count": 64,
   "id": "67da0d70",
   "metadata": {},
   "outputs": [
    {
     "data": {
      "text/html": [
       "<div>\n",
       "<style scoped>\n",
       "    .dataframe tbody tr th:only-of-type {\n",
       "        vertical-align: middle;\n",
       "    }\n",
       "\n",
       "    .dataframe tbody tr th {\n",
       "        vertical-align: top;\n",
       "    }\n",
       "\n",
       "    .dataframe thead th {\n",
       "        text-align: right;\n",
       "    }\n",
       "</style>\n",
       "<table border=\"1\" class=\"dataframe\">\n",
       "  <thead>\n",
       "    <tr style=\"text-align: right;\">\n",
       "      <th></th>\n",
       "      <th>id</th>\n",
       "      <th>object_name</th>\n",
       "      <th>address</th>\n",
       "      <th>chain</th>\n",
       "      <th>object_type</th>\n",
       "      <th>number</th>\n",
       "      <th>chainint</th>\n",
       "      <th>clean_street_check</th>\n",
       "      <th>clean_street_final</th>\n",
       "      <th>clean_street</th>\n",
       "    </tr>\n",
       "  </thead>\n",
       "  <tbody>\n",
       "    <tr>\n",
       "      <th>857</th>\n",
       "      <td>12643</td>\n",
       "      <td>EL TARASCO</td>\n",
       "      <td>8620 S SEPULVEDA BLVD</td>\n",
       "      <td>True</td>\n",
       "      <td>Restaurant</td>\n",
       "      <td>43</td>\n",
       "      <td>1</td>\n",
       "      <td>8620,SEPULVEDA</td>\n",
       "      <td>8620 SEPULVEDA, Los Angeles,USA</td>\n",
       "      <td>SEPULVEDA</td>\n",
       "    </tr>\n",
       "    <tr>\n",
       "      <th>1812</th>\n",
       "      <td>13598</td>\n",
       "      <td>EL TARASCO</td>\n",
       "      <td>3425 E 1ST ST 3RD FL</td>\n",
       "      <td>True</td>\n",
       "      <td>Restaurant</td>\n",
       "      <td>210</td>\n",
       "      <td>1</td>\n",
       "      <td>3425,1ST</td>\n",
       "      <td>3425 1ST, Los Angeles,USA</td>\n",
       "      <td>1ST</td>\n",
       "    </tr>\n",
       "  </tbody>\n",
       "</table>\n",
       "</div>"
      ],
      "text/plain": [
       "         id object_name                address chain object_type  number  \\\n",
       "857   12643  EL TARASCO  8620 S SEPULVEDA BLVD  True  Restaurant      43   \n",
       "1812  13598  EL TARASCO   3425 E 1ST ST 3RD FL  True  Restaurant     210   \n",
       "\n",
       "      chainint clean_street_check               clean_street_final  \\\n",
       "857          1     8620,SEPULVEDA  8620 SEPULVEDA, Los Angeles,USA   \n",
       "1812         1           3425,1ST        3425 1ST, Los Angeles,USA   \n",
       "\n",
       "     clean_street  \n",
       "857     SEPULVEDA  \n",
       "1812          1ST  "
      ]
     },
     "execution_count": 64,
     "metadata": {},
     "output_type": "execute_result"
    }
   ],
   "source": [
    "data[data['object_name']=='EL TARASCO']"
   ]
  },
  {
   "cell_type": "markdown",
   "id": "e1565894",
   "metadata": {},
   "source": [
    "The new column is ready for work! (and an extra one I might need later)."
   ]
  },
  {
   "cell_type": "markdown",
   "id": "d1ddf0d9",
   "metadata": {},
   "source": [
    "### 7. Plot a graph of the top ten streets by number of restaurants."
   ]
  },
  {
   "cell_type": "code",
   "execution_count": 65,
   "id": "6b3805f9",
   "metadata": {},
   "outputs": [
    {
     "data": {
      "text/html": [
       "<div>\n",
       "<style scoped>\n",
       "    .dataframe tbody tr th:only-of-type {\n",
       "        vertical-align: middle;\n",
       "    }\n",
       "\n",
       "    .dataframe tbody tr th {\n",
       "        vertical-align: top;\n",
       "    }\n",
       "\n",
       "    .dataframe thead th {\n",
       "        text-align: right;\n",
       "    }\n",
       "</style>\n",
       "<table border=\"1\" class=\"dataframe\">\n",
       "  <thead>\n",
       "    <tr style=\"text-align: right;\">\n",
       "      <th></th>\n",
       "      <th>clean_street</th>\n",
       "      <th>id</th>\n",
       "    </tr>\n",
       "  </thead>\n",
       "  <tbody>\n",
       "    <tr>\n",
       "      <th>0</th>\n",
       "      <td>SUNSET</td>\n",
       "      <td>404</td>\n",
       "    </tr>\n",
       "    <tr>\n",
       "      <th>1</th>\n",
       "      <td>WILSHIRE</td>\n",
       "      <td>398</td>\n",
       "    </tr>\n",
       "    <tr>\n",
       "      <th>2</th>\n",
       "      <td>PICO</td>\n",
       "      <td>370</td>\n",
       "    </tr>\n",
       "    <tr>\n",
       "      <th>3</th>\n",
       "      <td>WESTERN</td>\n",
       "      <td>369</td>\n",
       "    </tr>\n",
       "    <tr>\n",
       "      <th>4</th>\n",
       "      <td>FIGUEROA</td>\n",
       "      <td>334</td>\n",
       "    </tr>\n",
       "    <tr>\n",
       "      <th>5</th>\n",
       "      <td>OLYMPIC</td>\n",
       "      <td>309</td>\n",
       "    </tr>\n",
       "    <tr>\n",
       "      <th>6</th>\n",
       "      <td>VERMONT</td>\n",
       "      <td>288</td>\n",
       "    </tr>\n",
       "    <tr>\n",
       "      <th>7</th>\n",
       "      <td>MONICA</td>\n",
       "      <td>264</td>\n",
       "    </tr>\n",
       "    <tr>\n",
       "      <th>8</th>\n",
       "      <td>3RD</td>\n",
       "      <td>263</td>\n",
       "    </tr>\n",
       "    <tr>\n",
       "      <th>9</th>\n",
       "      <td>HOLLYWOOD</td>\n",
       "      <td>253</td>\n",
       "    </tr>\n",
       "  </tbody>\n",
       "</table>\n",
       "</div>"
      ],
      "text/plain": [
       "  clean_street   id\n",
       "0       SUNSET  404\n",
       "1     WILSHIRE  398\n",
       "2         PICO  370\n",
       "3      WESTERN  369\n",
       "4     FIGUEROA  334\n",
       "5      OLYMPIC  309\n",
       "6      VERMONT  288\n",
       "7       MONICA  264\n",
       "8          3RD  263\n",
       "9    HOLLYWOOD  253"
      ]
     },
     "execution_count": 65,
     "metadata": {},
     "output_type": "execute_result"
    }
   ],
   "source": [
    "top_streets=data.groupby(data['clean_street'])['id'].count().sort_values(ascending=False).head(10).reset_index()\n",
    "top_streets"
   ]
  },
  {
   "cell_type": "code",
   "execution_count": 66,
   "id": "c6a936cf",
   "metadata": {},
   "outputs": [
    {
     "data": {
      "image/png": "[encoded data removed]",
      "text/plain": [
       "<Figure size 432x360 with 1 Axes>"
      ]
     },
     "metadata": {
      "needs_background": "light"
     },
     "output_type": "display_data"
    }
   ],
   "source": [
    "top_streets.plot(x='clean_street', kind='bar', color='purple', figsize=(6,5));"
   ]
  },
  {
   "cell_type": "code",
   "execution_count": 67,
   "id": "a88612e8",
   "metadata": {},
   "outputs": [
    {
     "data": {
      "image/png": "[encoded data removed]",
      "text/plain": [
       "<Figure size 504x288 with 1 Axes>"
      ]
     },
     "metadata": {
      "needs_background": "light"
     },
     "output_type": "display_data"
    }
   ],
   "source": [
    "sns.barplot(x='clean_street', y='id', data=top_streets);\n",
    "plt.xticks(rotation=45)\n",
    "plt.gcf().set_size_inches(7, 4)"
   ]
  },
  {
   "cell_type": "code",
   "execution_count": 68,
   "id": "f6fe99c1",
   "metadata": {},
   "outputs": [
    {
     "data": {
      "text/html": [
       "<div>\n",
       "<style scoped>\n",
       "    .dataframe tbody tr th:only-of-type {\n",
       "        vertical-align: middle;\n",
       "    }\n",
       "\n",
       "    .dataframe tbody tr th {\n",
       "        vertical-align: top;\n",
       "    }\n",
       "\n",
       "    .dataframe thead th {\n",
       "        text-align: right;\n",
       "    }\n",
       "</style>\n",
       "<table border=\"1\" class=\"dataframe\">\n",
       "  <thead>\n",
       "    <tr style=\"text-align: right;\">\n",
       "      <th></th>\n",
       "      <th>id</th>\n",
       "      <th>object_name</th>\n",
       "      <th>address</th>\n",
       "      <th>chain</th>\n",
       "      <th>object_type</th>\n",
       "      <th>number</th>\n",
       "      <th>chainint</th>\n",
       "      <th>clean_street_check</th>\n",
       "      <th>clean_street_final</th>\n",
       "      <th>clean_street</th>\n",
       "    </tr>\n",
       "  </thead>\n",
       "  <tbody>\n",
       "    <tr>\n",
       "      <th>3</th>\n",
       "      <td>11789</td>\n",
       "      <td>TRINITI ECHO PARK</td>\n",
       "      <td>1814 W SUNSET BLVD</td>\n",
       "      <td>False</td>\n",
       "      <td>Restaurant</td>\n",
       "      <td>22</td>\n",
       "      <td>0</td>\n",
       "      <td>1814,SUNSET</td>\n",
       "      <td>1814 SUNSET, Los Angeles,USA</td>\n",
       "      <td>SUNSET</td>\n",
       "    </tr>\n",
       "    <tr>\n",
       "      <th>10</th>\n",
       "      <td>11796</td>\n",
       "      <td>EL POLLO LOCO</td>\n",
       "      <td>5319 W SUNSET BLVD</td>\n",
       "      <td>True</td>\n",
       "      <td>Restaurant</td>\n",
       "      <td>38</td>\n",
       "      <td>1</td>\n",
       "      <td>5319,SUNSET</td>\n",
       "      <td>5319 SUNSET, Los Angeles,USA</td>\n",
       "      <td>SUNSET</td>\n",
       "    </tr>\n",
       "    <tr>\n",
       "      <th>14</th>\n",
       "      <td>11800</td>\n",
       "      <td>CUSCATLECA BAKERY</td>\n",
       "      <td>2501 W SUNSET BLVD #A</td>\n",
       "      <td>True</td>\n",
       "      <td>Bakery</td>\n",
       "      <td>26</td>\n",
       "      <td>1</td>\n",
       "      <td>2501,SUNSET</td>\n",
       "      <td>2501 SUNSET, Los Angeles,USA</td>\n",
       "      <td>SUNSET</td>\n",
       "    </tr>\n",
       "    <tr>\n",
       "      <th>31</th>\n",
       "      <td>11817</td>\n",
       "      <td>DUNES RESTAURANT</td>\n",
       "      <td>5625 W SUNSET BLVD</td>\n",
       "      <td>True</td>\n",
       "      <td>Restaurant</td>\n",
       "      <td>118</td>\n",
       "      <td>1</td>\n",
       "      <td>5625,SUNSET</td>\n",
       "      <td>5625 SUNSET, Los Angeles,USA</td>\n",
       "      <td>SUNSET</td>\n",
       "    </tr>\n",
       "    <tr>\n",
       "      <th>33</th>\n",
       "      <td>11819</td>\n",
       "      <td>ONO HAWAIIAN BBQ</td>\n",
       "      <td>5539 W SUNSET BLVD</td>\n",
       "      <td>True</td>\n",
       "      <td>Restaurant</td>\n",
       "      <td>35</td>\n",
       "      <td>1</td>\n",
       "      <td>5539,SUNSET</td>\n",
       "      <td>5539 SUNSET, Los Angeles,USA</td>\n",
       "      <td>SUNSET</td>\n",
       "    </tr>\n",
       "    <tr>\n",
       "      <th>...</th>\n",
       "      <td>...</td>\n",
       "      <td>...</td>\n",
       "      <td>...</td>\n",
       "      <td>...</td>\n",
       "      <td>...</td>\n",
       "      <td>...</td>\n",
       "      <td>...</td>\n",
       "      <td>...</td>\n",
       "      <td>...</td>\n",
       "      <td>...</td>\n",
       "    </tr>\n",
       "    <tr>\n",
       "      <th>9523</th>\n",
       "      <td>21309</td>\n",
       "      <td>BUTTER'S ICE CREAM</td>\n",
       "      <td>2925 W SUNSET BLVD</td>\n",
       "      <td>False</td>\n",
       "      <td>Restaurant</td>\n",
       "      <td>29</td>\n",
       "      <td>0</td>\n",
       "      <td>2925,SUNSET</td>\n",
       "      <td>2925 SUNSET, Los Angeles,USA</td>\n",
       "      <td>SUNSET</td>\n",
       "    </tr>\n",
       "    <tr>\n",
       "      <th>9527</th>\n",
       "      <td>21313</td>\n",
       "      <td>REGULA GUY'S PIZZA</td>\n",
       "      <td>5173 W SUNSET BLVD</td>\n",
       "      <td>False</td>\n",
       "      <td>Pizza</td>\n",
       "      <td>20</td>\n",
       "      <td>0</td>\n",
       "      <td>5173,SUNSET</td>\n",
       "      <td>5173 SUNSET, Los Angeles,USA</td>\n",
       "      <td>SUNSET</td>\n",
       "    </tr>\n",
       "    <tr>\n",
       "      <th>9562</th>\n",
       "      <td>21348</td>\n",
       "      <td>7-ELEVEN STORE #18778D</td>\n",
       "      <td>7600 W SUNSET BLVD</td>\n",
       "      <td>False</td>\n",
       "      <td>Restaurant</td>\n",
       "      <td>1</td>\n",
       "      <td>0</td>\n",
       "      <td>7600,SUNSET</td>\n",
       "      <td>7600 SUNSET, Los Angeles,USA</td>\n",
       "      <td>SUNSET</td>\n",
       "    </tr>\n",
       "    <tr>\n",
       "      <th>9582</th>\n",
       "      <td>21368</td>\n",
       "      <td>HYDE LLC</td>\n",
       "      <td>8029 W SUNSET BLVD</td>\n",
       "      <td>False</td>\n",
       "      <td>Restaurant</td>\n",
       "      <td>42</td>\n",
       "      <td>0</td>\n",
       "      <td>8029,SUNSET</td>\n",
       "      <td>8029 SUNSET, Los Angeles,USA</td>\n",
       "      <td>SUNSET</td>\n",
       "    </tr>\n",
       "    <tr>\n",
       "      <th>9595</th>\n",
       "      <td>21381</td>\n",
       "      <td>STICKY RICE ECHO PARK</td>\n",
       "      <td>1801 SUNSET BLVD</td>\n",
       "      <td>True</td>\n",
       "      <td>Restaurant</td>\n",
       "      <td>44</td>\n",
       "      <td>1</td>\n",
       "      <td>1801,SUNSET</td>\n",
       "      <td>1801 SUNSET, Los Angeles,USA</td>\n",
       "      <td>SUNSET</td>\n",
       "    </tr>\n",
       "  </tbody>\n",
       "</table>\n",
       "<p>404 rows × 10 columns</p>\n",
       "</div>"
      ],
      "text/plain": [
       "         id             object_name                address  chain object_type  \\\n",
       "3     11789       TRINITI ECHO PARK     1814 W SUNSET BLVD  False  Restaurant   \n",
       "10    11796           EL POLLO LOCO     5319 W SUNSET BLVD   True  Restaurant   \n",
       "14    11800       CUSCATLECA BAKERY  2501 W SUNSET BLVD #A   True      Bakery   \n",
       "31    11817        DUNES RESTAURANT     5625 W SUNSET BLVD   True  Restaurant   \n",
       "33    11819        ONO HAWAIIAN BBQ     5539 W SUNSET BLVD   True  Restaurant   \n",
       "...     ...                     ...                    ...    ...         ...   \n",
       "9523  21309      BUTTER'S ICE CREAM     2925 W SUNSET BLVD  False  Restaurant   \n",
       "9527  21313      REGULA GUY'S PIZZA     5173 W SUNSET BLVD  False       Pizza   \n",
       "9562  21348  7-ELEVEN STORE #18778D     7600 W SUNSET BLVD  False  Restaurant   \n",
       "9582  21368                HYDE LLC     8029 W SUNSET BLVD  False  Restaurant   \n",
       "9595  21381   STICKY RICE ECHO PARK       1801 SUNSET BLVD   True  Restaurant   \n",
       "\n",
       "      number  chainint clean_street_check            clean_street_final  \\\n",
       "3         22         0        1814,SUNSET  1814 SUNSET, Los Angeles,USA   \n",
       "10        38         1        5319,SUNSET  5319 SUNSET, Los Angeles,USA   \n",
       "14        26         1        2501,SUNSET  2501 SUNSET, Los Angeles,USA   \n",
       "31       118         1        5625,SUNSET  5625 SUNSET, Los Angeles,USA   \n",
       "33        35         1        5539,SUNSET  5539 SUNSET, Los Angeles,USA   \n",
       "...      ...       ...                ...                           ...   \n",
       "9523      29         0        2925,SUNSET  2925 SUNSET, Los Angeles,USA   \n",
       "9527      20         0        5173,SUNSET  5173 SUNSET, Los Angeles,USA   \n",
       "9562       1         0        7600,SUNSET  7600 SUNSET, Los Angeles,USA   \n",
       "9582      42         0        8029,SUNSET  8029 SUNSET, Los Angeles,USA   \n",
       "9595      44         1        1801,SUNSET  1801 SUNSET, Los Angeles,USA   \n",
       "\n",
       "     clean_street  \n",
       "3          SUNSET  \n",
       "10         SUNSET  \n",
       "14         SUNSET  \n",
       "31         SUNSET  \n",
       "33         SUNSET  \n",
       "...           ...  \n",
       "9523       SUNSET  \n",
       "9527       SUNSET  \n",
       "9562       SUNSET  \n",
       "9582       SUNSET  \n",
       "9595       SUNSET  \n",
       "\n",
       "[404 rows x 10 columns]"
      ]
     },
     "execution_count": 68,
     "metadata": {},
     "output_type": "execute_result"
    }
   ],
   "source": [
    "data[data['clean_street']=='SUNSET']"
   ]
  },
  {
   "cell_type": "markdown",
   "id": "1902baa6",
   "metadata": {},
   "source": [
    "404 restaurants in one street! That is an astounding amount of establishments for one street. However, the population on LA is 3.92 million and these people need to eat every day."
   ]
  },
  {
   "cell_type": "markdown",
   "id": "3157b4f5",
   "metadata": {},
   "source": [
    "### 8. Find the number of streets that only have one restaurant."
   ]
  },
  {
   "cell_type": "code",
   "execution_count": 69,
   "id": "9750b889",
   "metadata": {},
   "outputs": [
    {
     "data": {
      "text/html": [
       "<div>\n",
       "<style scoped>\n",
       "    .dataframe tbody tr th:only-of-type {\n",
       "        vertical-align: middle;\n",
       "    }\n",
       "\n",
       "    .dataframe tbody tr th {\n",
       "        vertical-align: top;\n",
       "    }\n",
       "\n",
       "    .dataframe thead th {\n",
       "        text-align: right;\n",
       "    }\n",
       "</style>\n",
       "<table border=\"1\" class=\"dataframe\">\n",
       "  <thead>\n",
       "    <tr style=\"text-align: right;\">\n",
       "      <th></th>\n",
       "      <th>clean_street</th>\n",
       "      <th>id</th>\n",
       "    </tr>\n",
       "  </thead>\n",
       "  <tbody>\n",
       "    <tr>\n",
       "      <th>0</th>\n",
       "      <td>103</td>\n",
       "      <td>1</td>\n",
       "    </tr>\n",
       "    <tr>\n",
       "      <th>1</th>\n",
       "      <td>HEARN</td>\n",
       "      <td>1</td>\n",
       "    </tr>\n",
       "    <tr>\n",
       "      <th>2</th>\n",
       "      <td>HEREFORD</td>\n",
       "      <td>1</td>\n",
       "    </tr>\n",
       "    <tr>\n",
       "      <th>3</th>\n",
       "      <td>HERITAGE</td>\n",
       "      <td>1</td>\n",
       "    </tr>\n",
       "    <tr>\n",
       "      <th>4</th>\n",
       "      <td>HEWITT</td>\n",
       "      <td>1</td>\n",
       "    </tr>\n",
       "    <tr>\n",
       "      <th>...</th>\n",
       "      <td>...</td>\n",
       "      <td>...</td>\n",
       "    </tr>\n",
       "    <tr>\n",
       "      <th>180</th>\n",
       "      <td>CHURCH</td>\n",
       "      <td>1</td>\n",
       "    </tr>\n",
       "    <tr>\n",
       "      <th>181</th>\n",
       "      <td>CHILD'S</td>\n",
       "      <td>1</td>\n",
       "    </tr>\n",
       "    <tr>\n",
       "      <th>182</th>\n",
       "      <td>CATALINA</td>\n",
       "      <td>1</td>\n",
       "    </tr>\n",
       "    <tr>\n",
       "      <th>183</th>\n",
       "      <td>CASTILLA</td>\n",
       "      <td>1</td>\n",
       "    </tr>\n",
       "    <tr>\n",
       "      <th>184</th>\n",
       "      <td>CASITAS</td>\n",
       "      <td>1</td>\n",
       "    </tr>\n",
       "  </tbody>\n",
       "</table>\n",
       "<p>185 rows × 2 columns</p>\n",
       "</div>"
      ],
      "text/plain": [
       "    clean_street  id\n",
       "0            103   1\n",
       "1          HEARN   1\n",
       "2       HEREFORD   1\n",
       "3       HERITAGE   1\n",
       "4         HEWITT   1\n",
       "..           ...  ..\n",
       "180       CHURCH   1\n",
       "181      CHILD'S   1\n",
       "182     CATALINA   1\n",
       "183     CASTILLA   1\n",
       "184      CASITAS   1\n",
       "\n",
       "[185 rows x 2 columns]"
      ]
     },
     "execution_count": 69,
     "metadata": {},
     "output_type": "execute_result"
    }
   ],
   "source": [
    "less_streets= data.groupby(data['clean_street'])['id'].count().sort_values().reset_index()\n",
    "one_street = less_streets[less_streets['id']==1]\n",
    "one_street"
   ]
  },
  {
   "cell_type": "code",
   "execution_count": 70,
   "id": "b2e67cf1",
   "metadata": {},
   "outputs": [
    {
     "data": {
      "text/plain": [
       "clean_street    185\n",
       "id              185\n",
       "dtype: int64"
      ]
     },
     "execution_count": 70,
     "metadata": {},
     "output_type": "execute_result"
    }
   ],
   "source": [
    "one_street.count()"
   ]
  },
  {
   "cell_type": "markdown",
   "id": "a5a7aa11",
   "metadata": {},
   "source": [
    "There are 185 streets with only one restaurant, the next analysis should be on the population and possibly demographic information on those streets. Perhaps there is a gap in the market?\n"
   ]
  },
  {
   "cell_type": "markdown",
   "id": "281cd9da",
   "metadata": {},
   "source": [
    "### 9. For streets with a lot of restaurants, look at the distribution of the number of seats. What trends can you see?"
   ]
  },
  {
   "cell_type": "code",
   "execution_count": 71,
   "id": "5cea497d",
   "metadata": {},
   "outputs": [],
   "source": [
    "sunset=data[data['clean_street']=='SUNSET'].groupby(['number'])['object_name'].count().reset_index()\n",
    "sunset.columns=['Number_of_seats', 'Restaurant']\n",
    "wilshire=data[data['clean_street']=='WILSHIRE'].groupby(['number'])['object_name'].count().reset_index()\n",
    "wilshire.columns=['Number_of_seats', 'Restaurant']\n",
    "pico=data[data['clean_street']=='PICO'].groupby(['number'])['object_name'].count().reset_index()\n",
    "pico.columns=['Number_of_seats', 'Restaurant']\n",
    "western=data[data['clean_street']=='WESTERN'].groupby(['number'])['object_name'].count().reset_index()\n",
    "western.columns=['Number_of_seats', 'Restaurant']"
   ]
  },
  {
   "cell_type": "code",
   "execution_count": 72,
   "id": "abba1c4f",
   "metadata": {},
   "outputs": [
    {
     "data": {
      "image/png": "[encoded data removed]",
      "text/plain": [
       "<Figure size 720x360 with 1 Axes>"
      ]
     },
     "metadata": {
      "needs_background": "light"
     },
     "output_type": "display_data"
    }
   ],
   "source": [
    "plt.figure(figsize=(10,5))\n",
    "sns.scatterplot(data=sunset, x=\"Number_of_seats\", y='Restaurant', alpha=0.5)\n",
    "sns.scatterplot(data=wilshire, x=\"Number_of_seats\", y='Restaurant', alpha=0.5)\n",
    "sns.scatterplot(data=pico, x=\"Number_of_seats\", y='Restaurant', alpha=0.5)\n",
    "sns.scatterplot(data=western, x=\"Number_of_seats\", y='Restaurant', alpha=0.5)\n",
    "plt.title('Distribution of the number of seats');\n",
    "plt.legend(labels=[\"sunset\",\"wilshire\", 'pico', 'western']);"
   ]
  },
  {
   "cell_type": "code",
   "execution_count": 73,
   "id": "3835c97f",
   "metadata": {},
   "outputs": [
    {
     "data": {
      "image/png": "[encoded data removed]",
      "text/plain": [
       "<Figure size 432x288 with 1 Axes>"
      ]
     },
     "metadata": {
      "needs_background": "light"
     },
     "output_type": "display_data"
    }
   ],
   "source": [
    "sunset['Number_of_seats'].hist(); #blue\n",
    "wilshire['Number_of_seats'].hist(); #orange\n",
    "pico['Number_of_seats'].hist(); #green\n",
    "western['Number_of_seats'].hist(); #read"
   ]
  },
  {
   "cell_type": "markdown",
   "id": "0869f78c",
   "metadata": {},
   "source": [
    "I decided to plot a scatter plot with the top 4 streets, any more would have been completely illegible. Due to the very large number of restaurant type establishments in these four streets, I believe it is a fair representation of the trend that these streets represent.  \n",
    "Apart from the obvious distribution of small seat establishments, the density of the lower line reveals that the restaurants with an abnormally large amounts of seats are common on these four streets.\n"
   ]
  },
  {
   "cell_type": "markdown",
   "id": "e16e6050",
   "metadata": {},
   "source": [
    "<b> Overall conclusion  </b> \n",
    "\n",
    "\n",
    "\n",
    "The food business in Los Angeles is a thriving and diverse environment with streets full of different types of establishments.  The sizes of the establishment are just as diverse and can change between 2 and 200, the the most popular streets have 400 and 300 establishments like restaurant's, bakery's cafe's and more. The city of Los Angeles is the second biggest city in America with 3.9 million residents, the city center is highly populated and is a famous and popular tourist attraction. This market analysis shows that an investment in the food business in LA is lucrative. From the data reveled in the the analysis it is obvious that most of the food establishments in this city are not part of any chain, which meant that the customers prefer variety and not the same food and atmosphere wherever they go. Most establishments have fewer seats (25 and less). Therefore starting a new and small restaurant with an interesting and unique vibe has a good chance of being profitable. \n",
    "    \n",
    "    \n",
    "<b> Recommendations </b> \n",
    "\n",
    "\n",
    "In order to decide where it makes sense to open a robot run cafe, I believe it would be prudent to do a population analysis. For instance, how many tourists visit the street the new cafe should open in (list the local hotels)? What are the ages of the people that live there (schools, office buildings)? This would keep a new and exiting cafe full of new customers all the time so the \"gimmic\" will not easily wear off. \n"
   ]
  },
  {
   "cell_type": "markdown",
   "id": "d62f549b",
   "metadata": {},
   "source": [
    "## Step 3. Preparing a presentation\n",
    "Make a presentation of your research a link to the presentation:\n"
   ]
  },
  {
   "cell_type": "markdown",
   "id": "6a9e290a",
   "metadata": {},
   "source": [
    "Presentation: https://github.com/tatyanabolton/LA-Restaurants/blob/main/Market%20analysis1.pdf"
   ]
  }
 ],
 "metadata": {
  "ExecuteTimeLog": [
   {
    "duration": 58,
    "start_time": "2022-02-06T11:11:09.417Z"
   },
   {
    "duration": 56,
    "start_time": "2022-02-06T11:12:33.572Z"
   },
   {
    "duration": 450,
    "start_time": "2022-02-06T18:11:27.743Z"
   },
   {
    "duration": 1559,
    "start_time": "2022-02-06T18:11:45.441Z"
   },
   {
    "duration": 219,
    "start_time": "2022-02-06T18:11:47.003Z"
   },
   {
    "duration": 5425,
    "start_time": "2022-02-06T18:11:47.225Z"
   },
   {
    "duration": 19,
    "start_time": "2022-02-06T18:11:52.653Z"
   },
   {
    "duration": 16,
    "start_time": "2022-02-06T18:11:52.674Z"
   },
   {
    "duration": 10,
    "start_time": "2022-02-06T18:11:52.693Z"
   },
   {
    "duration": 21,
    "start_time": "2022-02-06T18:11:52.705Z"
   },
   {
    "duration": 6,
    "start_time": "2022-02-06T18:11:52.730Z"
   },
   {
    "duration": 20,
    "start_time": "2022-02-06T18:11:52.739Z"
   },
   {
    "duration": 23,
    "start_time": "2022-02-06T18:11:52.761Z"
   },
   {
    "duration": 41,
    "start_time": "2022-02-06T18:11:52.787Z"
   },
   {
    "duration": 10,
    "start_time": "2022-02-06T18:11:52.830Z"
   },
   {
    "duration": 8,
    "start_time": "2022-02-06T18:11:52.842Z"
   },
   {
    "duration": 18,
    "start_time": "2022-02-06T18:11:52.852Z"
   },
   {
    "duration": 50,
    "start_time": "2022-02-06T18:11:52.873Z"
   },
   {
    "duration": 270,
    "start_time": "2022-02-06T18:11:52.926Z"
   },
   {
    "duration": 422,
    "start_time": "2022-02-06T18:11:53.199Z"
   },
   {
    "duration": -1352,
    "start_time": "2022-02-06T18:11:54.978Z"
   },
   {
    "duration": -1357,
    "start_time": "2022-02-06T18:11:54.984Z"
   },
   {
    "duration": -1363,
    "start_time": "2022-02-06T18:11:54.991Z"
   },
   {
    "duration": -1364,
    "start_time": "2022-02-06T18:11:54.994Z"
   },
   {
    "duration": -1367,
    "start_time": "2022-02-06T18:11:54.998Z"
   },
   {
    "duration": -1371,
    "start_time": "2022-02-06T18:11:55.004Z"
   },
   {
    "duration": -1373,
    "start_time": "2022-02-06T18:11:55.007Z"
   },
   {
    "duration": -1375,
    "start_time": "2022-02-06T18:11:55.010Z"
   },
   {
    "duration": -1375,
    "start_time": "2022-02-06T18:11:55.012Z"
   },
   {
    "duration": -1377,
    "start_time": "2022-02-06T18:11:55.015Z"
   },
   {
    "duration": -1383,
    "start_time": "2022-02-06T18:11:55.022Z"
   },
   {
    "duration": -1404,
    "start_time": "2022-02-06T18:11:55.045Z"
   },
   {
    "duration": -1407,
    "start_time": "2022-02-06T18:11:55.049Z"
   },
   {
    "duration": -1414,
    "start_time": "2022-02-06T18:11:55.057Z"
   },
   {
    "duration": -1415,
    "start_time": "2022-02-06T18:11:55.060Z"
   },
   {
    "duration": -1417,
    "start_time": "2022-02-06T18:11:55.063Z"
   },
   {
    "duration": -1423,
    "start_time": "2022-02-06T18:11:55.070Z"
   },
   {
    "duration": -1423,
    "start_time": "2022-02-06T18:11:55.072Z"
   },
   {
    "duration": -1425,
    "start_time": "2022-02-06T18:11:55.075Z"
   },
   {
    "duration": -1426,
    "start_time": "2022-02-06T18:11:55.077Z"
   },
   {
    "duration": -1426,
    "start_time": "2022-02-06T18:11:55.079Z"
   },
   {
    "duration": -1428,
    "start_time": "2022-02-06T18:11:55.082Z"
   },
   {
    "duration": -1434,
    "start_time": "2022-02-06T18:11:55.089Z"
   },
   {
    "duration": -1434,
    "start_time": "2022-02-06T18:11:55.091Z"
   },
   {
    "duration": -1436,
    "start_time": "2022-02-06T18:11:55.094Z"
   },
   {
    "duration": -1436,
    "start_time": "2022-02-06T18:11:55.096Z"
   },
   {
    "duration": -1438,
    "start_time": "2022-02-06T18:11:55.099Z"
   },
   {
    "duration": -1451,
    "start_time": "2022-02-06T18:11:55.113Z"
   },
   {
    "duration": -1457,
    "start_time": "2022-02-06T18:11:55.121Z"
   },
   {
    "duration": -1459,
    "start_time": "2022-02-06T18:11:55.124Z"
   },
   {
    "duration": -1461,
    "start_time": "2022-02-06T18:11:55.127Z"
   },
   {
    "duration": -1427,
    "start_time": "2022-02-06T18:11:55.150Z"
   },
   {
    "duration": -1429,
    "start_time": "2022-02-06T18:11:55.153Z"
   },
   {
    "duration": -1429,
    "start_time": "2022-02-06T18:11:55.155Z"
   },
   {
    "duration": -1499,
    "start_time": "2022-02-06T18:11:55.227Z"
   },
   {
    "duration": -1506,
    "start_time": "2022-02-06T18:11:55.235Z"
   },
   {
    "duration": -1507,
    "start_time": "2022-02-06T18:11:55.238Z"
   },
   {
    "duration": -1507,
    "start_time": "2022-02-06T18:11:55.240Z"
   },
   {
    "duration": -1605,
    "start_time": "2022-02-06T18:11:55.340Z"
   },
   {
    "duration": -1606,
    "start_time": "2022-02-06T18:11:55.342Z"
   },
   {
    "duration": -1607,
    "start_time": "2022-02-06T18:11:55.345Z"
   },
   {
    "duration": -1608,
    "start_time": "2022-02-06T18:11:55.347Z"
   },
   {
    "duration": -1612,
    "start_time": "2022-02-06T18:11:55.353Z"
   },
   {
    "duration": -1613,
    "start_time": "2022-02-06T18:11:55.356Z"
   },
   {
    "duration": -1614,
    "start_time": "2022-02-06T18:11:55.358Z"
   },
   {
    "duration": -1614,
    "start_time": "2022-02-06T18:11:55.360Z"
   },
   {
    "duration": -1615,
    "start_time": "2022-02-06T18:11:55.362Z"
   },
   {
    "duration": -1615,
    "start_time": "2022-02-06T18:11:55.364Z"
   },
   {
    "duration": -1619,
    "start_time": "2022-02-06T18:11:55.371Z"
   },
   {
    "duration": -1619,
    "start_time": "2022-02-06T18:11:55.373Z"
   },
   {
    "duration": -1620,
    "start_time": "2022-02-06T18:11:55.376Z"
   },
   {
    "duration": -1620,
    "start_time": "2022-02-06T18:11:55.378Z"
   },
   {
    "duration": -1621,
    "start_time": "2022-02-06T18:11:55.381Z"
   },
   {
    "duration": -1626,
    "start_time": "2022-02-06T18:11:55.387Z"
   },
   {
    "duration": -1627,
    "start_time": "2022-02-06T18:11:55.389Z"
   },
   {
    "duration": 1004,
    "start_time": "2022-02-06T18:12:14.476Z"
   },
   {
    "duration": 312,
    "start_time": "2022-02-06T18:12:52.967Z"
   },
   {
    "duration": 265,
    "start_time": "2022-02-06T18:15:06.428Z"
   },
   {
    "duration": 664,
    "start_time": "2022-02-06T18:15:26.228Z"
   },
   {
    "duration": 670,
    "start_time": "2022-02-06T18:15:55.581Z"
   },
   {
    "duration": 5,
    "start_time": "2022-02-06T18:19:27.339Z"
   },
   {
    "duration": 237,
    "start_time": "2022-02-06T18:19:27.347Z"
   },
   {
    "duration": 3040,
    "start_time": "2022-02-06T18:19:27.587Z"
   },
   {
    "duration": 15,
    "start_time": "2022-02-06T18:19:30.630Z"
   },
   {
    "duration": 15,
    "start_time": "2022-02-06T18:19:30.648Z"
   },
   {
    "duration": 13,
    "start_time": "2022-02-06T18:19:30.667Z"
   },
   {
    "duration": 45,
    "start_time": "2022-02-06T18:19:30.682Z"
   },
   {
    "duration": 7,
    "start_time": "2022-02-06T18:19:30.732Z"
   },
   {
    "duration": 27,
    "start_time": "2022-02-06T18:19:30.742Z"
   },
   {
    "duration": 51,
    "start_time": "2022-02-06T18:19:30.772Z"
   },
   {
    "duration": 10,
    "start_time": "2022-02-06T18:19:30.826Z"
   },
   {
    "duration": 24,
    "start_time": "2022-02-06T18:19:30.839Z"
   },
   {
    "duration": 13,
    "start_time": "2022-02-06T18:19:30.865Z"
   },
   {
    "duration": 45,
    "start_time": "2022-02-06T18:19:30.880Z"
   },
   {
    "duration": 12,
    "start_time": "2022-02-06T18:19:30.928Z"
   },
   {
    "duration": 263,
    "start_time": "2022-02-06T18:19:30.942Z"
   },
   {
    "duration": 313,
    "start_time": "2022-02-06T18:19:31.208Z"
   },
   {
    "duration": -1370,
    "start_time": "2022-02-06T18:19:32.897Z"
   },
   {
    "duration": -1373,
    "start_time": "2022-02-06T18:19:32.902Z"
   },
   {
    "duration": -1375,
    "start_time": "2022-02-06T18:19:32.906Z"
   },
   {
    "duration": -1377,
    "start_time": "2022-02-06T18:19:32.909Z"
   },
   {
    "duration": -1440,
    "start_time": "2022-02-06T18:19:32.974Z"
   },
   {
    "duration": -1449,
    "start_time": "2022-02-06T18:19:32.985Z"
   },
   {
    "duration": -1452,
    "start_time": "2022-02-06T18:19:32.989Z"
   },
   {
    "duration": -1455,
    "start_time": "2022-02-06T18:19:32.994Z"
   },
   {
    "duration": -1458,
    "start_time": "2022-02-06T18:19:32.998Z"
   },
   {
    "duration": -1461,
    "start_time": "2022-02-06T18:19:33.002Z"
   },
   {
    "duration": -1462,
    "start_time": "2022-02-06T18:19:33.005Z"
   },
   {
    "duration": -1464,
    "start_time": "2022-02-06T18:19:33.008Z"
   },
   {
    "duration": -1465,
    "start_time": "2022-02-06T18:19:33.011Z"
   },
   {
    "duration": -1467,
    "start_time": "2022-02-06T18:19:33.014Z"
   },
   {
    "duration": -1484,
    "start_time": "2022-02-06T18:19:33.033Z"
   },
   {
    "duration": -1485,
    "start_time": "2022-02-06T18:19:33.035Z"
   },
   {
    "duration": -1485,
    "start_time": "2022-02-06T18:19:33.037Z"
   },
   {
    "duration": -1487,
    "start_time": "2022-02-06T18:19:33.040Z"
   },
   {
    "duration": -1586,
    "start_time": "2022-02-06T18:19:33.141Z"
   },
   {
    "duration": -1587,
    "start_time": "2022-02-06T18:19:33.143Z"
   },
   {
    "duration": -1587,
    "start_time": "2022-02-06T18:19:33.145Z"
   },
   {
    "duration": -1588,
    "start_time": "2022-02-06T18:19:33.147Z"
   },
   {
    "duration": -1589,
    "start_time": "2022-02-06T18:19:33.149Z"
   },
   {
    "duration": -1590,
    "start_time": "2022-02-06T18:19:33.152Z"
   },
   {
    "duration": -1530,
    "start_time": "2022-02-06T18:19:33.153Z"
   },
   {
    "duration": -1531,
    "start_time": "2022-02-06T18:19:33.156Z"
   },
   {
    "duration": -1531,
    "start_time": "2022-02-06T18:19:33.158Z"
   },
   {
    "duration": -1531,
    "start_time": "2022-02-06T18:19:33.160Z"
   },
   {
    "duration": -1531,
    "start_time": "2022-02-06T18:19:33.161Z"
   },
   {
    "duration": -1532,
    "start_time": "2022-02-06T18:19:33.164Z"
   },
   {
    "duration": -1533,
    "start_time": "2022-02-06T18:19:33.166Z"
   },
   {
    "duration": -1533,
    "start_time": "2022-02-06T18:19:33.168Z"
   },
   {
    "duration": -1533,
    "start_time": "2022-02-06T18:19:33.169Z"
   },
   {
    "duration": -1584,
    "start_time": "2022-02-06T18:19:33.222Z"
   },
   {
    "duration": -1585,
    "start_time": "2022-02-06T18:19:33.224Z"
   },
   {
    "duration": -1585,
    "start_time": "2022-02-06T18:19:33.226Z"
   },
   {
    "duration": -1586,
    "start_time": "2022-02-06T18:19:33.228Z"
   },
   {
    "duration": -1586,
    "start_time": "2022-02-06T18:19:33.230Z"
   },
   {
    "duration": -1587,
    "start_time": "2022-02-06T18:19:33.232Z"
   },
   {
    "duration": -1588,
    "start_time": "2022-02-06T18:19:33.235Z"
   },
   {
    "duration": -1589,
    "start_time": "2022-02-06T18:19:33.237Z"
   },
   {
    "duration": -1589,
    "start_time": "2022-02-06T18:19:33.239Z"
   },
   {
    "duration": -1590,
    "start_time": "2022-02-06T18:19:33.241Z"
   },
   {
    "duration": -1595,
    "start_time": "2022-02-06T18:19:33.247Z"
   },
   {
    "duration": -1595,
    "start_time": "2022-02-06T18:19:33.249Z"
   },
   {
    "duration": -1596,
    "start_time": "2022-02-06T18:19:33.251Z"
   },
   {
    "duration": -1596,
    "start_time": "2022-02-06T18:19:33.253Z"
   },
   {
    "duration": -1657,
    "start_time": "2022-02-06T18:19:33.315Z"
   },
   {
    "duration": -1660,
    "start_time": "2022-02-06T18:19:33.320Z"
   },
   {
    "duration": -1602,
    "start_time": "2022-02-06T18:19:33.325Z"
   },
   {
    "duration": -1603,
    "start_time": "2022-02-06T18:19:33.328Z"
   },
   {
    "duration": -1604,
    "start_time": "2022-02-06T18:19:33.331Z"
   },
   {
    "duration": -1610,
    "start_time": "2022-02-06T18:19:33.338Z"
   },
   {
    "duration": -1611,
    "start_time": "2022-02-06T18:19:33.341Z"
   },
   {
    "duration": -1613,
    "start_time": "2022-02-06T18:19:33.344Z"
   },
   {
    "duration": 5,
    "start_time": "2022-02-06T18:22:13.386Z"
   },
   {
    "duration": 217,
    "start_time": "2022-02-06T18:22:13.394Z"
   },
   {
    "duration": 3243,
    "start_time": "2022-02-06T18:22:13.614Z"
   },
   {
    "duration": 16,
    "start_time": "2022-02-06T18:22:16.861Z"
   },
   {
    "duration": 13,
    "start_time": "2022-02-06T18:22:16.879Z"
   },
   {
    "duration": 12,
    "start_time": "2022-02-06T18:22:16.895Z"
   },
   {
    "duration": 19,
    "start_time": "2022-02-06T18:22:16.910Z"
   },
   {
    "duration": 6,
    "start_time": "2022-02-06T18:22:16.935Z"
   },
   {
    "duration": 22,
    "start_time": "2022-02-06T18:22:16.944Z"
   },
   {
    "duration": 60,
    "start_time": "2022-02-06T18:22:16.968Z"
   },
   {
    "duration": 11,
    "start_time": "2022-02-06T18:22:17.031Z"
   },
   {
    "duration": 11,
    "start_time": "2022-02-06T18:22:17.044Z"
   },
   {
    "duration": 19,
    "start_time": "2022-02-06T18:22:17.058Z"
   },
   {
    "duration": 43,
    "start_time": "2022-02-06T18:22:17.080Z"
   },
   {
    "duration": 266,
    "start_time": "2022-02-06T18:22:17.126Z"
   },
   {
    "duration": 112,
    "start_time": "2022-02-06T18:22:17.396Z"
   },
   {
    "duration": -1366,
    "start_time": "2022-02-06T18:22:18.880Z"
   },
   {
    "duration": -1366,
    "start_time": "2022-02-06T18:22:18.882Z"
   },
   {
    "duration": -1366,
    "start_time": "2022-02-06T18:22:18.884Z"
   },
   {
    "duration": -1367,
    "start_time": "2022-02-06T18:22:18.887Z"
   },
   {
    "duration": -1366,
    "start_time": "2022-02-06T18:22:18.889Z"
   },
   {
    "duration": -1366,
    "start_time": "2022-02-06T18:22:18.891Z"
   },
   {
    "duration": -1366,
    "start_time": "2022-02-06T18:22:18.893Z"
   },
   {
    "duration": -1370,
    "start_time": "2022-02-06T18:22:18.899Z"
   },
   {
    "duration": -1429,
    "start_time": "2022-02-06T18:22:18.961Z"
   },
   {
    "duration": -1454,
    "start_time": "2022-02-06T18:22:18.988Z"
   },
   {
    "duration": -1487,
    "start_time": "2022-02-06T18:22:19.023Z"
   },
   {
    "duration": -1486,
    "start_time": "2022-02-06T18:22:19.025Z"
   },
   {
    "duration": -1486,
    "start_time": "2022-02-06T18:22:19.027Z"
   },
   {
    "duration": -1486,
    "start_time": "2022-02-06T18:22:19.029Z"
   },
   {
    "duration": -1487,
    "start_time": "2022-02-06T18:22:19.031Z"
   },
   {
    "duration": -1487,
    "start_time": "2022-02-06T18:22:19.033Z"
   },
   {
    "duration": -1487,
    "start_time": "2022-02-06T18:22:19.035Z"
   },
   {
    "duration": -1488,
    "start_time": "2022-02-06T18:22:19.037Z"
   },
   {
    "duration": -1488,
    "start_time": "2022-02-06T18:22:19.039Z"
   },
   {
    "duration": -1489,
    "start_time": "2022-02-06T18:22:19.041Z"
   },
   {
    "duration": -1489,
    "start_time": "2022-02-06T18:22:19.043Z"
   },
   {
    "duration": -1490,
    "start_time": "2022-02-06T18:22:19.045Z"
   },
   {
    "duration": -1491,
    "start_time": "2022-02-06T18:22:19.047Z"
   },
   {
    "duration": -1491,
    "start_time": "2022-02-06T18:22:19.049Z"
   },
   {
    "duration": -1492,
    "start_time": "2022-02-06T18:22:19.051Z"
   },
   {
    "duration": -1535,
    "start_time": "2022-02-06T18:22:19.095Z"
   },
   {
    "duration": -1552,
    "start_time": "2022-02-06T18:22:19.114Z"
   },
   {
    "duration": -1554,
    "start_time": "2022-02-06T18:22:19.117Z"
   },
   {
    "duration": -1554,
    "start_time": "2022-02-06T18:22:19.119Z"
   },
   {
    "duration": -1555,
    "start_time": "2022-02-06T18:22:19.121Z"
   },
   {
    "duration": -1499,
    "start_time": "2022-02-06T18:22:19.122Z"
   },
   {
    "duration": -1500,
    "start_time": "2022-02-06T18:22:19.124Z"
   },
   {
    "duration": -1500,
    "start_time": "2022-02-06T18:22:19.126Z"
   },
   {
    "duration": -1502,
    "start_time": "2022-02-06T18:22:19.129Z"
   },
   {
    "duration": -1502,
    "start_time": "2022-02-06T18:22:19.130Z"
   },
   {
    "duration": -1502,
    "start_time": "2022-02-06T18:22:19.132Z"
   },
   {
    "duration": -1504,
    "start_time": "2022-02-06T18:22:19.135Z"
   },
   {
    "duration": -1505,
    "start_time": "2022-02-06T18:22:19.137Z"
   },
   {
    "duration": -1505,
    "start_time": "2022-02-06T18:22:19.139Z"
   },
   {
    "duration": -1506,
    "start_time": "2022-02-06T18:22:19.141Z"
   },
   {
    "duration": -1506,
    "start_time": "2022-02-06T18:22:19.143Z"
   },
   {
    "duration": -1507,
    "start_time": "2022-02-06T18:22:19.145Z"
   },
   {
    "duration": -1508,
    "start_time": "2022-02-06T18:22:19.147Z"
   },
   {
    "duration": -1509,
    "start_time": "2022-02-06T18:22:19.149Z"
   },
   {
    "duration": -1540,
    "start_time": "2022-02-06T18:22:19.182Z"
   },
   {
    "duration": -1563,
    "start_time": "2022-02-06T18:22:19.207Z"
   },
   {
    "duration": -1563,
    "start_time": "2022-02-06T18:22:19.209Z"
   },
   {
    "duration": -1563,
    "start_time": "2022-02-06T18:22:19.211Z"
   },
   {
    "duration": -1563,
    "start_time": "2022-02-06T18:22:19.213Z"
   },
   {
    "duration": -1564,
    "start_time": "2022-02-06T18:22:19.215Z"
   },
   {
    "duration": -1565,
    "start_time": "2022-02-06T18:22:19.218Z"
   },
   {
    "duration": -1565,
    "start_time": "2022-02-06T18:22:19.220Z"
   },
   {
    "duration": -1566,
    "start_time": "2022-02-06T18:22:19.222Z"
   },
   {
    "duration": -1566,
    "start_time": "2022-02-06T18:22:19.224Z"
   },
   {
    "duration": -1566,
    "start_time": "2022-02-06T18:22:19.226Z"
   },
   {
    "duration": 289,
    "start_time": "2022-02-06T18:30:08.398Z"
   },
   {
    "duration": 10,
    "start_time": "2022-02-06T18:30:38.514Z"
   },
   {
    "duration": 9,
    "start_time": "2022-02-06T18:31:02.009Z"
   },
   {
    "duration": 8,
    "start_time": "2022-02-06T18:31:15.218Z"
   },
   {
    "duration": 671,
    "start_time": "2022-02-06T18:32:38.373Z"
   },
   {
    "duration": 1233,
    "start_time": "2022-02-06T18:32:46.728Z"
   },
   {
    "duration": 424,
    "start_time": "2022-02-06T18:32:55.256Z"
   },
   {
    "duration": 253,
    "start_time": "2022-02-06T18:33:05.452Z"
   },
   {
    "duration": 261,
    "start_time": "2022-02-06T18:33:22.218Z"
   },
   {
    "duration": 22,
    "start_time": "2022-02-06T18:34:48.334Z"
   },
   {
    "duration": 125,
    "start_time": "2022-02-06T18:34:48.854Z"
   },
   {
    "duration": 17,
    "start_time": "2022-02-06T18:35:53.364Z"
   },
   {
    "duration": 118,
    "start_time": "2022-02-06T18:36:01.905Z"
   },
   {
    "duration": 18,
    "start_time": "2022-02-06T18:36:07.442Z"
   },
   {
    "duration": 117,
    "start_time": "2022-02-06T18:36:11.096Z"
   },
   {
    "duration": 5,
    "start_time": "2022-02-06T18:36:33.972Z"
   },
   {
    "duration": 226,
    "start_time": "2022-02-06T18:36:33.979Z"
   },
   {
    "duration": 3238,
    "start_time": "2022-02-06T18:36:34.208Z"
   },
   {
    "duration": 14,
    "start_time": "2022-02-06T18:36:37.449Z"
   },
   {
    "duration": 13,
    "start_time": "2022-02-06T18:36:37.465Z"
   },
   {
    "duration": 11,
    "start_time": "2022-02-06T18:36:37.480Z"
   },
   {
    "duration": 29,
    "start_time": "2022-02-06T18:36:37.494Z"
   },
   {
    "duration": 8,
    "start_time": "2022-02-06T18:36:37.526Z"
   },
   {
    "duration": 27,
    "start_time": "2022-02-06T18:36:37.536Z"
   },
   {
    "duration": 26,
    "start_time": "2022-02-06T18:36:37.565Z"
   },
   {
    "duration": 41,
    "start_time": "2022-02-06T18:36:37.593Z"
   },
   {
    "duration": 10,
    "start_time": "2022-02-06T18:36:37.637Z"
   },
   {
    "duration": 21,
    "start_time": "2022-02-06T18:36:37.649Z"
   },
   {
    "duration": 6,
    "start_time": "2022-02-06T18:36:37.672Z"
   },
   {
    "duration": 129,
    "start_time": "2022-02-06T18:36:37.680Z"
   },
   {
    "duration": -1380,
    "start_time": "2022-02-06T18:36:39.194Z"
   },
   {
    "duration": -1385,
    "start_time": "2022-02-06T18:36:39.201Z"
   },
   {
    "duration": -1385,
    "start_time": "2022-02-06T18:36:39.203Z"
   },
   {
    "duration": -1385,
    "start_time": "2022-02-06T18:36:39.205Z"
   },
   {
    "duration": -1386,
    "start_time": "2022-02-06T18:36:39.207Z"
   },
   {
    "duration": -1387,
    "start_time": "2022-02-06T18:36:39.210Z"
   },
   {
    "duration": -1388,
    "start_time": "2022-02-06T18:36:39.212Z"
   },
   {
    "duration": -1388,
    "start_time": "2022-02-06T18:36:39.214Z"
   },
   {
    "duration": -1390,
    "start_time": "2022-02-06T18:36:39.217Z"
   },
   {
    "duration": -1389,
    "start_time": "2022-02-06T18:36:39.218Z"
   },
   {
    "duration": -1390,
    "start_time": "2022-02-06T18:36:39.220Z"
   },
   {
    "duration": -1390,
    "start_time": "2022-02-06T18:36:39.222Z"
   },
   {
    "duration": -1396,
    "start_time": "2022-02-06T18:36:39.229Z"
   },
   {
    "duration": -1429,
    "start_time": "2022-02-06T18:36:39.263Z"
   },
   {
    "duration": -1430,
    "start_time": "2022-02-06T18:36:39.266Z"
   },
   {
    "duration": -1430,
    "start_time": "2022-02-06T18:36:39.268Z"
   },
   {
    "duration": -1432,
    "start_time": "2022-02-06T18:36:39.271Z"
   },
   {
    "duration": -1432,
    "start_time": "2022-02-06T18:36:39.273Z"
   },
   {
    "duration": -1433,
    "start_time": "2022-02-06T18:36:39.275Z"
   },
   {
    "duration": -1433,
    "start_time": "2022-02-06T18:36:39.277Z"
   },
   {
    "duration": -1435,
    "start_time": "2022-02-06T18:36:39.280Z"
   },
   {
    "duration": -1435,
    "start_time": "2022-02-06T18:36:39.282Z"
   },
   {
    "duration": -1436,
    "start_time": "2022-02-06T18:36:39.284Z"
   },
   {
    "duration": -1436,
    "start_time": "2022-02-06T18:36:39.286Z"
   },
   {
    "duration": -1438,
    "start_time": "2022-02-06T18:36:39.289Z"
   },
   {
    "duration": -1438,
    "start_time": "2022-02-06T18:36:39.291Z"
   },
   {
    "duration": -1439,
    "start_time": "2022-02-06T18:36:39.293Z"
   },
   {
    "duration": -1440,
    "start_time": "2022-02-06T18:36:39.295Z"
   },
   {
    "duration": -1440,
    "start_time": "2022-02-06T18:36:39.297Z"
   },
   {
    "duration": -1441,
    "start_time": "2022-02-06T18:36:39.299Z"
   },
   {
    "duration": -1441,
    "start_time": "2022-02-06T18:36:39.301Z"
   },
   {
    "duration": -1446,
    "start_time": "2022-02-06T18:36:39.307Z"
   },
   {
    "duration": -1448,
    "start_time": "2022-02-06T18:36:39.310Z"
   },
   {
    "duration": -1389,
    "start_time": "2022-02-06T18:36:39.312Z"
   },
   {
    "duration": -1390,
    "start_time": "2022-02-06T18:36:39.315Z"
   },
   {
    "duration": -1389,
    "start_time": "2022-02-06T18:36:39.316Z"
   },
   {
    "duration": -1390,
    "start_time": "2022-02-06T18:36:39.318Z"
   },
   {
    "duration": -1390,
    "start_time": "2022-02-06T18:36:39.320Z"
   },
   {
    "duration": -1488,
    "start_time": "2022-02-06T18:36:39.420Z"
   },
   {
    "duration": -1510,
    "start_time": "2022-02-06T18:36:39.443Z"
   },
   {
    "duration": -1511,
    "start_time": "2022-02-06T18:36:39.445Z"
   },
   {
    "duration": -1511,
    "start_time": "2022-02-06T18:36:39.447Z"
   },
   {
    "duration": -1516,
    "start_time": "2022-02-06T18:36:39.453Z"
   },
   {
    "duration": -1516,
    "start_time": "2022-02-06T18:36:39.455Z"
   },
   {
    "duration": -1517,
    "start_time": "2022-02-06T18:36:39.457Z"
   },
   {
    "duration": -1517,
    "start_time": "2022-02-06T18:36:39.459Z"
   },
   {
    "duration": -1519,
    "start_time": "2022-02-06T18:36:39.462Z"
   },
   {
    "duration": -1520,
    "start_time": "2022-02-06T18:36:39.464Z"
   },
   {
    "duration": -1520,
    "start_time": "2022-02-06T18:36:39.466Z"
   },
   {
    "duration": -1521,
    "start_time": "2022-02-06T18:36:39.468Z"
   },
   {
    "duration": -1521,
    "start_time": "2022-02-06T18:36:39.470Z"
   },
   {
    "duration": -1522,
    "start_time": "2022-02-06T18:36:39.472Z"
   },
   {
    "duration": -1523,
    "start_time": "2022-02-06T18:36:39.475Z"
   },
   {
    "duration": -1530,
    "start_time": "2022-02-06T18:36:39.483Z"
   },
   {
    "duration": -1535,
    "start_time": "2022-02-06T18:36:39.489Z"
   },
   {
    "duration": -1536,
    "start_time": "2022-02-06T18:36:39.492Z"
   },
   {
    "duration": 263,
    "start_time": "2022-02-06T18:40:53.427Z"
   },
   {
    "duration": 259,
    "start_time": "2022-02-06T18:40:55.505Z"
   },
   {
    "duration": 5,
    "start_time": "2022-02-06T18:40:58.917Z"
   },
   {
    "duration": 224,
    "start_time": "2022-02-06T18:40:58.925Z"
   },
   {
    "duration": 3360,
    "start_time": "2022-02-06T18:40:59.153Z"
   },
   {
    "duration": 15,
    "start_time": "2022-02-06T18:41:02.517Z"
   },
   {
    "duration": 16,
    "start_time": "2022-02-06T18:41:02.534Z"
   },
   {
    "duration": 14,
    "start_time": "2022-02-06T18:41:02.553Z"
   },
   {
    "duration": 14,
    "start_time": "2022-02-06T18:41:02.570Z"
   },
   {
    "duration": 40,
    "start_time": "2022-02-06T18:41:02.589Z"
   },
   {
    "duration": 23,
    "start_time": "2022-02-06T18:41:02.633Z"
   },
   {
    "duration": 21,
    "start_time": "2022-02-06T18:41:02.659Z"
   },
   {
    "duration": 50,
    "start_time": "2022-02-06T18:41:02.683Z"
   },
   {
    "duration": 24,
    "start_time": "2022-02-06T18:41:02.736Z"
   },
   {
    "duration": 24,
    "start_time": "2022-02-06T18:41:02.763Z"
   },
   {
    "duration": 11,
    "start_time": "2022-02-06T18:41:02.790Z"
   },
   {
    "duration": 363,
    "start_time": "2022-02-06T18:41:02.804Z"
   },
   {
    "duration": 327,
    "start_time": "2022-02-06T18:41:03.169Z"
   },
   {
    "duration": 30,
    "start_time": "2022-02-06T18:41:03.499Z"
   },
   {
    "duration": 138,
    "start_time": "2022-02-06T18:41:03.531Z"
   },
   {
    "duration": 9,
    "start_time": "2022-02-06T18:41:03.671Z"
   },
   {
    "duration": 219,
    "start_time": "2022-02-06T18:41:03.682Z"
   },
   {
    "duration": 6,
    "start_time": "2022-02-06T18:41:03.903Z"
   },
   {
    "duration": 16,
    "start_time": "2022-02-06T18:41:03.911Z"
   },
   {
    "duration": 13,
    "start_time": "2022-02-06T18:41:03.934Z"
   },
   {
    "duration": 10,
    "start_time": "2022-02-06T18:41:03.951Z"
   },
   {
    "duration": 11,
    "start_time": "2022-02-06T18:41:03.963Z"
   },
   {
    "duration": 58,
    "start_time": "2022-02-06T18:41:03.976Z"
   },
   {
    "duration": 18,
    "start_time": "2022-02-06T18:41:04.037Z"
   },
   {
    "duration": 140,
    "start_time": "2022-02-06T18:41:04.057Z"
   },
   {
    "duration": 32,
    "start_time": "2022-02-06T18:41:04.200Z"
   },
   {
    "duration": 446,
    "start_time": "2022-02-06T18:41:04.235Z"
   },
   {
    "duration": 15,
    "start_time": "2022-02-06T18:41:04.684Z"
   },
   {
    "duration": 358,
    "start_time": "2022-02-06T18:41:04.723Z"
   },
   {
    "duration": 7,
    "start_time": "2022-02-06T18:41:05.084Z"
   },
   {
    "duration": 35,
    "start_time": "2022-02-06T18:41:05.093Z"
   },
   {
    "duration": 10,
    "start_time": "2022-02-06T18:41:05.131Z"
   },
   {
    "duration": 16,
    "start_time": "2022-02-06T18:41:05.144Z"
   },
   {
    "duration": 294,
    "start_time": "2022-02-06T18:41:05.162Z"
   },
   {
    "duration": -1363,
    "start_time": "2022-02-06T18:41:06.821Z"
   },
   {
    "duration": -1364,
    "start_time": "2022-02-06T18:41:06.824Z"
   },
   {
    "duration": -1368,
    "start_time": "2022-02-06T18:41:06.830Z"
   },
   {
    "duration": -1369,
    "start_time": "2022-02-06T18:41:06.832Z"
   },
   {
    "duration": -1370,
    "start_time": "2022-02-06T18:41:06.835Z"
   },
   {
    "duration": -1370,
    "start_time": "2022-02-06T18:41:06.837Z"
   },
   {
    "duration": -1372,
    "start_time": "2022-02-06T18:41:06.840Z"
   },
   {
    "duration": -1372,
    "start_time": "2022-02-06T18:41:06.842Z"
   },
   {
    "duration": -1373,
    "start_time": "2022-02-06T18:41:06.844Z"
   },
   {
    "duration": -1374,
    "start_time": "2022-02-06T18:41:06.846Z"
   },
   {
    "duration": -1375,
    "start_time": "2022-02-06T18:41:06.849Z"
   },
   {
    "duration": -1376,
    "start_time": "2022-02-06T18:41:06.851Z"
   },
   {
    "duration": -1376,
    "start_time": "2022-02-06T18:41:06.853Z"
   },
   {
    "duration": -1376,
    "start_time": "2022-02-06T18:41:06.855Z"
   },
   {
    "duration": -1377,
    "start_time": "2022-02-06T18:41:06.857Z"
   },
   {
    "duration": -1383,
    "start_time": "2022-02-06T18:41:06.864Z"
   },
   {
    "duration": -1383,
    "start_time": "2022-02-06T18:41:06.866Z"
   },
   {
    "duration": -1418,
    "start_time": "2022-02-06T18:41:06.902Z"
   },
   {
    "duration": -1423,
    "start_time": "2022-02-06T18:41:06.909Z"
   },
   {
    "duration": -1425,
    "start_time": "2022-02-06T18:41:06.912Z"
   },
   {
    "duration": -1425,
    "start_time": "2022-02-06T18:41:06.914Z"
   },
   {
    "duration": -1427,
    "start_time": "2022-02-06T18:41:06.917Z"
   },
   {
    "duration": -1428,
    "start_time": "2022-02-06T18:41:06.919Z"
   },
   {
    "duration": -1429,
    "start_time": "2022-02-06T18:41:06.921Z"
   },
   {
    "duration": -1431,
    "start_time": "2022-02-06T18:41:06.924Z"
   },
   {
    "duration": -1431,
    "start_time": "2022-02-06T18:41:06.926Z"
   },
   {
    "duration": -1432,
    "start_time": "2022-02-06T18:41:06.928Z"
   },
   {
    "duration": -1433,
    "start_time": "2022-02-06T18:41:06.930Z"
   },
   {
    "duration": -1433,
    "start_time": "2022-02-06T18:41:06.932Z"
   },
   {
    "duration": -1411,
    "start_time": "2022-02-06T18:41:06.934Z"
   },
   {
    "duration": -1411,
    "start_time": "2022-02-06T18:41:06.936Z"
   },
   {
    "duration": -1412,
    "start_time": "2022-02-06T18:41:06.938Z"
   },
   {
    "duration": -1412,
    "start_time": "2022-02-06T18:41:06.940Z"
   },
   {
    "duration": -1413,
    "start_time": "2022-02-06T18:41:06.942Z"
   },
   {
    "duration": 584,
    "start_time": "2022-02-06T18:42:27.755Z"
   },
   {
    "duration": 392,
    "start_time": "2022-02-06T18:43:01.171Z"
   },
   {
    "duration": 295,
    "start_time": "2022-02-06T18:43:21.451Z"
   },
   {
    "duration": 118,
    "start_time": "2022-02-06T18:43:35.279Z"
   },
   {
    "duration": 368,
    "start_time": "2022-02-06T18:54:08.478Z"
   },
   {
    "duration": 115,
    "start_time": "2022-02-06T19:00:37.238Z"
   },
   {
    "duration": 294,
    "start_time": "2022-02-06T19:00:48.535Z"
   },
   {
    "duration": 135,
    "start_time": "2022-02-06T19:00:55.344Z"
   },
   {
    "duration": 138,
    "start_time": "2022-02-06T19:01:02.968Z"
   },
   {
    "duration": 130,
    "start_time": "2022-02-06T19:01:09.799Z"
   },
   {
    "duration": 157,
    "start_time": "2022-02-06T19:01:52.017Z"
   },
   {
    "duration": 150,
    "start_time": "2022-02-06T19:02:05.237Z"
   },
   {
    "duration": 297,
    "start_time": "2022-02-06T19:05:56.453Z"
   },
   {
    "duration": 3,
    "start_time": "2022-02-06T19:06:09.722Z"
   },
   {
    "duration": 10,
    "start_time": "2022-02-06T19:12:54.695Z"
   },
   {
    "duration": 299,
    "start_time": "2022-02-06T19:12:56.062Z"
   },
   {
    "duration": 1569,
    "start_time": "2022-02-06T19:13:52.496Z"
   },
   {
    "duration": 298,
    "start_time": "2022-02-06T19:13:54.068Z"
   },
   {
    "duration": 2976,
    "start_time": "2022-02-06T19:13:54.369Z"
   },
   {
    "duration": 20,
    "start_time": "2022-02-06T19:13:57.348Z"
   },
   {
    "duration": 23,
    "start_time": "2022-02-06T19:13:57.370Z"
   },
   {
    "duration": 14,
    "start_time": "2022-02-06T19:13:57.395Z"
   },
   {
    "duration": 20,
    "start_time": "2022-02-06T19:13:57.411Z"
   },
   {
    "duration": 6,
    "start_time": "2022-02-06T19:13:57.435Z"
   },
   {
    "duration": 27,
    "start_time": "2022-02-06T19:13:57.444Z"
   },
   {
    "duration": 31,
    "start_time": "2022-02-06T19:13:57.474Z"
   },
   {
    "duration": 23,
    "start_time": "2022-02-06T19:13:57.507Z"
   },
   {
    "duration": 18,
    "start_time": "2022-02-06T19:13:57.533Z"
   },
   {
    "duration": 24,
    "start_time": "2022-02-06T19:13:57.553Z"
   },
   {
    "duration": 7,
    "start_time": "2022-02-06T19:13:57.579Z"
   },
   {
    "duration": 277,
    "start_time": "2022-02-06T19:13:57.588Z"
   },
   {
    "duration": 270,
    "start_time": "2022-02-06T19:13:57.867Z"
   },
   {
    "duration": 19,
    "start_time": "2022-02-06T19:13:58.140Z"
   },
   {
    "duration": 183,
    "start_time": "2022-02-06T19:13:58.162Z"
   },
   {
    "duration": 10,
    "start_time": "2022-02-06T19:13:58.347Z"
   },
   {
    "duration": 236,
    "start_time": "2022-02-06T19:13:58.359Z"
   },
   {
    "duration": 8,
    "start_time": "2022-02-06T19:13:58.598Z"
   },
   {
    "duration": 7,
    "start_time": "2022-02-06T19:13:58.624Z"
   },
   {
    "duration": 14,
    "start_time": "2022-02-06T19:13:58.640Z"
   },
   {
    "duration": 12,
    "start_time": "2022-02-06T19:13:58.660Z"
   },
   {
    "duration": 52,
    "start_time": "2022-02-06T19:13:58.674Z"
   },
   {
    "duration": 16,
    "start_time": "2022-02-06T19:13:58.729Z"
   },
   {
    "duration": 16,
    "start_time": "2022-02-06T19:13:58.747Z"
   },
   {
    "duration": 13,
    "start_time": "2022-02-06T19:13:58.765Z"
   },
   {
    "duration": 57,
    "start_time": "2022-02-06T19:13:58.780Z"
   },
   {
    "duration": 446,
    "start_time": "2022-02-06T19:13:58.839Z"
   },
   {
    "duration": 13,
    "start_time": "2022-02-06T19:13:59.287Z"
   },
   {
    "duration": 264,
    "start_time": "2022-02-06T19:13:59.303Z"
   },
   {
    "duration": 7,
    "start_time": "2022-02-06T19:13:59.570Z"
   },
   {
    "duration": 17,
    "start_time": "2022-02-06T19:13:59.579Z"
   },
   {
    "duration": 34,
    "start_time": "2022-02-06T19:13:59.598Z"
   },
   {
    "duration": 11,
    "start_time": "2022-02-06T19:13:59.634Z"
   },
   {
    "duration": 8,
    "start_time": "2022-02-06T19:13:59.648Z"
   },
   {
    "duration": 12,
    "start_time": "2022-02-06T19:13:59.658Z"
   },
   {
    "duration": 429,
    "start_time": "2022-02-06T19:13:59.673Z"
   },
   {
    "duration": 408,
    "start_time": "2022-02-06T19:14:00.104Z"
   },
   {
    "duration": 16,
    "start_time": "2022-02-06T19:14:00.514Z"
   },
   {
    "duration": 10,
    "start_time": "2022-02-06T19:14:00.533Z"
   },
   {
    "duration": 285,
    "start_time": "2022-02-06T19:14:00.546Z"
   },
   {
    "duration": 6,
    "start_time": "2022-02-06T19:14:00.834Z"
   },
   {
    "duration": 28,
    "start_time": "2022-02-06T19:14:00.843Z"
   },
   {
    "duration": 21,
    "start_time": "2022-02-06T19:14:00.874Z"
   },
   {
    "duration": 27,
    "start_time": "2022-02-06T19:14:00.898Z"
   },
   {
    "duration": 19,
    "start_time": "2022-02-06T19:14:00.927Z"
   },
   {
    "duration": 13,
    "start_time": "2022-02-06T19:14:00.949Z"
   },
   {
    "duration": 16,
    "start_time": "2022-02-06T19:14:00.965Z"
   },
   {
    "duration": 14,
    "start_time": "2022-02-06T19:14:00.984Z"
   },
   {
    "duration": 8,
    "start_time": "2022-02-06T19:14:01.001Z"
   },
   {
    "duration": 11,
    "start_time": "2022-02-06T19:14:01.012Z"
   },
   {
    "duration": 2351,
    "start_time": "2022-02-06T19:14:01.026Z"
   },
   {
    "duration": 34,
    "start_time": "2022-02-06T19:14:03.379Z"
   },
   {
    "duration": 12,
    "start_time": "2022-02-06T19:14:03.416Z"
   },
   {
    "duration": 7,
    "start_time": "2022-02-06T19:14:03.431Z"
   },
   {
    "duration": 2273,
    "start_time": "2022-02-06T19:14:03.443Z"
   },
   {
    "duration": 57,
    "start_time": "2022-02-06T19:14:05.722Z"
   },
   {
    "duration": 14,
    "start_time": "2022-02-06T19:14:05.783Z"
   },
   {
    "duration": 44,
    "start_time": "2022-02-06T19:14:05.799Z"
   },
   {
    "duration": 6,
    "start_time": "2022-02-06T19:14:05.846Z"
   },
   {
    "duration": 2429,
    "start_time": "2022-02-06T19:14:05.854Z"
   },
   {
    "duration": 18,
    "start_time": "2022-02-06T19:14:08.286Z"
   },
   {
    "duration": 30,
    "start_time": "2022-02-06T19:14:08.306Z"
   },
   {
    "duration": 338,
    "start_time": "2022-02-06T19:14:08.338Z"
   },
   {
    "duration": 45,
    "start_time": "2022-02-06T19:14:08.678Z"
   },
   {
    "duration": 20,
    "start_time": "2022-02-06T19:14:08.729Z"
   },
   {
    "duration": 7,
    "start_time": "2022-02-06T19:14:08.752Z"
   },
   {
    "duration": 26,
    "start_time": "2022-02-06T19:14:08.761Z"
   },
   {
    "duration": 799,
    "start_time": "2022-02-06T19:14:08.790Z"
   },
   {
    "duration": 335,
    "start_time": "2022-02-06T19:23:03.200Z"
   },
   {
    "duration": 271,
    "start_time": "2022-02-06T19:23:34.481Z"
   },
   {
    "duration": 278,
    "start_time": "2022-02-06T19:24:37.809Z"
   },
   {
    "duration": 483,
    "start_time": "2022-02-06T19:25:50.824Z"
   },
   {
    "duration": 440,
    "start_time": "2022-02-06T19:26:02.604Z"
   },
   {
    "duration": 295,
    "start_time": "2022-02-06T19:26:12.933Z"
   },
   {
    "duration": 469,
    "start_time": "2022-02-06T19:26:19.321Z"
   },
   {
    "duration": 289,
    "start_time": "2022-02-06T19:26:30.428Z"
   },
   {
    "duration": 311,
    "start_time": "2022-02-06T19:27:39.547Z"
   },
   {
    "duration": 306,
    "start_time": "2022-02-06T19:28:27.427Z"
   },
   {
    "duration": 308,
    "start_time": "2022-02-06T19:28:36.332Z"
   },
   {
    "duration": 50,
    "start_time": "2022-02-06T19:38:05.917Z"
   },
   {
    "duration": 20,
    "start_time": "2022-02-06T19:38:36.041Z"
   },
   {
    "duration": 20,
    "start_time": "2022-02-06T19:39:16.911Z"
   },
   {
    "duration": 18,
    "start_time": "2022-02-06T19:39:28.229Z"
   },
   {
    "duration": 269,
    "start_time": "2022-02-06T19:40:36.300Z"
   },
   {
    "duration": 352,
    "start_time": "2022-02-06T19:40:48.351Z"
   },
   {
    "duration": 7,
    "start_time": "2022-02-06T19:59:34.427Z"
   },
   {
    "duration": 9,
    "start_time": "2022-02-06T20:00:05.473Z"
   },
   {
    "duration": 421,
    "start_time": "2022-02-06T20:00:54.621Z"
   },
   {
    "duration": 307,
    "start_time": "2022-02-06T20:01:51.492Z"
   },
   {
    "duration": 683,
    "start_time": "2022-02-06T20:02:28.954Z"
   },
   {
    "duration": 306,
    "start_time": "2022-02-06T20:02:53.563Z"
   },
   {
    "duration": 519,
    "start_time": "2022-02-06T20:03:58.938Z"
   },
   {
    "duration": 309,
    "start_time": "2022-02-06T20:04:07.451Z"
   },
   {
    "duration": 547,
    "start_time": "2022-02-06T20:05:04.137Z"
   },
   {
    "duration": 384,
    "start_time": "2022-02-06T20:05:15.994Z"
   },
   {
    "duration": 378,
    "start_time": "2022-02-06T20:05:24.986Z"
   },
   {
    "duration": 338,
    "start_time": "2022-02-06T20:05:33.563Z"
   },
   {
    "duration": 409,
    "start_time": "2022-02-06T20:05:41.173Z"
   },
   {
    "duration": 538,
    "start_time": "2022-02-06T20:07:09.771Z"
   },
   {
    "duration": 708,
    "start_time": "2022-02-06T20:09:34.756Z"
   },
   {
    "duration": 343,
    "start_time": "2022-02-06T20:13:49.132Z"
   },
   {
    "duration": 12,
    "start_time": "2022-02-06T20:25:44.439Z"
   },
   {
    "duration": 595,
    "start_time": "2022-02-06T20:27:20.376Z"
   },
   {
    "duration": 455,
    "start_time": "2022-02-06T20:28:35.168Z"
   },
   {
    "duration": 1018,
    "start_time": "2022-02-06T20:29:13.952Z"
   },
   {
    "duration": 302,
    "start_time": "2022-02-06T20:30:05.162Z"
   },
   {
    "duration": 333,
    "start_time": "2022-02-06T20:30:26.907Z"
   },
   {
    "duration": 357,
    "start_time": "2022-02-06T20:30:43.771Z"
   },
   {
    "duration": 351,
    "start_time": "2022-02-06T20:31:00.250Z"
   },
   {
    "duration": 394,
    "start_time": "2022-02-06T20:38:08.938Z"
   },
   {
    "duration": 314,
    "start_time": "2022-02-06T20:38:45.474Z"
   },
   {
    "duration": 12,
    "start_time": "2022-02-06T20:39:01.733Z"
   },
   {
    "duration": 12,
    "start_time": "2022-02-06T20:39:32.796Z"
   },
   {
    "duration": 6,
    "start_time": "2022-02-06T20:39:36.077Z"
   },
   {
    "duration": 251,
    "start_time": "2022-02-06T20:39:37.168Z"
   },
   {
    "duration": 253,
    "start_time": "2022-02-06T20:39:40.209Z"
   },
   {
    "duration": 102,
    "start_time": "2022-02-06T20:39:54.252Z"
   },
   {
    "duration": 5,
    "start_time": "2022-02-06T20:39:59.020Z"
   },
   {
    "duration": 6,
    "start_time": "2022-02-06T20:40:01.975Z"
   },
   {
    "duration": 257,
    "start_time": "2022-02-06T20:40:03.535Z"
   },
   {
    "duration": 12,
    "start_time": "2022-02-06T20:40:12.170Z"
   },
   {
    "duration": 349,
    "start_time": "2022-02-06T20:59:41.182Z"
   },
   {
    "duration": 357,
    "start_time": "2022-02-06T20:59:53.819Z"
   },
   {
    "duration": 457,
    "start_time": "2022-02-06T21:00:00.669Z"
   },
   {
    "duration": 368,
    "start_time": "2022-02-06T21:00:20.704Z"
   },
   {
    "duration": 363,
    "start_time": "2022-02-06T21:00:33.721Z"
   },
   {
    "duration": 1518,
    "start_time": "2022-02-07T06:56:34.322Z"
   },
   {
    "duration": 402,
    "start_time": "2022-02-07T06:56:35.842Z"
   },
   {
    "duration": 5948,
    "start_time": "2022-02-07T06:56:37.591Z"
   },
   {
    "duration": 20,
    "start_time": "2022-02-07T06:56:44.428Z"
   },
   {
    "duration": 12,
    "start_time": "2022-02-07T06:56:45.139Z"
   },
   {
    "duration": 12,
    "start_time": "2022-02-07T06:56:45.519Z"
   },
   {
    "duration": 14,
    "start_time": "2022-02-07T06:56:45.667Z"
   },
   {
    "duration": 9,
    "start_time": "2022-02-07T06:56:46.278Z"
   },
   {
    "duration": 22,
    "start_time": "2022-02-07T06:56:46.417Z"
   },
   {
    "duration": 21,
    "start_time": "2022-02-07T06:56:46.604Z"
   },
   {
    "duration": 11,
    "start_time": "2022-02-07T06:56:47.002Z"
   },
   {
    "duration": 10,
    "start_time": "2022-02-07T06:56:47.155Z"
   },
   {
    "duration": 20,
    "start_time": "2022-02-07T06:56:48.027Z"
   },
   {
    "duration": 6,
    "start_time": "2022-02-07T06:56:48.356Z"
   },
   {
    "duration": 237,
    "start_time": "2022-02-07T06:56:49.162Z"
   },
   {
    "duration": 246,
    "start_time": "2022-02-07T06:56:49.521Z"
   },
   {
    "duration": 23,
    "start_time": "2022-02-07T06:56:50.180Z"
   },
   {
    "duration": 156,
    "start_time": "2022-02-07T06:56:50.357Z"
   },
   {
    "duration": 9,
    "start_time": "2022-02-07T06:56:51.049Z"
   },
   {
    "duration": 204,
    "start_time": "2022-02-07T06:56:51.207Z"
   },
   {
    "duration": 7,
    "start_time": "2022-02-07T06:56:52.045Z"
   },
   {
    "duration": 7,
    "start_time": "2022-02-07T06:56:52.260Z"
   },
   {
    "duration": 14,
    "start_time": "2022-02-07T06:56:52.452Z"
   },
   {
    "duration": 11,
    "start_time": "2022-02-07T06:56:52.618Z"
   },
   {
    "duration": 10,
    "start_time": "2022-02-07T06:56:52.787Z"
   },
   {
    "duration": 15,
    "start_time": "2022-02-07T06:56:52.957Z"
   },
   {
    "duration": 15,
    "start_time": "2022-02-07T06:56:53.146Z"
   },
   {
    "duration": 13,
    "start_time": "2022-02-07T06:56:53.338Z"
   },
   {
    "duration": 16,
    "start_time": "2022-02-07T06:56:53.513Z"
   },
   {
    "duration": 416,
    "start_time": "2022-02-07T06:56:53.702Z"
   },
   {
    "duration": 13,
    "start_time": "2022-02-07T06:56:54.120Z"
   },
   {
    "duration": 248,
    "start_time": "2022-02-07T06:56:55.006Z"
   },
   {
    "duration": 10,
    "start_time": "2022-02-07T06:56:56.192Z"
   },
   {
    "duration": 18,
    "start_time": "2022-02-07T06:56:57.587Z"
   },
   {
    "duration": 14,
    "start_time": "2022-02-07T06:56:57.910Z"
   },
   {
    "duration": 11,
    "start_time": "2022-02-07T06:56:58.260Z"
   },
   {
    "duration": 3,
    "start_time": "2022-02-07T06:56:58.492Z"
   },
   {
    "duration": 11,
    "start_time": "2022-02-07T06:56:58.902Z"
   },
   {
    "duration": 377,
    "start_time": "2022-02-07T06:56:59.083Z"
   },
   {
    "duration": 17,
    "start_time": "2022-02-07T06:56:59.463Z"
   },
   {
    "duration": 298,
    "start_time": "2022-02-07T06:56:59.483Z"
   },
   {
    "duration": 7859,
    "start_time": "2022-02-07T06:57:31.635Z"
   },
   {
    "duration": 7689,
    "start_time": "2022-02-07T06:58:12.432Z"
   },
   {
    "duration": 270,
    "start_time": "2022-02-07T06:58:22.249Z"
   },
   {
    "duration": 258,
    "start_time": "2022-02-07T06:59:01.985Z"
   }
  ],
  "kernelspec": {
   "display_name": "Python 3",
   "language": "python",
   "name": "python3"
  },
  "language_info": {
   "codemirror_mode": {
    "name": "ipython",
    "version": 3
   },
   "file_extension": ".py",
   "mimetype": "text/x-python",
   "name": "python",
   "nbconvert_exporter": "python",
   "pygments_lexer": "ipython3",
   "version": "3.8.8"
  },
  "toc": {
   "base_numbering": 1,
   "nav_menu": {},
   "number_sections": true,
   "sideBar": true,
   "skip_h1_title": true,
   "title_cell": "Table of Contents",
   "title_sidebar": "Contents",
   "toc_cell": false,
   "toc_position": {},
   "toc_section_display": true,
   "toc_window_display": false
  }
 },
 "nbformat": 4,
 "nbformat_minor": 5
}
